{
  "nbformat": 4,
  "nbformat_minor": 0,
  "metadata": {
    "colab": {
      "name": "using_unet3+_for_segmentation.ipynb",
      "provenance": [],
      "collapsed_sections": [],
      "authorship_tag": "ABX9TyNFsgVpEHhPDdMspdZ0CZXP",
      "include_colab_link": true
    },
    "kernelspec": {
      "name": "python3",
      "display_name": "Python 3"
    }
  },
  "cells": [
    {
      "cell_type": "markdown",
      "metadata": {
        "id": "view-in-github",
        "colab_type": "text"
      },
      "source": [
        "<a href=\"https://colab.research.google.com/github/s-mostafa-a/lung-cancer-segmentation/blob/master/using_unet3%2B_for_segmentation.ipynb\" target=\"_parent\"><img src=\"https://colab.research.google.com/assets/colab-badge.svg\" alt=\"Open In Colab\"/></a>"
      ]
    },
    {
      "cell_type": "code",
      "metadata": {
        "id": "zBV5uvaDU49w",
        "colab_type": "code",
        "colab": {}
      },
      "source": [
        "def _cn_t_d():\n",
        "  from google.colab import drive\n",
        "  drive.mount(\"/content/drive\")"
      ],
      "execution_count": 1,
      "outputs": []
    },
    {
      "cell_type": "code",
      "metadata": {
        "id": "aHnuBVGxRNmt",
        "colab_type": "code",
        "colab": {}
      },
      "source": [
        "def _untar_data():\n",
        "  !tar -xf ./drive/My\\ Drive/Copy_Task06_Lung.tar -C ./"
      ],
      "execution_count": 2,
      "outputs": []
    },
    {
      "cell_type": "code",
      "metadata": {
        "id": "HAsoOWFCRPD9",
        "colab_type": "code",
        "colab": {}
      },
      "source": [
        "def connect_to_drive():\n",
        "  !mkdir drive\n",
        "  _cn_t_d()\n",
        "  _untar_data()"
      ],
      "execution_count": 3,
      "outputs": []
    },
    {
      "cell_type": "code",
      "metadata": {
        "id": "KDLlJbl9RQay",
        "colab_type": "code",
        "colab": {}
      },
      "source": [
        "def install_all_needed_packages():\n",
        "  !git clone https://github.com/ZJUGiveLab/UNet-Version\n",
        "  !pip install git+git://github.com/jcreinhold/niftidataset.git\n",
        "  !mv ./UNet-Version ./un"
      ],
      "execution_count": 6,
      "outputs": []
    },
    {
      "cell_type": "code",
      "metadata": {
        "id": "U1i4n3h4RpUY",
        "colab_type": "code",
        "colab": {}
      },
      "source": [
        "connect_to_drive()\n",
        "install_all_needed_packages()"
      ],
      "execution_count": 7,
      "outputs": []
    },
    {
      "cell_type": "code",
      "metadata": {
        "id": "2AonEOIrRtgn",
        "colab_type": "code",
        "colab": {
          "base_uri": "https://localhost:8080/",
          "height": 54
        },
        "outputId": "7412ff28-5b68-4d8a-e93d-808bf969b4d5"
      },
      "source": [
        "import numpy as np\n",
        "import os\n",
        "import sys\n",
        "module_path = os.path.abspath(os.path.join('/content/un'))\n",
        "if module_path not in sys.path:\n",
        "    sys.path.append(module_path)\n",
        "print(sys.path)"
      ],
      "execution_count": 8,
      "outputs": [
        {
          "output_type": "stream",
          "text": [
            "['', '/env/python', '/usr/lib/python36.zip', '/usr/lib/python3.6', '/usr/lib/python3.6/lib-dynload', '/usr/local/lib/python3.6/dist-packages', '/usr/lib/python3/dist-packages', '/usr/local/lib/python3.6/dist-packages/IPython/extensions', '/root/.ipython', '/content/un']\n"
          ],
          "name": "stdout"
        }
      ]
    },
    {
      "cell_type": "code",
      "metadata": {
        "id": "gZPVBQ-OXcgK",
        "colab_type": "code",
        "colab": {}
      },
      "source": [
        "from typing import Callable, List, Optional\n",
        "\n",
        "import nibabel as nib\n",
        "import numpy as np\n",
        "from PIL import Image\n",
        "from torch.utils.data.dataset import Dataset\n",
        "from niftidataset.utils import glob_imgs\n",
        "\n",
        "class MyCustom3DConverterTo2D(Dataset):\n",
        "    def __init__(self, source_fns:List[str], target_fns:List[str]):\n",
        "        from torchvision import transforms as tvt\n",
        "        from niftidataset.transforms import ToTensor, TrimIntensity, Normalize, AddChannel\n",
        "        three_d_tfms = tvt.Compose([ToTensor(), AddChannel(), TrimIntensity(-1000.0, 1000.0, 0.0, 255.0), Normalize(is_3d=True)])\n",
        "        self.source_fns, self.target_fns = source_fns, target_fns\n",
        "        if len(self.source_fns) != len(self.target_fns) or len(self.source_fns) == 0:\n",
        "            raise ValueError(f'Number of source and target images must be equal and non-zero')\n",
        "        self.imgs = [three_d_tfms((nib.load(s).get_data(), nib.load(t).get_data())) for s, t in zip(self.source_fns, self.target_fns)]\n",
        "        self.target_mean = self.compute_target_mean()\n",
        "        self.two_d_image = self.convert_images_to_2d()\n",
        "\n",
        "    @classmethod\n",
        "    def setup_from_dir(cls, source_dir:str, target_dir:str):\n",
        "        source_fns, target_fns = glob_imgs(source_dir), glob_imgs(target_dir)\n",
        "        return cls(source_fns, target_fns)\n",
        "\n",
        "    def convert_images_to_2d(self):\n",
        "        from niftidataset.transforms import RandomCrop2D\n",
        "        list_of_2d_tuples = []\n",
        "        for src, tgt in self.imgs:\n",
        "            for i in range(src.shape[0]):\n",
        "                print(src.shape)\n",
        "                list_of_2d_tuples.append(RandomCrop2D(src[i], tgt[i]))\n",
        "        return np.random.shuffle(list_of_2d_tuples)\n",
        "\n",
        "    def compute_target_mean(self):\n",
        "        import numpy as np\n",
        "        means = []\n",
        "        for src, tgt in self.imgs:\n",
        "            means.append(tgt.mean())\n",
        "        return np.asarray(means)\n",
        "\n",
        "    def get_target_mean(self):\n",
        "        return self.target_mean\n",
        "\n",
        "    def __len__(self):\n",
        "        return len(self.two_d_image)\n",
        "\n",
        "    def __getitem__(self, idx:int):\n",
        "        sample = self.two_d_image[idx]\n",
        "        return sample\n",
        "\n",
        "\n",
        "\n",
        "\n",
        "def my_custom_train_val_split(source_dir:str, target_dir:str, valid_pct:float=0.2):\n",
        "    if not (0 < valid_pct < 1):\n",
        "        raise ValueError(f'valid_pct must be between 0 and 1')\n",
        "    source_fns, target_fns = glob_imgs(source_dir), glob_imgs(target_dir)\n",
        "    rand_idx = np.random.permutation(list(range(len(source_fns))))\n",
        "    cut = int(valid_pct * len(source_fns))\n",
        "    return (MyCustom3DConverterTo2D(source_fns=[source_fns[i] for i in rand_idx[cut:]],\n",
        "                                    target_fns=[target_fns[i] for i in rand_idx[cut:]]),\n",
        "            MyCustom3DConverterTo2D(source_fns=[source_fns[i] for i in rand_idx[:cut]],\n",
        "                                    target_fns=[target_fns[i] for i in rand_idx[:cut]]))\n",
        "\n",
        "\n"
      ],
      "execution_count": 1,
      "outputs": []
    },
    {
      "cell_type": "code",
      "metadata": {
        "id": "8BLq-tadZoqm",
        "colab_type": "code",
        "colab": {
          "base_uri": "https://localhost:8080/"
        },
        "outputId": "252bc57a-c77f-4112-c741-80262a93f3f5"
      },
      "source": [
        "np.random.seed(1)\n",
        "train_dir = '/content/Task06_Lung/'\n",
        "tds, vds = my_custom_train_val_split(source_dir=train_dir+'imagesTr', target_dir=train_dir+'labelsTr', valid_pct=0.2)\n"
      ],
      "execution_count": null,
      "outputs": [
        {
          "output_type": "stream",
          "text": [
            "/usr/local/lib/python3.6/dist-packages/ipykernel_launcher.py:17: DeprecationWarning: get_data() is deprecated in favor of get_fdata(), which has a more predictable return type. To obtain get_data() behavior going forward, use numpy.asanyarray(img.dataobj).\n",
            "\n",
            "* deprecated from version: 3.0\n",
            "* Will raise <class 'nibabel.deprecator.ExpiredDeprecationError'> as of version: 5.0\n"
          ],
          "name": "stderr"
        }
      ]
    },
    {
      "cell_type": "code",
      "metadata": {
        "id": "OJWRhJwKai-P",
        "colab_type": "code",
        "colab": {}
      },
      "source": [
        ""
      ],
      "execution_count": null,
      "outputs": []
    }
  ]
}