{
  "nbformat": 4,
  "nbformat_minor": 0,
  "metadata": {
    "colab": {
      "name": "luna_starting.ipynb",
      "provenance": [],
      "authorship_tag": "ABX9TyPon60lAqLRAk0Hab43mex6",
      "include_colab_link": true
    },
    "kernelspec": {
      "name": "python3",
      "display_name": "Python 3"
    }
  },
  "cells": [
    {
      "cell_type": "markdown",
      "metadata": {
        "id": "view-in-github",
        "colab_type": "text"
      },
      "source": [
        "<a href=\"https://colab.research.google.com/github/s-mostafa-a/lung-cancer-segmentation/blob/master/luna_starting.ipynb\" target=\"_parent\"><img src=\"https://colab.research.google.com/assets/colab-badge.svg\" alt=\"Open In Colab\"/></a>"
      ]
    },
    {
      "cell_type": "code",
      "metadata": {
        "id": "7pGt4LnDpXDL",
        "colab_type": "code",
        "colab": {
          "base_uri": "https://localhost:8080/",
          "height": 360
        },
        "outputId": "4a1d0579-f906-41c2-be1b-d77df0bc6e2a"
      },
      "source": [
        "!pip install git+git://github.com/mattmacy/torchbiomed.git\n",
        "!pip install SimpleITK"
      ],
      "execution_count": 5,
      "outputs": [
        {
          "output_type": "stream",
          "text": [
            "Collecting git+git://github.com/mattmacy/torchbiomed.git\n",
            "  Cloning git://github.com/mattmacy/torchbiomed.git to /tmp/pip-req-build-oj_nh0qg\n",
            "  Running command git clone -q git://github.com/mattmacy/torchbiomed.git /tmp/pip-req-build-oj_nh0qg\n",
            "Requirement already satisfied (use --upgrade to upgrade): torchbiomed==0.0.1 from git+git://github.com/mattmacy/torchbiomed.git in /usr/local/lib/python3.6/dist-packages\n",
            "Requirement already satisfied: numpy in /usr/local/lib/python3.6/dist-packages (from torchbiomed==0.0.1) (1.18.5)\n",
            "Requirement already satisfied: torch in /usr/local/lib/python3.6/dist-packages (from torchbiomed==0.0.1) (1.5.1+cu101)\n",
            "Requirement already satisfied: torchvision in /usr/local/lib/python3.6/dist-packages (from torchbiomed==0.0.1) (0.6.1+cu101)\n",
            "Requirement already satisfied: future in /usr/local/lib/python3.6/dist-packages (from torch->torchbiomed==0.0.1) (0.16.0)\n",
            "Requirement already satisfied: pillow>=4.1.1 in /usr/local/lib/python3.6/dist-packages (from torchvision->torchbiomed==0.0.1) (7.0.0)\n",
            "Building wheels for collected packages: torchbiomed\n",
            "  Building wheel for torchbiomed (setup.py) ... \u001b[?25l\u001b[?25hdone\n",
            "  Created wheel for torchbiomed: filename=torchbiomed-0.0.1-py2.py3-none-any.whl size=10974 sha256=31a401e141669940eba77bc2d77fad79efea44fbac8d06b01ed7bef94c918e11\n",
            "  Stored in directory: /tmp/pip-ephem-wheel-cache-rtuy2_gj/wheels/0e/38/99/f0e32a294d9839ca398db5ae025fb8896cdbd6370cd51e89b9\n",
            "Successfully built torchbiomed\n",
            "Collecting SimpleITK\n",
            "\u001b[?25l  Downloading https://files.pythonhosted.org/packages/f8/d8/53338c34f71020725ffb3557846c80af96c29c03bc883551a2565aa68a7c/SimpleITK-1.2.4-cp36-cp36m-manylinux1_x86_64.whl (42.5MB)\n",
            "\u001b[K     |████████████████████████████████| 42.5MB 99kB/s \n",
            "\u001b[?25hInstalling collected packages: SimpleITK\n",
            "Successfully installed SimpleITK-1.2.4\n"
          ],
          "name": "stdout"
        }
      ]
    },
    {
      "cell_type": "code",
      "metadata": {
        "id": "k4GlIc2IMCjK",
        "colab_type": "code",
        "colab": {
          "base_uri": "https://localhost:8080/",
          "height": 511
        },
        "outputId": "18c7bb54-605f-4afe-9b57-e6e8bc8d2e10"
      },
      "source": [
        "import torchbiomed.datasets as dset\n",
        "import torchvision.transforms as transforms\n",
        "\n",
        "seed = 1\n",
        "batch_size = 2\n",
        "# LUNA16 dataset isotropically scaled to 2.5mm^3\n",
        "# and then truncated or zero-padded to 160x128x160\n",
        "normMu = [-642.794]\n",
        "normSigma = [459.512]\n",
        "luna_trans = transforms.Compose([\n",
        "    transforms.ToTensor(),\n",
        "    transforms.Normalize(normMu, normSigma)\n",
        "])\n",
        "trainSet = dset.LUNA16(root='luna16', images=\"luna16_ct_normalized\", targets=\"normalized_brightened_CT_2_5\",\n",
        "                           mode=\"train\", transform=luna_trans, \n",
        "                           class_balance=False, split=[2, 2, 2], seed=seed, masks=\"inferred_seg_lungs_2_5\")\n",
        "trainLoader = DataLoader(trainSet, batch_size=batch_size, shuffle=True)\n",
        "testSet = dset.LUNA16(root='luna16', images=\"luna16_ct_normalized\", targets=\"normalized_brightened_CT_2_5\",\n",
        "                    mode=\"test\", transform=luna_trans, seed=seed, masks=\"inferred_seg_lungs_2_5\", split=[2, 2, 2])\n",
        "testLoader = DataLoader(testSet, batch_size=batch_size, shuffle=False)"
      ],
      "execution_count": 6,
      "outputs": [
        {
          "output_type": "error",
          "ename": "IndexError",
          "evalue": "ignored",
          "traceback": [
            "\u001b[0;31m---------------------------------------------------------------------------\u001b[0m",
            "\u001b[0;31mIndexError\u001b[0m                                Traceback (most recent call last)",
            "\u001b[0;32m<ipython-input-6-27178d87d684>\u001b[0m in \u001b[0;36m<module>\u001b[0;34m()\u001b[0m\n\u001b[1;32m     14\u001b[0m trainSet = dset.LUNA16(root='luna16', images=\"luna16_ct_normalized\", targets=\"normalized_brightened_CT_2_5\",\n\u001b[1;32m     15\u001b[0m                            \u001b[0mmode\u001b[0m\u001b[0;34m=\u001b[0m\u001b[0;34m\"train\"\u001b[0m\u001b[0;34m,\u001b[0m \u001b[0mtransform\u001b[0m\u001b[0;34m=\u001b[0m\u001b[0mluna_trans\u001b[0m\u001b[0;34m,\u001b[0m\u001b[0;34m\u001b[0m\u001b[0;34m\u001b[0m\u001b[0m\n\u001b[0;32m---> 16\u001b[0;31m                            class_balance=False, split=[2, 2, 2], seed=seed, masks=\"inferred_seg_lungs_2_5\")\n\u001b[0m\u001b[1;32m     17\u001b[0m \u001b[0mtrainLoader\u001b[0m \u001b[0;34m=\u001b[0m \u001b[0mDataLoader\u001b[0m\u001b[0;34m(\u001b[0m\u001b[0mtrainSet\u001b[0m\u001b[0;34m,\u001b[0m \u001b[0mbatch_size\u001b[0m\u001b[0;34m=\u001b[0m\u001b[0mbatch_size\u001b[0m\u001b[0;34m,\u001b[0m \u001b[0mshuffle\u001b[0m\u001b[0;34m=\u001b[0m\u001b[0;32mTrue\u001b[0m\u001b[0;34m)\u001b[0m\u001b[0;34m\u001b[0m\u001b[0;34m\u001b[0m\u001b[0m\n\u001b[1;32m     18\u001b[0m testSet = dset.LUNA16(root='luna16', images=\"luna16_ct_normalized\", targets=\"normalized_brightened_CT_2_5\",\n",
            "\u001b[0;32m/usr/local/lib/python3.6/dist-packages/torchbiomed/datasets/luna16.py\u001b[0m in \u001b[0;36m__init__\u001b[0;34m(self, root, images, targets, transform, target_transform, co_transform, mode, seed, class_balance, split, masks, nonempty, test_fraction)\u001b[0m\n\u001b[1;32m    354\u001b[0m             \u001b[0mimgs\u001b[0m \u001b[0;34m=\u001b[0m \u001b[0mfull_dataset\u001b[0m\u001b[0;34m(\u001b[0m\u001b[0mroot\u001b[0m\u001b[0;34m,\u001b[0m \u001b[0mimages\u001b[0m\u001b[0;34m)\u001b[0m\u001b[0;34m\u001b[0m\u001b[0;34m\u001b[0m\u001b[0m\n\u001b[1;32m    355\u001b[0m         \u001b[0;32melse\u001b[0m\u001b[0;34m:\u001b[0m\u001b[0;34m\u001b[0m\u001b[0;34m\u001b[0m\u001b[0m\n\u001b[0;32m--> 356\u001b[0;31m             \u001b[0mimgs\u001b[0m\u001b[0;34m,\u001b[0m \u001b[0mtarget_mean\u001b[0m \u001b[0;34m=\u001b[0m \u001b[0mmake_dataset\u001b[0m\u001b[0;34m(\u001b[0m\u001b[0mroot\u001b[0m\u001b[0;34m,\u001b[0m \u001b[0mimages\u001b[0m\u001b[0;34m,\u001b[0m \u001b[0mtargets\u001b[0m\u001b[0;34m,\u001b[0m \u001b[0mseed\u001b[0m\u001b[0;34m,\u001b[0m \u001b[0mmode\u001b[0m\u001b[0;34m,\u001b[0m \u001b[0mclass_balance\u001b[0m\u001b[0;34m,\u001b[0m \u001b[0msplit\u001b[0m\u001b[0;34m,\u001b[0m \u001b[0mnonempty\u001b[0m\u001b[0;34m,\u001b[0m \u001b[0mtest_fraction\u001b[0m\u001b[0;34m,\u001b[0m \u001b[0mmode\u001b[0m\u001b[0;34m)\u001b[0m\u001b[0;34m\u001b[0m\u001b[0;34m\u001b[0m\u001b[0m\n\u001b[0m\u001b[1;32m    357\u001b[0m             \u001b[0mself\u001b[0m\u001b[0;34m.\u001b[0m\u001b[0mdata_mean\u001b[0m \u001b[0;34m=\u001b[0m \u001b[0mtarget_mean\u001b[0m\u001b[0;34m\u001b[0m\u001b[0;34m\u001b[0m\u001b[0m\n\u001b[1;32m    358\u001b[0m         \u001b[0;32mif\u001b[0m \u001b[0mlen\u001b[0m\u001b[0;34m(\u001b[0m\u001b[0mimgs\u001b[0m\u001b[0;34m)\u001b[0m \u001b[0;34m==\u001b[0m \u001b[0;36m0\u001b[0m\u001b[0;34m:\u001b[0m\u001b[0;34m\u001b[0m\u001b[0;34m\u001b[0m\u001b[0m\n",
            "\u001b[0;32m/usr/local/lib/python3.6/dist-packages/torchbiomed/datasets/luna16.py\u001b[0m in \u001b[0;36mmake_dataset\u001b[0;34m(dir, images, targets, seed, train, class_balance, partition, nonempty, test_fraction, mode)\u001b[0m\n\u001b[1;32m    105\u001b[0m         \u001b[0mlabel_list\u001b[0m\u001b[0;34m.\u001b[0m\u001b[0mappend\u001b[0m\u001b[0;34m(\u001b[0m\u001b[0mos\u001b[0m\u001b[0;34m.\u001b[0m\u001b[0mpath\u001b[0m\u001b[0;34m.\u001b[0m\u001b[0mbasename\u001b[0m\u001b[0;34m(\u001b[0m\u001b[0mname\u001b[0m\u001b[0;34m)\u001b[0m\u001b[0;34m[\u001b[0m\u001b[0;34m:\u001b[0m\u001b[0;34m-\u001b[0m\u001b[0;36m4\u001b[0m\u001b[0;34m]\u001b[0m\u001b[0;34m)\u001b[0m\u001b[0;34m\u001b[0m\u001b[0;34m\u001b[0m\u001b[0m\n\u001b[1;32m    106\u001b[0m \u001b[0;34m\u001b[0m\u001b[0m\n\u001b[0;32m--> 107\u001b[0;31m     \u001b[0msample_label\u001b[0m \u001b[0;34m=\u001b[0m \u001b[0mload_label\u001b[0m\u001b[0;34m(\u001b[0m\u001b[0mlabel_path\u001b[0m\u001b[0;34m,\u001b[0m \u001b[0mlabel_list\u001b[0m\u001b[0;34m[\u001b[0m\u001b[0;36m0\u001b[0m\u001b[0;34m]\u001b[0m\u001b[0;34m)\u001b[0m\u001b[0;34m\u001b[0m\u001b[0;34m\u001b[0m\u001b[0m\n\u001b[0m\u001b[1;32m    108\u001b[0m     \u001b[0mshape\u001b[0m \u001b[0;34m=\u001b[0m \u001b[0mnp\u001b[0m\u001b[0;34m.\u001b[0m\u001b[0mshape\u001b[0m\u001b[0;34m(\u001b[0m\u001b[0msample_label\u001b[0m\u001b[0;34m)\u001b[0m\u001b[0;34m\u001b[0m\u001b[0;34m\u001b[0m\u001b[0m\n\u001b[1;32m    109\u001b[0m     \u001b[0;32mif\u001b[0m \u001b[0mlen\u001b[0m\u001b[0;34m(\u001b[0m\u001b[0mtest_split\u001b[0m\u001b[0;34m)\u001b[0m \u001b[0;34m==\u001b[0m \u001b[0;36m0\u001b[0m\u001b[0;34m:\u001b[0m\u001b[0;34m\u001b[0m\u001b[0;34m\u001b[0m\u001b[0m\n",
            "\u001b[0;31mIndexError\u001b[0m: list index out of range"
          ]
        }
      ]
    },
    {
      "cell_type": "code",
      "metadata": {
        "id": "Zm0UijsqqsVO",
        "colab_type": "code",
        "colab": {
          "base_uri": "https://localhost:8080/",
          "height": 198
        },
        "outputId": "07771be9-0dd6-440e-9997-f93e387330e7"
      },
      "source": [
        "trainSet.shape"
      ],
      "execution_count": 3,
      "outputs": [
        {
          "output_type": "error",
          "ename": "NameError",
          "evalue": "ignored",
          "traceback": [
            "\u001b[0;31m---------------------------------------------------------------------------\u001b[0m",
            "\u001b[0;31mNameError\u001b[0m                                 Traceback (most recent call last)",
            "\u001b[0;32m<ipython-input-3-e0c96d9fadfe>\u001b[0m in \u001b[0;36m<module>\u001b[0;34m()\u001b[0m\n\u001b[0;32m----> 1\u001b[0;31m \u001b[0mtrainSet\u001b[0m\u001b[0;34m.\u001b[0m\u001b[0mshape\u001b[0m\u001b[0;34m\u001b[0m\u001b[0;34m\u001b[0m\u001b[0m\n\u001b[0m",
            "\u001b[0;31mNameError\u001b[0m: name 'trainSet' is not defined"
          ]
        }
      ]
    },
    {
      "cell_type": "code",
      "metadata": {
        "id": "nI7WqVE9qx1F",
        "colab_type": "code",
        "colab": {}
      },
      "source": [
        ""
      ],
      "execution_count": 3,
      "outputs": []
    }
  ]
}