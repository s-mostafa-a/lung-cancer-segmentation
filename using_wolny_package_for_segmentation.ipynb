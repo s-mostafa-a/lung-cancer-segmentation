{
  "nbformat": 4,
  "nbformat_minor": 0,
  "metadata": {
    "colab": {
      "name": "using_wolny_package_for_segmentation.ipynb",
      "provenance": [],
      "collapsed_sections": [],
      "include_colab_link": true
    },
    "kernelspec": {
      "name": "python3",
      "display_name": "Python 3"
    },
    "accelerator": "GPU"
  },
  "cells": [
    {
      "cell_type": "markdown",
      "metadata": {
        "id": "view-in-github",
        "colab_type": "text"
      },
      "source": [
        "<a href=\"https://colab.research.google.com/github/s-mostafa-a/lung-cancer-segmentation/blob/master/using_wolny_package_for_segmentation.ipynb\" target=\"_parent\"><img src=\"https://colab.research.google.com/assets/colab-badge.svg\" alt=\"Open In Colab\"/></a>"
      ]
    },
    {
      "cell_type": "code",
      "metadata": {
        "id": "VqX8FtHFBUsC",
        "colab_type": "code",
        "colab": {}
      },
      "source": [
        "def _cn_t_d():\n",
        "  from google.colab import drive\n",
        "  drive.mount(\"/content/drive\")"
      ],
      "execution_count": 1,
      "outputs": []
    },
    {
      "cell_type": "code",
      "metadata": {
        "id": "anQKAPFR0gVd",
        "colab_type": "code",
        "colab": {}
      },
      "source": [
        "def _untar_data():\n",
        "  !tar -xf ./drive/My\\ Drive/Copy_Task06_Lung.tar -C ./"
      ],
      "execution_count": 2,
      "outputs": []
    },
    {
      "cell_type": "code",
      "metadata": {
        "id": "BIhnVsuZxyD6",
        "colab_type": "code",
        "colab": {}
      },
      "source": [
        "def connect_to_drive():\n",
        "  !mkdir drive\n",
        "  _cn_t_d()\n",
        "  _untar_data()"
      ],
      "execution_count": 3,
      "outputs": []
    },
    {
      "cell_type": "code",
      "metadata": {
        "id": "To7cAfecER4z",
        "colab_type": "code",
        "colab": {}
      },
      "source": [
        "def install_all_needed_packages():\n",
        "  !pip install git+git://github.com/s-mostafa-a/niftidataset.git\n",
        "  !git clone https://github.com/wolny/pytorch-3dunet.git\n",
        "  !pip install hdbscan"
      ],
      "execution_count": 4,
      "outputs": []
    },
    {
      "cell_type": "code",
      "metadata": {
        "id": "5RIFgY_D1Efz",
        "colab_type": "code",
        "colab": {}
      },
      "source": [
        "def make_databunch():\n",
        "  np.random.seed(1)\n",
        "  train_dir = '/content/Task06_Lung/'\n",
        "  patch_sz = 110\n",
        "  tfms = tvt.Compose([RandomCrop3D(patch_sz), ToTensor(), Normalize(mean=[0],std=[1],is_3d=True)])\n",
        "  tds, vds = get_train_and_validation_from_one_directory(source_dir=train_dir+'imagesTr', target_dir=train_dir+'labelsTr', valid_pct=0.2, transform=tfms)\n",
        "  print(len(tds), len(vds))\n",
        "  idb = faiv.ImageDataBunch.create(tds, vds, bs=1, num_workers=1)\n",
        "  return idb"
      ],
      "execution_count": 14,
      "outputs": []
    },
    {
      "cell_type": "code",
      "metadata": {
        "id": "1YiXgGF-cFe4",
        "colab_type": "code",
        "colab": {}
      },
      "source": [
        "def make_learner(idb):\n",
        "  model = UNet3D(in_channels=1, out_channels=1, final_sigmoid=True)\n",
        "  metric = metrics.DiceCoefficient()\n",
        "  metric.__name__ = 'DiceCoefficient'\n",
        "  learner = faiv.Learner(idb, model, loss_func=losses.BCEDiceLoss(alpha=0.3, beta=0.7), metrics=[metric], opt_func=torch.optim.Adam)\n",
        "  return learner\n"
      ],
      "execution_count": 19,
      "outputs": []
    },
    {
      "cell_type": "code",
      "metadata": {
        "id": "azBce_D2eNXn",
        "colab_type": "code",
        "colab": {}
      },
      "source": [
        "# connect_to_drive()\n",
        "# install_all_needed_packages()\n",
        "\n",
        "\n",
        "#imports\n",
        "import numpy as np\n",
        "import os\n",
        "import sys\n",
        "module_path = os.path.abspath(os.path.join('/content/pytorch-3dunet/'))\n",
        "if module_path not in sys.path:\n",
        "    sys.path.append(module_path)\n",
        "from pytorch3dunet.unet3d.model import UNet3D, ResidualUNet3D\n",
        "from pytorch3dunet.unet3d import losses\n",
        "from pytorch3dunet.unet3d import metrics\n",
        "from niftidataset import get_train_and_validation_from_one_directory, RandomCrop3D, ToTensor, Normalize\n",
        "from torchvision import transforms as tvt\n",
        "from torch.nn import BCEWithLogitsLoss\n",
        "import torch \n",
        "from fastai import vision as faiv\n",
        "%matplotlib inline\n",
        "%load_ext autoreload\n",
        "%autoreload 2\n",
        "!export CUDA_LAUNCH_BLOCKING=1\n",
        "#imports/\n",
        "\n",
        "\n",
        "idb = make_databunch()\n",
        "learner = make_learner(idb)\n",
        "\n",
        "\n",
        "learner.lr_find(start_lr=1e-10, end_lr=10)\n",
        "learner.recorder.plot()\n",
        "# found that 1e+00 works fine"
      ],
      "execution_count": null,
      "outputs": []
    },
    {
      "cell_type": "markdown",
      "metadata": {
        "id": "DVu8ZDbguZ9N",
        "colab_type": "text"
      },
      "source": [
        "**Loading the model from drive:**"
      ]
    },
    {
      "cell_type": "code",
      "metadata": {
        "id": "v8Ym27j9BvxK",
        "colab_type": "code",
        "colab": {}
      },
      "source": [
        "model_name = '3d_lung_seg_model'"
      ],
      "execution_count": 21,
      "outputs": []
    },
    {
      "cell_type": "code",
      "metadata": {
        "id": "09tfGulHBoH_",
        "colab_type": "code",
        "colab": {}
      },
      "source": [
        "!rm -r ./models\n",
        "!mkdir ./models\n",
        "!cp ./drive/My\\ Drive/3d_lung_seg_model.pth ./models/3d_lung_seg_model.pth "
      ],
      "execution_count": 22,
      "outputs": []
    },
    {
      "cell_type": "code",
      "metadata": {
        "id": "natTwtW5BwR4",
        "colab_type": "code",
        "colab": {}
      },
      "source": [
        "learner.load(model_name)"
      ],
      "execution_count": null,
      "outputs": []
    },
    {
      "cell_type": "code",
      "metadata": {
        "id": "nTYuCrRbfr47",
        "colab_type": "code",
        "colab": {
          "base_uri": "https://localhost:8080/",
          "height": 95
        },
        "outputId": "a42e09c8-a9d8-4a89-82fa-4bb31907ad21"
      },
      "source": [
        "learner.fit_one_cycle(10, max_lr=slice(1e-01), pct_start=0.5)"
      ],
      "execution_count": null,
      "outputs": [
        {
          "output_type": "display_data",
          "data": {
            "text/html": [
              "\n",
              "    <div>\n",
              "        <style>\n",
              "            /* Turns off some styling */\n",
              "            progress {\n",
              "                /* gets rid of default border in Firefox and Opera. */\n",
              "                border: none;\n",
              "                /* Needs to be in here for Safari polyfill so background images work as expected. */\n",
              "                background-size: auto;\n",
              "            }\n",
              "            .progress-bar-interrupted, .progress-bar-interrupted::-webkit-progress-bar {\n",
              "                background: #F44336;\n",
              "            }\n",
              "        </style>\n",
              "      <progress value='0' class='' max='10' style='width:300px; height:20px; vertical-align: middle;'></progress>\n",
              "      0.00% [0/10 00:00<00:00]\n",
              "    </div>\n",
              "    \n",
              "<table border=\"1\" class=\"dataframe\">\n",
              "  <thead>\n",
              "    <tr style=\"text-align: left;\">\n",
              "      <th>epoch</th>\n",
              "      <th>train_loss</th>\n",
              "      <th>valid_loss</th>\n",
              "      <th>DiceCoefficient</th>\n",
              "      <th>time</th>\n",
              "    </tr>\n",
              "  </thead>\n",
              "  <tbody>\n",
              "  </tbody>\n",
              "</table><p>\n",
              "\n",
              "    <div>\n",
              "        <style>\n",
              "            /* Turns off some styling */\n",
              "            progress {\n",
              "                /* gets rid of default border in Firefox and Opera. */\n",
              "                border: none;\n",
              "                /* Needs to be in here for Safari polyfill so background images work as expected. */\n",
              "                background-size: auto;\n",
              "            }\n",
              "            .progress-bar-interrupted, .progress-bar-interrupted::-webkit-progress-bar {\n",
              "                background: #F44336;\n",
              "            }\n",
              "        </style>\n",
              "      <progress value='7' class='' max='51' style='width:300px; height:20px; vertical-align: middle;'></progress>\n",
              "      13.73% [7/51 01:19<08:18 32.9881]\n",
              "    </div>\n",
              "    "
            ],
            "text/plain": [
              "<IPython.core.display.HTML object>"
            ]
          },
          "metadata": {
            "tags": []
          }
        }
      ]
    },
    {
      "cell_type": "markdown",
      "metadata": {
        "id": "0dLjDpWKbFlw",
        "colab_type": "text"
      },
      "source": [
        "As mentioned in the paper [Tversky loss function for image segmentation using 3D fully convolutional deep networks](https://arxiv.org/pdf/1706.05721.pdf), training process takes about 1000 epochs and best result is when beta equals to 0.7 (and alpha is 0.3)."
      ]
    },
    {
      "cell_type": "markdown",
      "metadata": {
        "id": "BSzo3CH1uPke",
        "colab_type": "text"
      },
      "source": [
        "**Saving model to drive:**"
      ]
    },
    {
      "cell_type": "code",
      "metadata": {
        "id": "-oDohsQou-1X",
        "colab_type": "code",
        "colab": {}
      },
      "source": [
        "learner.save(model_name)\n",
        "learner.load(model_name)"
      ],
      "execution_count": null,
      "outputs": []
    },
    {
      "cell_type": "code",
      "metadata": {
        "id": "AWmHVpaVs5kX",
        "colab_type": "code",
        "colab": {}
      },
      "source": [
        "!cp ./models/3d_lung_seg_model.pth ./drive/My\\ Drive/3d_lung_seg_model.pth"
      ],
      "execution_count": null,
      "outputs": []
    },
    {
      "cell_type": "code",
      "metadata": {
        "id": "cEqx3zJKCezz",
        "colab_type": "code",
        "colab": {}
      },
      "source": [
        ""
      ],
      "execution_count": null,
      "outputs": []
    }
  ]
}