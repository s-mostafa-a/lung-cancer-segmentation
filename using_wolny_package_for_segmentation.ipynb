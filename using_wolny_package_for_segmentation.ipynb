{
  "nbformat": 4,
  "nbformat_minor": 0,
  "metadata": {
    "colab": {
      "name": "using_wolny_package_for_segmentation.ipynb",
      "provenance": [],
      "collapsed_sections": [],
      "include_colab_link": true
    },
    "kernelspec": {
      "name": "python3",
      "display_name": "Python 3"
    },
    "accelerator": "GPU"
  },
  "cells": [
    {
      "cell_type": "markdown",
      "metadata": {
        "id": "view-in-github",
        "colab_type": "text"
      },
      "source": [
        "<a href=\"https://colab.research.google.com/github/s-mostafa-a/lung-cancer-segmentation/blob/master/using_wolny_package_for_segmentation.ipynb\" target=\"_parent\"><img src=\"https://colab.research.google.com/assets/colab-badge.svg\" alt=\"Open In Colab\"/></a>"
      ]
    },
    {
      "cell_type": "code",
      "metadata": {
        "id": "VqX8FtHFBUsC",
        "colab_type": "code",
        "colab": {}
      },
      "source": [
        "def _cn_t_d():\n",
        "  from google.colab import drive\n",
        "  drive.mount(\"/content/drive\")"
      ],
      "execution_count": null,
      "outputs": []
    },
    {
      "cell_type": "code",
      "metadata": {
        "id": "anQKAPFR0gVd",
        "colab_type": "code",
        "colab": {}
      },
      "source": [
        "def _untar_data():\n",
        "  !tar -xf ./drive/My\\ Drive/Copy_Task06_Lung.tar -C ./"
      ],
      "execution_count": null,
      "outputs": []
    },
    {
      "cell_type": "code",
      "metadata": {
        "id": "BIhnVsuZxyD6",
        "colab_type": "code",
        "colab": {}
      },
      "source": [
        "def connect_to_drive():\n",
        "  !mkdir drive\n",
        "  _cn_t_d()\n",
        "  _untar_data()"
      ],
      "execution_count": null,
      "outputs": []
    },
    {
      "cell_type": "code",
      "metadata": {
        "id": "To7cAfecER4z",
        "colab_type": "code",
        "colab": {}
      },
      "source": [
        "def install_all_needed_packages():\n",
        "  !pip install git+git://github.com/s-mostafa-a/niftidataset.git\n",
        "  !git clone https://github.com/wolny/pytorch-3dunet.git\n",
        "  !pip install hdbscan\n",
        "  !mv ./pytorch-3dunet ./p3dun"
      ],
      "execution_count": null,
      "outputs": []
    },
    {
      "cell_type": "code",
      "metadata": {
        "id": "5RIFgY_D1Efz",
        "colab_type": "code",
        "colab": {}
      },
      "source": [
        "def make_databunch():\n",
        "  np.random.seed(1)\n",
        "  train_dir = '/content/Task06_Lung/'\n",
        "  tfms = tvt.Compose([ToTensor(), RandomCrop3D((512,512,110)), TrimIntensity(-1000.0,1000.0,0.0,255.0), Normalize(is_3d=True)])\n",
        "  tds, vds = train_val_split(source_dir=train_dir+'imagesTr', target_dir=train_dir+'labelsTr', valid_pct=0.2, transform=tfms)\n",
        "  print(len(tds), len(vds))\n",
        "  idb = faiv.ImageDataBunch.create(tds, vds, bs=1, num_workers=1)\n",
        "  return idb"
      ],
      "execution_count": null,
      "outputs": []
    },
    {
      "cell_type": "code",
      "metadata": {
        "id": "1YiXgGF-cFe4",
        "colab_type": "code",
        "colab": {}
      },
      "source": [
        "def make_learner(idb):\n",
        "  model = UNet3D(in_channels=1, out_channels=1, final_sigmoid=True)\n",
        "  metric = metrics.DiceCoefficient()\n",
        "  metric.__name__ = 'DiceCoefficient'\n",
        "  learner = faiv.Learner(idb, model, loss_func=losses.BCEDiceLoss(alpha=0.3, beta=0.7), metrics=[metric], opt_func=torch.optim.Adam)\n",
        "  return learner\n"
      ],
      "execution_count": null,
      "outputs": []
    },
    {
      "cell_type": "code",
      "metadata": {
        "id": "0JydO7JulNEf",
        "colab_type": "code",
        "colab": {}
      },
      "source": [
        "connect_to_drive()\n",
        "install_all_needed_packages()"
      ],
      "execution_count": null,
      "outputs": []
    },
    {
      "cell_type": "code",
      "metadata": {
        "id": "Ev1K3wBJDsGT",
        "colab_type": "code",
        "colab": {
          "base_uri": "https://localhost:8080/"
        },
        "outputId": "cdb85d42-e05f-4436-aee9-764a69712fde"
      },
      "source": [
        "import numpy as np\n",
        "import os\n",
        "import sys\n",
        "module_path = os.path.abspath(os.path.join('./p3dun/'))\n",
        "if module_path not in sys.path:\n",
        "    sys.path.append(module_path)"
      ],
      "execution_count": null,
      "outputs": [
        {
          "output_type": "stream",
          "text": [
            "mkdir: cannot create directory ‘drive’: File exists\n",
            "Drive already mounted at /content/drive; to attempt to forcibly remount, call drive.mount(\"/content/drive\", force_remount=True).\n",
            "\n",
            "\n",
            "Collecting git+git://github.com/s-mostafa-a/niftidataset.git\n",
            "  Cloning git://github.com/s-mostafa-a/niftidataset.git to /tmp/pip-req-build-t30vwpue\n",
            "  Running command git clone -q git://github.com/s-mostafa-a/niftidataset.git /tmp/pip-req-build-t30vwpue\n",
            "Requirement already satisfied (use --upgrade to upgrade): niftidataset==0.2.0 from git+git://github.com/s-mostafa-a/niftidataset.git in /usr/local/lib/python3.6/dist-packages\n",
            "Requirement already satisfied: nibabel>=2.3.1 in /usr/local/lib/python3.6/dist-packages (from niftidataset==0.2.0) (3.0.2)\n",
            "Requirement already satisfied: numpy>=1.15.4 in /usr/local/lib/python3.6/dist-packages (from niftidataset==0.2.0) (1.18.5)\n",
            "Requirement already satisfied: pillow>=5.3.0 in /usr/local/lib/python3.6/dist-packages (from niftidataset==0.2.0) (7.0.0)\n",
            "Requirement already satisfied: torch>=1.0.0 in /usr/local/lib/python3.6/dist-packages (from niftidataset==0.2.0) (1.5.1+cu101)\n",
            "Requirement already satisfied: torchvision>=0.2.1 in /usr/local/lib/python3.6/dist-packages (from niftidataset==0.2.0) (0.6.1+cu101)\n",
            "Requirement already satisfied: future in /usr/local/lib/python3.6/dist-packages (from torch>=1.0.0->niftidataset==0.2.0) (0.16.0)\n",
            "Building wheels for collected packages: niftidataset\n",
            "  Building wheel for niftidataset (setup.py) ... \u001b[?25l\u001b[?25hdone\n",
            "  Created wheel for niftidataset: filename=niftidataset-0.2.0-cp36-none-any.whl size=12356 sha256=5a1abfb75db5775f3cce11ac09be422000f60ac42f7d75c21e831acc6687faa1\n",
            "  Stored in directory: /tmp/pip-ephem-wheel-cache-mv3axvpd/wheels/90/80/c0/09c0a7dbe8a2902eeca8ebc007b7cbe2b5a06389d3f71d54f9\n",
            "Successfully built niftidataset\n",
            "Cloning into 'pytorch-3dunet'...\n",
            "remote: Enumerating objects: 372, done.\u001b[K\n",
            "remote: Counting objects: 100% (372/372), done.\u001b[K\n",
            "remote: Compressing objects: 100% (218/218), done.\u001b[K\n",
            "remote: Total 2723 (delta 238), reused 264 (delta 151), pack-reused 2351\u001b[K\n",
            "Receiving objects: 100% (2723/2723), 296.96 MiB | 21.79 MiB/s, done.\n",
            "Resolving deltas: 100% (1803/1803), done.\n",
            "Requirement already satisfied: hdbscan in /usr/local/lib/python3.6/dist-packages (0.8.26)\n",
            "Requirement already satisfied: six in /usr/local/lib/python3.6/dist-packages (from hdbscan) (1.12.0)\n",
            "Requirement already satisfied: numpy>=1.16.0 in /usr/local/lib/python3.6/dist-packages (from hdbscan) (1.18.5)\n",
            "Requirement already satisfied: scikit-learn>=0.17 in /usr/local/lib/python3.6/dist-packages (from hdbscan) (0.22.2.post1)\n",
            "Requirement already satisfied: cython>=0.27 in /usr/local/lib/python3.6/dist-packages (from hdbscan) (0.29.20)\n",
            "Requirement already satisfied: scipy>=0.9 in /usr/local/lib/python3.6/dist-packages (from hdbscan) (1.4.1)\n",
            "Requirement already satisfied: joblib in /usr/local/lib/python3.6/dist-packages (from hdbscan) (0.15.1)\n"
          ],
          "name": "stdout"
        }
      ]
    },
    {
      "cell_type": "code",
      "metadata": {
        "id": "GhwNjlyCtS2o",
        "colab_type": "code",
        "colab": {}
      },
      "source": [
        "from p3dun.pytorch3dunet.unet3d.model import UNet3D, ResidualUNet3D\n",
        "from pytorch3dunet.unet3d import losses\n",
        "from pytorch3dunet.unet3d import metrics\n",
        "from niftidataset import NiftiDataset, train_val_split, RandomCrop3D, ToTensor, Normalize, TrimIntensity\n",
        "from torchvision import transforms as tvt\n",
        "from torch.nn import BCEWithLogitsLoss\n",
        "import torch \n",
        "from fastai import vision as faiv\n",
        "%matplotlib inline\n",
        "%load_ext autoreload\n",
        "%autoreload 2\n",
        "!export CUDA_LAUNCH_BLOCKING=1"
      ],
      "execution_count": null,
      "outputs": []
    },
    {
      "cell_type": "code",
      "metadata": {
        "id": "1U4bnBFtvL_6",
        "colab_type": "code",
        "colab": {}
      },
      "source": [
        "from typing import Callable, List, Optional\n",
        "import nibabel as nib\n",
        "import numpy as np\n",
        "from PIL import Image\n",
        "from torch.utils.data.dataset import Dataset\n",
        "from glob import glob\n",
        "\n",
        "def glob_imgs(path: str, ext='*.nii*') -> List[str]:\n",
        "    \"\"\" grab all `ext` files in a directory and sort them for consistency \"\"\"\n",
        "    fns = sorted(glob(os.path.join(path, ext)))\n",
        "    return fns\n",
        "\n",
        "class ChangedNiftiDataset(Dataset):\n",
        "    \"\"\"\n",
        "    create a dataset class in PyTorch for reading NIfTI files\n",
        "\n",
        "    Args:\n",
        "        source_fns (List[str]): list of paths to source images\n",
        "        target_fns (List[str]): list of paths to target images\n",
        "        transform (Callable): transform to apply to both source and target images\n",
        "        preload (bool): load all data when initializing the dataset\n",
        "    \"\"\"\n",
        "\n",
        "    def __init__(self, source_fns:List[str], target_fns:List[str], transform:Optional[Callable]=None, preload:bool=False):\n",
        "        self.source_fns, self.target_fns = source_fns, target_fns\n",
        "        self.transform = transform\n",
        "        self.preload = True\n",
        "        self.source_fns *= 5\n",
        "        self.target_fns *= 5\n",
        "        print(f'{self.source_fns}\\n{self.target_fns}')\n",
        "        self.imgs = [(nib.load(s).get_data(), nib.load(t).get_data())\n",
        "                         for s, t in zip(self.source_fns, self.target_fns)]\n",
        "\n",
        "    @classmethod\n",
        "    def setup_from_dir(cls, source_dir:str, target_dir:str, transform:Optional[Callable]=None, preload:bool=False):\n",
        "        source_fns, target_fns = glob_imgs(source_dir), glob_imgs(target_dir)\n",
        "        return cls(source_fns, target_fns, transform, preload)\n",
        "\n",
        "    def __len__(self):\n",
        "        return len(self.source_fns)\n",
        "\n",
        "    def __getitem__(self, idx:int):\n",
        "        if not self.preload:\n",
        "            src_fn, tgt_fn = self.source_fns[idx], self.target_fns[idx]\n",
        "            sample = (nib.load(src_fn).get_fdata(dtype=np.float32), nib.load(tgt_fn).get_fdata(dtype=np.float32))\n",
        "        else:\n",
        "            sample = self.imgs[idx]\n",
        "        if self.transform is not None:\n",
        "            sample = self.transform(sample)\n",
        "        return sample\n",
        "\n",
        "\n",
        "def changed_train_val_split(source_dir:str, target_dir:str, valid_pct:float=0.2,\n",
        "                    transform:Optional[Callable]=None, preload:bool=False):\n",
        "    \"\"\"\n",
        "    create two separate NiftiDatasets in PyTorch for working with NifTi files. If a directory contains source files\n",
        "    and the other one contains target files and also you dont have a specific directory for validation set,\n",
        "    this function splits data to two NiftiDatasets randomly with given percentage.\n",
        "\n",
        "    Args:\n",
        "        source_dir (str): path to source images.\n",
        "        target_dir (str): path to target images.\n",
        "        valid_pct (float): percent of validation set from data.\n",
        "        transform (Callable): transform to apply to both source and target images.\n",
        "        preload: load all data when initializing the dataset\n",
        "    Returns:\n",
        "        Tuple: (train_dataset, validation_dataset).\n",
        "    \"\"\"\n",
        "    if not (0 < valid_pct < 1):\n",
        "        raise ValueError(f'valid_pct must be between 0 and 1')\n",
        "    source_fns, target_fns = glob_imgs(source_dir), glob_imgs(target_dir)\n",
        "    rand_idx = np.random.permutation(list(range(len(source_fns))))\n",
        "    cut = int(valid_pct * len(source_fns))\n",
        "    return (ChangedNiftiDataset(source_fns=[source_fns[i] for i in rand_idx[cut:]],\n",
        "                         target_fns=[target_fns[i] for i in rand_idx[cut:]],\n",
        "                         transform=transform, preload=preload),\n",
        "            ChangedNiftiDataset(source_fns=[source_fns[i] for i in rand_idx[:cut]],\n",
        "                         target_fns=[target_fns[i] for i in rand_idx[:cut]],\n",
        "                         transform=transform, preload=preload))\n",
        "\n"
      ],
      "execution_count": null,
      "outputs": []
    },
    {
      "cell_type": "code",
      "metadata": {
        "id": "feooXTtb-mlS",
        "colab_type": "code",
        "colab": {
          "base_uri": "https://localhost:8080/",
          "height": 139
        },
        "outputId": "2f3bcaf0-04a5-45e8-e1ad-caab4b07a62c"
      },
      "source": [
        "# np.random.seed(1)\n",
        "# train_dir = '/content/Task06_Lung/'\n",
        "# tfms = tvt.Compose([ToTensor(), Normalize()])\n",
        "# tds, vds = changed_train_val_split(source_dir=train_dir+'imagesTr', target_dir=train_dir+'labelsTr', valid_pct=0.2, transform=tfms)"
      ],
      "execution_count": null,
      "outputs": [
        {
          "output_type": "stream",
          "text": [
            "['/content/Task06_Lung/imagesTr/lung_053.nii.gz', '/content/Task06_Lung/imagesTr/lung_042.nii.gz', '/content/Task06_Lung/imagesTr/lung_083.nii.gz', '/content/Task06_Lung/imagesTr/lung_071.nii.gz', '/content/Task06_Lung/imagesTr/lung_005.nii.gz', '/content/Task06_Lung/imagesTr/lung_059.nii.gz', '/content/Task06_Lung/imagesTr/lung_054.nii.gz', '/content/Task06_Lung/imagesTr/lung_018.nii.gz', '/content/Task06_Lung/imagesTr/lung_081.nii.gz', '/content/Task06_Lung/imagesTr/lung_031.nii.gz', '/content/Task06_Lung/imagesTr/lung_051.nii.gz', '/content/Task06_Lung/imagesTr/lung_092.nii.gz', '/content/Task06_Lung/imagesTr/lung_028.nii.gz', '/content/Task06_Lung/imagesTr/lung_080.nii.gz', '/content/Task06_Lung/imagesTr/lung_078.nii.gz', '/content/Task06_Lung/imagesTr/lung_070.nii.gz', '/content/Task06_Lung/imagesTr/lung_049.nii.gz', '/content/Task06_Lung/imagesTr/lung_074.nii.gz', '/content/Task06_Lung/imagesTr/lung_047.nii.gz', '/content/Task06_Lung/imagesTr/lung_086.nii.gz', '/content/Task06_Lung/imagesTr/lung_023.nii.gz', '/content/Task06_Lung/imagesTr/lung_036.nii.gz', '/content/Task06_Lung/imagesTr/lung_048.nii.gz', '/content/Task06_Lung/imagesTr/lung_046.nii.gz', '/content/Task06_Lung/imagesTr/lung_073.nii.gz', '/content/Task06_Lung/imagesTr/lung_037.nii.gz', '/content/Task06_Lung/imagesTr/lung_006.nii.gz', '/content/Task06_Lung/imagesTr/lung_025.nii.gz', '/content/Task06_Lung/imagesTr/lung_045.nii.gz', '/content/Task06_Lung/imagesTr/lung_044.nii.gz', '/content/Task06_Lung/imagesTr/lung_084.nii.gz', '/content/Task06_Lung/imagesTr/lung_069.nii.gz', '/content/Task06_Lung/imagesTr/lung_029.nii.gz', '/content/Task06_Lung/imagesTr/lung_096.nii.gz', '/content/Task06_Lung/imagesTr/lung_033.nii.gz', '/content/Task06_Lung/imagesTr/lung_041.nii.gz', '/content/Task06_Lung/imagesTr/lung_010.nii.gz', '/content/Task06_Lung/imagesTr/lung_066.nii.gz', '/content/Task06_Lung/imagesTr/lung_014.nii.gz', '/content/Task06_Lung/imagesTr/lung_093.nii.gz', '/content/Task06_Lung/imagesTr/lung_003.nii.gz', '/content/Task06_Lung/imagesTr/lung_027.nii.gz', '/content/Task06_Lung/imagesTr/lung_001.nii.gz', '/content/Task06_Lung/imagesTr/lung_026.nii.gz', '/content/Task06_Lung/imagesTr/lung_009.nii.gz', '/content/Task06_Lung/imagesTr/lung_020.nii.gz', '/content/Task06_Lung/imagesTr/lung_016.nii.gz', '/content/Task06_Lung/imagesTr/lung_015.nii.gz', '/content/Task06_Lung/imagesTr/lung_022.nii.gz', '/content/Task06_Lung/imagesTr/lung_064.nii.gz', '/content/Task06_Lung/imagesTr/lung_055.nii.gz', '/content/Task06_Lung/imagesTr/lung_053.nii.gz', '/content/Task06_Lung/imagesTr/lung_042.nii.gz', '/content/Task06_Lung/imagesTr/lung_083.nii.gz', '/content/Task06_Lung/imagesTr/lung_071.nii.gz', '/content/Task06_Lung/imagesTr/lung_005.nii.gz', '/content/Task06_Lung/imagesTr/lung_059.nii.gz', '/content/Task06_Lung/imagesTr/lung_054.nii.gz', '/content/Task06_Lung/imagesTr/lung_018.nii.gz', '/content/Task06_Lung/imagesTr/lung_081.nii.gz', '/content/Task06_Lung/imagesTr/lung_031.nii.gz', '/content/Task06_Lung/imagesTr/lung_051.nii.gz', '/content/Task06_Lung/imagesTr/lung_092.nii.gz', '/content/Task06_Lung/imagesTr/lung_028.nii.gz', '/content/Task06_Lung/imagesTr/lung_080.nii.gz', '/content/Task06_Lung/imagesTr/lung_078.nii.gz', '/content/Task06_Lung/imagesTr/lung_070.nii.gz', '/content/Task06_Lung/imagesTr/lung_049.nii.gz', '/content/Task06_Lung/imagesTr/lung_074.nii.gz', '/content/Task06_Lung/imagesTr/lung_047.nii.gz', '/content/Task06_Lung/imagesTr/lung_086.nii.gz', '/content/Task06_Lung/imagesTr/lung_023.nii.gz', '/content/Task06_Lung/imagesTr/lung_036.nii.gz', '/content/Task06_Lung/imagesTr/lung_048.nii.gz', '/content/Task06_Lung/imagesTr/lung_046.nii.gz', '/content/Task06_Lung/imagesTr/lung_073.nii.gz', '/content/Task06_Lung/imagesTr/lung_037.nii.gz', '/content/Task06_Lung/imagesTr/lung_006.nii.gz', '/content/Task06_Lung/imagesTr/lung_025.nii.gz', '/content/Task06_Lung/imagesTr/lung_045.nii.gz', '/content/Task06_Lung/imagesTr/lung_044.nii.gz', '/content/Task06_Lung/imagesTr/lung_084.nii.gz', '/content/Task06_Lung/imagesTr/lung_069.nii.gz', '/content/Task06_Lung/imagesTr/lung_029.nii.gz', '/content/Task06_Lung/imagesTr/lung_096.nii.gz', '/content/Task06_Lung/imagesTr/lung_033.nii.gz', '/content/Task06_Lung/imagesTr/lung_041.nii.gz', '/content/Task06_Lung/imagesTr/lung_010.nii.gz', '/content/Task06_Lung/imagesTr/lung_066.nii.gz', '/content/Task06_Lung/imagesTr/lung_014.nii.gz', '/content/Task06_Lung/imagesTr/lung_093.nii.gz', '/content/Task06_Lung/imagesTr/lung_003.nii.gz', '/content/Task06_Lung/imagesTr/lung_027.nii.gz', '/content/Task06_Lung/imagesTr/lung_001.nii.gz', '/content/Task06_Lung/imagesTr/lung_026.nii.gz', '/content/Task06_Lung/imagesTr/lung_009.nii.gz', '/content/Task06_Lung/imagesTr/lung_020.nii.gz', '/content/Task06_Lung/imagesTr/lung_016.nii.gz', '/content/Task06_Lung/imagesTr/lung_015.nii.gz', '/content/Task06_Lung/imagesTr/lung_022.nii.gz', '/content/Task06_Lung/imagesTr/lung_064.nii.gz', '/content/Task06_Lung/imagesTr/lung_055.nii.gz', '/content/Task06_Lung/imagesTr/lung_053.nii.gz', '/content/Task06_Lung/imagesTr/lung_042.nii.gz', '/content/Task06_Lung/imagesTr/lung_083.nii.gz', '/content/Task06_Lung/imagesTr/lung_071.nii.gz', '/content/Task06_Lung/imagesTr/lung_005.nii.gz', '/content/Task06_Lung/imagesTr/lung_059.nii.gz', '/content/Task06_Lung/imagesTr/lung_054.nii.gz', '/content/Task06_Lung/imagesTr/lung_018.nii.gz', '/content/Task06_Lung/imagesTr/lung_081.nii.gz', '/content/Task06_Lung/imagesTr/lung_031.nii.gz', '/content/Task06_Lung/imagesTr/lung_051.nii.gz', '/content/Task06_Lung/imagesTr/lung_092.nii.gz', '/content/Task06_Lung/imagesTr/lung_028.nii.gz', '/content/Task06_Lung/imagesTr/lung_080.nii.gz', '/content/Task06_Lung/imagesTr/lung_078.nii.gz', '/content/Task06_Lung/imagesTr/lung_070.nii.gz', '/content/Task06_Lung/imagesTr/lung_049.nii.gz', '/content/Task06_Lung/imagesTr/lung_074.nii.gz', '/content/Task06_Lung/imagesTr/lung_047.nii.gz', '/content/Task06_Lung/imagesTr/lung_086.nii.gz', '/content/Task06_Lung/imagesTr/lung_023.nii.gz', '/content/Task06_Lung/imagesTr/lung_036.nii.gz', '/content/Task06_Lung/imagesTr/lung_048.nii.gz', '/content/Task06_Lung/imagesTr/lung_046.nii.gz', '/content/Task06_Lung/imagesTr/lung_073.nii.gz', '/content/Task06_Lung/imagesTr/lung_037.nii.gz', '/content/Task06_Lung/imagesTr/lung_006.nii.gz', '/content/Task06_Lung/imagesTr/lung_025.nii.gz', '/content/Task06_Lung/imagesTr/lung_045.nii.gz', '/content/Task06_Lung/imagesTr/lung_044.nii.gz', '/content/Task06_Lung/imagesTr/lung_084.nii.gz', '/content/Task06_Lung/imagesTr/lung_069.nii.gz', '/content/Task06_Lung/imagesTr/lung_029.nii.gz', '/content/Task06_Lung/imagesTr/lung_096.nii.gz', '/content/Task06_Lung/imagesTr/lung_033.nii.gz', '/content/Task06_Lung/imagesTr/lung_041.nii.gz', '/content/Task06_Lung/imagesTr/lung_010.nii.gz', '/content/Task06_Lung/imagesTr/lung_066.nii.gz', '/content/Task06_Lung/imagesTr/lung_014.nii.gz', '/content/Task06_Lung/imagesTr/lung_093.nii.gz', '/content/Task06_Lung/imagesTr/lung_003.nii.gz', '/content/Task06_Lung/imagesTr/lung_027.nii.gz', '/content/Task06_Lung/imagesTr/lung_001.nii.gz', '/content/Task06_Lung/imagesTr/lung_026.nii.gz', '/content/Task06_Lung/imagesTr/lung_009.nii.gz', '/content/Task06_Lung/imagesTr/lung_020.nii.gz', '/content/Task06_Lung/imagesTr/lung_016.nii.gz', '/content/Task06_Lung/imagesTr/lung_015.nii.gz', '/content/Task06_Lung/imagesTr/lung_022.nii.gz', '/content/Task06_Lung/imagesTr/lung_064.nii.gz', '/content/Task06_Lung/imagesTr/lung_055.nii.gz', '/content/Task06_Lung/imagesTr/lung_053.nii.gz', '/content/Task06_Lung/imagesTr/lung_042.nii.gz', '/content/Task06_Lung/imagesTr/lung_083.nii.gz', '/content/Task06_Lung/imagesTr/lung_071.nii.gz', '/content/Task06_Lung/imagesTr/lung_005.nii.gz', '/content/Task06_Lung/imagesTr/lung_059.nii.gz', '/content/Task06_Lung/imagesTr/lung_054.nii.gz', '/content/Task06_Lung/imagesTr/lung_018.nii.gz', '/content/Task06_Lung/imagesTr/lung_081.nii.gz', '/content/Task06_Lung/imagesTr/lung_031.nii.gz', '/content/Task06_Lung/imagesTr/lung_051.nii.gz', '/content/Task06_Lung/imagesTr/lung_092.nii.gz', '/content/Task06_Lung/imagesTr/lung_028.nii.gz', '/content/Task06_Lung/imagesTr/lung_080.nii.gz', '/content/Task06_Lung/imagesTr/lung_078.nii.gz', '/content/Task06_Lung/imagesTr/lung_070.nii.gz', '/content/Task06_Lung/imagesTr/lung_049.nii.gz', '/content/Task06_Lung/imagesTr/lung_074.nii.gz', '/content/Task06_Lung/imagesTr/lung_047.nii.gz', '/content/Task06_Lung/imagesTr/lung_086.nii.gz', '/content/Task06_Lung/imagesTr/lung_023.nii.gz', '/content/Task06_Lung/imagesTr/lung_036.nii.gz', '/content/Task06_Lung/imagesTr/lung_048.nii.gz', '/content/Task06_Lung/imagesTr/lung_046.nii.gz', '/content/Task06_Lung/imagesTr/lung_073.nii.gz', '/content/Task06_Lung/imagesTr/lung_037.nii.gz', '/content/Task06_Lung/imagesTr/lung_006.nii.gz', '/content/Task06_Lung/imagesTr/lung_025.nii.gz', '/content/Task06_Lung/imagesTr/lung_045.nii.gz', '/content/Task06_Lung/imagesTr/lung_044.nii.gz', '/content/Task06_Lung/imagesTr/lung_084.nii.gz', '/content/Task06_Lung/imagesTr/lung_069.nii.gz', '/content/Task06_Lung/imagesTr/lung_029.nii.gz', '/content/Task06_Lung/imagesTr/lung_096.nii.gz', '/content/Task06_Lung/imagesTr/lung_033.nii.gz', '/content/Task06_Lung/imagesTr/lung_041.nii.gz', '/content/Task06_Lung/imagesTr/lung_010.nii.gz', '/content/Task06_Lung/imagesTr/lung_066.nii.gz', '/content/Task06_Lung/imagesTr/lung_014.nii.gz', '/content/Task06_Lung/imagesTr/lung_093.nii.gz', '/content/Task06_Lung/imagesTr/lung_003.nii.gz', '/content/Task06_Lung/imagesTr/lung_027.nii.gz', '/content/Task06_Lung/imagesTr/lung_001.nii.gz', '/content/Task06_Lung/imagesTr/lung_026.nii.gz', '/content/Task06_Lung/imagesTr/lung_009.nii.gz', '/content/Task06_Lung/imagesTr/lung_020.nii.gz', '/content/Task06_Lung/imagesTr/lung_016.nii.gz', '/content/Task06_Lung/imagesTr/lung_015.nii.gz', '/content/Task06_Lung/imagesTr/lung_022.nii.gz', '/content/Task06_Lung/imagesTr/lung_064.nii.gz', '/content/Task06_Lung/imagesTr/lung_055.nii.gz', '/content/Task06_Lung/imagesTr/lung_053.nii.gz', '/content/Task06_Lung/imagesTr/lung_042.nii.gz', '/content/Task06_Lung/imagesTr/lung_083.nii.gz', '/content/Task06_Lung/imagesTr/lung_071.nii.gz', '/content/Task06_Lung/imagesTr/lung_005.nii.gz', '/content/Task06_Lung/imagesTr/lung_059.nii.gz', '/content/Task06_Lung/imagesTr/lung_054.nii.gz', '/content/Task06_Lung/imagesTr/lung_018.nii.gz', '/content/Task06_Lung/imagesTr/lung_081.nii.gz', '/content/Task06_Lung/imagesTr/lung_031.nii.gz', '/content/Task06_Lung/imagesTr/lung_051.nii.gz', '/content/Task06_Lung/imagesTr/lung_092.nii.gz', '/content/Task06_Lung/imagesTr/lung_028.nii.gz', '/content/Task06_Lung/imagesTr/lung_080.nii.gz', '/content/Task06_Lung/imagesTr/lung_078.nii.gz', '/content/Task06_Lung/imagesTr/lung_070.nii.gz', '/content/Task06_Lung/imagesTr/lung_049.nii.gz', '/content/Task06_Lung/imagesTr/lung_074.nii.gz', '/content/Task06_Lung/imagesTr/lung_047.nii.gz', '/content/Task06_Lung/imagesTr/lung_086.nii.gz', '/content/Task06_Lung/imagesTr/lung_023.nii.gz', '/content/Task06_Lung/imagesTr/lung_036.nii.gz', '/content/Task06_Lung/imagesTr/lung_048.nii.gz', '/content/Task06_Lung/imagesTr/lung_046.nii.gz', '/content/Task06_Lung/imagesTr/lung_073.nii.gz', '/content/Task06_Lung/imagesTr/lung_037.nii.gz', '/content/Task06_Lung/imagesTr/lung_006.nii.gz', '/content/Task06_Lung/imagesTr/lung_025.nii.gz', '/content/Task06_Lung/imagesTr/lung_045.nii.gz', '/content/Task06_Lung/imagesTr/lung_044.nii.gz', '/content/Task06_Lung/imagesTr/lung_084.nii.gz', '/content/Task06_Lung/imagesTr/lung_069.nii.gz', '/content/Task06_Lung/imagesTr/lung_029.nii.gz', '/content/Task06_Lung/imagesTr/lung_096.nii.gz', '/content/Task06_Lung/imagesTr/lung_033.nii.gz', '/content/Task06_Lung/imagesTr/lung_041.nii.gz', '/content/Task06_Lung/imagesTr/lung_010.nii.gz', '/content/Task06_Lung/imagesTr/lung_066.nii.gz', '/content/Task06_Lung/imagesTr/lung_014.nii.gz', '/content/Task06_Lung/imagesTr/lung_093.nii.gz', '/content/Task06_Lung/imagesTr/lung_003.nii.gz', '/content/Task06_Lung/imagesTr/lung_027.nii.gz', '/content/Task06_Lung/imagesTr/lung_001.nii.gz', '/content/Task06_Lung/imagesTr/lung_026.nii.gz', '/content/Task06_Lung/imagesTr/lung_009.nii.gz', '/content/Task06_Lung/imagesTr/lung_020.nii.gz', '/content/Task06_Lung/imagesTr/lung_016.nii.gz', '/content/Task06_Lung/imagesTr/lung_015.nii.gz', '/content/Task06_Lung/imagesTr/lung_022.nii.gz', '/content/Task06_Lung/imagesTr/lung_064.nii.gz', '/content/Task06_Lung/imagesTr/lung_055.nii.gz']\n",
            "['/content/Task06_Lung/labelsTr/lung_053.nii.gz', '/content/Task06_Lung/labelsTr/lung_042.nii.gz', '/content/Task06_Lung/labelsTr/lung_083.nii.gz', '/content/Task06_Lung/labelsTr/lung_071.nii.gz', '/content/Task06_Lung/labelsTr/lung_005.nii.gz', '/content/Task06_Lung/labelsTr/lung_059.nii.gz', '/content/Task06_Lung/labelsTr/lung_054.nii.gz', '/content/Task06_Lung/labelsTr/lung_018.nii.gz', '/content/Task06_Lung/labelsTr/lung_081.nii.gz', '/content/Task06_Lung/labelsTr/lung_031.nii.gz', '/content/Task06_Lung/labelsTr/lung_051.nii.gz', '/content/Task06_Lung/labelsTr/lung_092.nii.gz', '/content/Task06_Lung/labelsTr/lung_028.nii.gz', '/content/Task06_Lung/labelsTr/lung_080.nii.gz', '/content/Task06_Lung/labelsTr/lung_078.nii.gz', '/content/Task06_Lung/labelsTr/lung_070.nii.gz', '/content/Task06_Lung/labelsTr/lung_049.nii.gz', '/content/Task06_Lung/labelsTr/lung_074.nii.gz', '/content/Task06_Lung/labelsTr/lung_047.nii.gz', '/content/Task06_Lung/labelsTr/lung_086.nii.gz', '/content/Task06_Lung/labelsTr/lung_023.nii.gz', '/content/Task06_Lung/labelsTr/lung_036.nii.gz', '/content/Task06_Lung/labelsTr/lung_048.nii.gz', '/content/Task06_Lung/labelsTr/lung_046.nii.gz', '/content/Task06_Lung/labelsTr/lung_073.nii.gz', '/content/Task06_Lung/labelsTr/lung_037.nii.gz', '/content/Task06_Lung/labelsTr/lung_006.nii.gz', '/content/Task06_Lung/labelsTr/lung_025.nii.gz', '/content/Task06_Lung/labelsTr/lung_045.nii.gz', '/content/Task06_Lung/labelsTr/lung_044.nii.gz', '/content/Task06_Lung/labelsTr/lung_084.nii.gz', '/content/Task06_Lung/labelsTr/lung_069.nii.gz', '/content/Task06_Lung/labelsTr/lung_029.nii.gz', '/content/Task06_Lung/labelsTr/lung_096.nii.gz', '/content/Task06_Lung/labelsTr/lung_033.nii.gz', '/content/Task06_Lung/labelsTr/lung_041.nii.gz', '/content/Task06_Lung/labelsTr/lung_010.nii.gz', '/content/Task06_Lung/labelsTr/lung_066.nii.gz', '/content/Task06_Lung/labelsTr/lung_014.nii.gz', '/content/Task06_Lung/labelsTr/lung_093.nii.gz', '/content/Task06_Lung/labelsTr/lung_003.nii.gz', '/content/Task06_Lung/labelsTr/lung_027.nii.gz', '/content/Task06_Lung/labelsTr/lung_001.nii.gz', '/content/Task06_Lung/labelsTr/lung_026.nii.gz', '/content/Task06_Lung/labelsTr/lung_009.nii.gz', '/content/Task06_Lung/labelsTr/lung_020.nii.gz', '/content/Task06_Lung/labelsTr/lung_016.nii.gz', '/content/Task06_Lung/labelsTr/lung_015.nii.gz', '/content/Task06_Lung/labelsTr/lung_022.nii.gz', '/content/Task06_Lung/labelsTr/lung_064.nii.gz', '/content/Task06_Lung/labelsTr/lung_055.nii.gz', '/content/Task06_Lung/labelsTr/lung_053.nii.gz', '/content/Task06_Lung/labelsTr/lung_042.nii.gz', '/content/Task06_Lung/labelsTr/lung_083.nii.gz', '/content/Task06_Lung/labelsTr/lung_071.nii.gz', '/content/Task06_Lung/labelsTr/lung_005.nii.gz', '/content/Task06_Lung/labelsTr/lung_059.nii.gz', '/content/Task06_Lung/labelsTr/lung_054.nii.gz', '/content/Task06_Lung/labelsTr/lung_018.nii.gz', '/content/Task06_Lung/labelsTr/lung_081.nii.gz', '/content/Task06_Lung/labelsTr/lung_031.nii.gz', '/content/Task06_Lung/labelsTr/lung_051.nii.gz', '/content/Task06_Lung/labelsTr/lung_092.nii.gz', '/content/Task06_Lung/labelsTr/lung_028.nii.gz', '/content/Task06_Lung/labelsTr/lung_080.nii.gz', '/content/Task06_Lung/labelsTr/lung_078.nii.gz', '/content/Task06_Lung/labelsTr/lung_070.nii.gz', '/content/Task06_Lung/labelsTr/lung_049.nii.gz', '/content/Task06_Lung/labelsTr/lung_074.nii.gz', '/content/Task06_Lung/labelsTr/lung_047.nii.gz', '/content/Task06_Lung/labelsTr/lung_086.nii.gz', '/content/Task06_Lung/labelsTr/lung_023.nii.gz', '/content/Task06_Lung/labelsTr/lung_036.nii.gz', '/content/Task06_Lung/labelsTr/lung_048.nii.gz', '/content/Task06_Lung/labelsTr/lung_046.nii.gz', '/content/Task06_Lung/labelsTr/lung_073.nii.gz', '/content/Task06_Lung/labelsTr/lung_037.nii.gz', '/content/Task06_Lung/labelsTr/lung_006.nii.gz', '/content/Task06_Lung/labelsTr/lung_025.nii.gz', '/content/Task06_Lung/labelsTr/lung_045.nii.gz', '/content/Task06_Lung/labelsTr/lung_044.nii.gz', '/content/Task06_Lung/labelsTr/lung_084.nii.gz', '/content/Task06_Lung/labelsTr/lung_069.nii.gz', '/content/Task06_Lung/labelsTr/lung_029.nii.gz', '/content/Task06_Lung/labelsTr/lung_096.nii.gz', '/content/Task06_Lung/labelsTr/lung_033.nii.gz', '/content/Task06_Lung/labelsTr/lung_041.nii.gz', '/content/Task06_Lung/labelsTr/lung_010.nii.gz', '/content/Task06_Lung/labelsTr/lung_066.nii.gz', '/content/Task06_Lung/labelsTr/lung_014.nii.gz', '/content/Task06_Lung/labelsTr/lung_093.nii.gz', '/content/Task06_Lung/labelsTr/lung_003.nii.gz', '/content/Task06_Lung/labelsTr/lung_027.nii.gz', '/content/Task06_Lung/labelsTr/lung_001.nii.gz', '/content/Task06_Lung/labelsTr/lung_026.nii.gz', '/content/Task06_Lung/labelsTr/lung_009.nii.gz', '/content/Task06_Lung/labelsTr/lung_020.nii.gz', '/content/Task06_Lung/labelsTr/lung_016.nii.gz', '/content/Task06_Lung/labelsTr/lung_015.nii.gz', '/content/Task06_Lung/labelsTr/lung_022.nii.gz', '/content/Task06_Lung/labelsTr/lung_064.nii.gz', '/content/Task06_Lung/labelsTr/lung_055.nii.gz', '/content/Task06_Lung/labelsTr/lung_053.nii.gz', '/content/Task06_Lung/labelsTr/lung_042.nii.gz', '/content/Task06_Lung/labelsTr/lung_083.nii.gz', '/content/Task06_Lung/labelsTr/lung_071.nii.gz', '/content/Task06_Lung/labelsTr/lung_005.nii.gz', '/content/Task06_Lung/labelsTr/lung_059.nii.gz', '/content/Task06_Lung/labelsTr/lung_054.nii.gz', '/content/Task06_Lung/labelsTr/lung_018.nii.gz', '/content/Task06_Lung/labelsTr/lung_081.nii.gz', '/content/Task06_Lung/labelsTr/lung_031.nii.gz', '/content/Task06_Lung/labelsTr/lung_051.nii.gz', '/content/Task06_Lung/labelsTr/lung_092.nii.gz', '/content/Task06_Lung/labelsTr/lung_028.nii.gz', '/content/Task06_Lung/labelsTr/lung_080.nii.gz', '/content/Task06_Lung/labelsTr/lung_078.nii.gz', '/content/Task06_Lung/labelsTr/lung_070.nii.gz', '/content/Task06_Lung/labelsTr/lung_049.nii.gz', '/content/Task06_Lung/labelsTr/lung_074.nii.gz', '/content/Task06_Lung/labelsTr/lung_047.nii.gz', '/content/Task06_Lung/labelsTr/lung_086.nii.gz', '/content/Task06_Lung/labelsTr/lung_023.nii.gz', '/content/Task06_Lung/labelsTr/lung_036.nii.gz', '/content/Task06_Lung/labelsTr/lung_048.nii.gz', '/content/Task06_Lung/labelsTr/lung_046.nii.gz', '/content/Task06_Lung/labelsTr/lung_073.nii.gz', '/content/Task06_Lung/labelsTr/lung_037.nii.gz', '/content/Task06_Lung/labelsTr/lung_006.nii.gz', '/content/Task06_Lung/labelsTr/lung_025.nii.gz', '/content/Task06_Lung/labelsTr/lung_045.nii.gz', '/content/Task06_Lung/labelsTr/lung_044.nii.gz', '/content/Task06_Lung/labelsTr/lung_084.nii.gz', '/content/Task06_Lung/labelsTr/lung_069.nii.gz', '/content/Task06_Lung/labelsTr/lung_029.nii.gz', '/content/Task06_Lung/labelsTr/lung_096.nii.gz', '/content/Task06_Lung/labelsTr/lung_033.nii.gz', '/content/Task06_Lung/labelsTr/lung_041.nii.gz', '/content/Task06_Lung/labelsTr/lung_010.nii.gz', '/content/Task06_Lung/labelsTr/lung_066.nii.gz', '/content/Task06_Lung/labelsTr/lung_014.nii.gz', '/content/Task06_Lung/labelsTr/lung_093.nii.gz', '/content/Task06_Lung/labelsTr/lung_003.nii.gz', '/content/Task06_Lung/labelsTr/lung_027.nii.gz', '/content/Task06_Lung/labelsTr/lung_001.nii.gz', '/content/Task06_Lung/labelsTr/lung_026.nii.gz', '/content/Task06_Lung/labelsTr/lung_009.nii.gz', '/content/Task06_Lung/labelsTr/lung_020.nii.gz', '/content/Task06_Lung/labelsTr/lung_016.nii.gz', '/content/Task06_Lung/labelsTr/lung_015.nii.gz', '/content/Task06_Lung/labelsTr/lung_022.nii.gz', '/content/Task06_Lung/labelsTr/lung_064.nii.gz', '/content/Task06_Lung/labelsTr/lung_055.nii.gz', '/content/Task06_Lung/labelsTr/lung_053.nii.gz', '/content/Task06_Lung/labelsTr/lung_042.nii.gz', '/content/Task06_Lung/labelsTr/lung_083.nii.gz', '/content/Task06_Lung/labelsTr/lung_071.nii.gz', '/content/Task06_Lung/labelsTr/lung_005.nii.gz', '/content/Task06_Lung/labelsTr/lung_059.nii.gz', '/content/Task06_Lung/labelsTr/lung_054.nii.gz', '/content/Task06_Lung/labelsTr/lung_018.nii.gz', '/content/Task06_Lung/labelsTr/lung_081.nii.gz', '/content/Task06_Lung/labelsTr/lung_031.nii.gz', '/content/Task06_Lung/labelsTr/lung_051.nii.gz', '/content/Task06_Lung/labelsTr/lung_092.nii.gz', '/content/Task06_Lung/labelsTr/lung_028.nii.gz', '/content/Task06_Lung/labelsTr/lung_080.nii.gz', '/content/Task06_Lung/labelsTr/lung_078.nii.gz', '/content/Task06_Lung/labelsTr/lung_070.nii.gz', '/content/Task06_Lung/labelsTr/lung_049.nii.gz', '/content/Task06_Lung/labelsTr/lung_074.nii.gz', '/content/Task06_Lung/labelsTr/lung_047.nii.gz', '/content/Task06_Lung/labelsTr/lung_086.nii.gz', '/content/Task06_Lung/labelsTr/lung_023.nii.gz', '/content/Task06_Lung/labelsTr/lung_036.nii.gz', '/content/Task06_Lung/labelsTr/lung_048.nii.gz', '/content/Task06_Lung/labelsTr/lung_046.nii.gz', '/content/Task06_Lung/labelsTr/lung_073.nii.gz', '/content/Task06_Lung/labelsTr/lung_037.nii.gz', '/content/Task06_Lung/labelsTr/lung_006.nii.gz', '/content/Task06_Lung/labelsTr/lung_025.nii.gz', '/content/Task06_Lung/labelsTr/lung_045.nii.gz', '/content/Task06_Lung/labelsTr/lung_044.nii.gz', '/content/Task06_Lung/labelsTr/lung_084.nii.gz', '/content/Task06_Lung/labelsTr/lung_069.nii.gz', '/content/Task06_Lung/labelsTr/lung_029.nii.gz', '/content/Task06_Lung/labelsTr/lung_096.nii.gz', '/content/Task06_Lung/labelsTr/lung_033.nii.gz', '/content/Task06_Lung/labelsTr/lung_041.nii.gz', '/content/Task06_Lung/labelsTr/lung_010.nii.gz', '/content/Task06_Lung/labelsTr/lung_066.nii.gz', '/content/Task06_Lung/labelsTr/lung_014.nii.gz', '/content/Task06_Lung/labelsTr/lung_093.nii.gz', '/content/Task06_Lung/labelsTr/lung_003.nii.gz', '/content/Task06_Lung/labelsTr/lung_027.nii.gz', '/content/Task06_Lung/labelsTr/lung_001.nii.gz', '/content/Task06_Lung/labelsTr/lung_026.nii.gz', '/content/Task06_Lung/labelsTr/lung_009.nii.gz', '/content/Task06_Lung/labelsTr/lung_020.nii.gz', '/content/Task06_Lung/labelsTr/lung_016.nii.gz', '/content/Task06_Lung/labelsTr/lung_015.nii.gz', '/content/Task06_Lung/labelsTr/lung_022.nii.gz', '/content/Task06_Lung/labelsTr/lung_064.nii.gz', '/content/Task06_Lung/labelsTr/lung_055.nii.gz', '/content/Task06_Lung/labelsTr/lung_053.nii.gz', '/content/Task06_Lung/labelsTr/lung_042.nii.gz', '/content/Task06_Lung/labelsTr/lung_083.nii.gz', '/content/Task06_Lung/labelsTr/lung_071.nii.gz', '/content/Task06_Lung/labelsTr/lung_005.nii.gz', '/content/Task06_Lung/labelsTr/lung_059.nii.gz', '/content/Task06_Lung/labelsTr/lung_054.nii.gz', '/content/Task06_Lung/labelsTr/lung_018.nii.gz', '/content/Task06_Lung/labelsTr/lung_081.nii.gz', '/content/Task06_Lung/labelsTr/lung_031.nii.gz', '/content/Task06_Lung/labelsTr/lung_051.nii.gz', '/content/Task06_Lung/labelsTr/lung_092.nii.gz', '/content/Task06_Lung/labelsTr/lung_028.nii.gz', '/content/Task06_Lung/labelsTr/lung_080.nii.gz', '/content/Task06_Lung/labelsTr/lung_078.nii.gz', '/content/Task06_Lung/labelsTr/lung_070.nii.gz', '/content/Task06_Lung/labelsTr/lung_049.nii.gz', '/content/Task06_Lung/labelsTr/lung_074.nii.gz', '/content/Task06_Lung/labelsTr/lung_047.nii.gz', '/content/Task06_Lung/labelsTr/lung_086.nii.gz', '/content/Task06_Lung/labelsTr/lung_023.nii.gz', '/content/Task06_Lung/labelsTr/lung_036.nii.gz', '/content/Task06_Lung/labelsTr/lung_048.nii.gz', '/content/Task06_Lung/labelsTr/lung_046.nii.gz', '/content/Task06_Lung/labelsTr/lung_073.nii.gz', '/content/Task06_Lung/labelsTr/lung_037.nii.gz', '/content/Task06_Lung/labelsTr/lung_006.nii.gz', '/content/Task06_Lung/labelsTr/lung_025.nii.gz', '/content/Task06_Lung/labelsTr/lung_045.nii.gz', '/content/Task06_Lung/labelsTr/lung_044.nii.gz', '/content/Task06_Lung/labelsTr/lung_084.nii.gz', '/content/Task06_Lung/labelsTr/lung_069.nii.gz', '/content/Task06_Lung/labelsTr/lung_029.nii.gz', '/content/Task06_Lung/labelsTr/lung_096.nii.gz', '/content/Task06_Lung/labelsTr/lung_033.nii.gz', '/content/Task06_Lung/labelsTr/lung_041.nii.gz', '/content/Task06_Lung/labelsTr/lung_010.nii.gz', '/content/Task06_Lung/labelsTr/lung_066.nii.gz', '/content/Task06_Lung/labelsTr/lung_014.nii.gz', '/content/Task06_Lung/labelsTr/lung_093.nii.gz', '/content/Task06_Lung/labelsTr/lung_003.nii.gz', '/content/Task06_Lung/labelsTr/lung_027.nii.gz', '/content/Task06_Lung/labelsTr/lung_001.nii.gz', '/content/Task06_Lung/labelsTr/lung_026.nii.gz', '/content/Task06_Lung/labelsTr/lung_009.nii.gz', '/content/Task06_Lung/labelsTr/lung_020.nii.gz', '/content/Task06_Lung/labelsTr/lung_016.nii.gz', '/content/Task06_Lung/labelsTr/lung_015.nii.gz', '/content/Task06_Lung/labelsTr/lung_022.nii.gz', '/content/Task06_Lung/labelsTr/lung_064.nii.gz', '/content/Task06_Lung/labelsTr/lung_055.nii.gz']\n"
          ],
          "name": "stdout"
        },
        {
          "output_type": "stream",
          "text": [
            "/usr/local/lib/python3.6/dist-packages/ipykernel_launcher.py:32: DeprecationWarning: get_data() is deprecated in favor of get_fdata(), which has a more predictable return type. To obtain get_data() behavior going forward, use numpy.asanyarray(img.dataobj).\n",
            "\n",
            "* deprecated from version: 3.0\n",
            "* Will raise <class 'nibabel.deprecator.ExpiredDeprecationError'> as of version: 5.0\n"
          ],
          "name": "stderr"
        }
      ]
    },
    {
      "cell_type": "code",
      "metadata": {
        "id": "azBce_D2eNXn",
        "colab_type": "code",
        "colab": {
          "base_uri": "https://localhost:8080/",
          "height": 34
        },
        "outputId": "a2e1727e-03c3-4c2e-eacc-3518d00845a6"
      },
      "source": [
        "idb = make_databunch()\n",
        "learner = make_learner(idb)\n",
        "\n",
        "\n",
        "# learner.lr_find(start_lr=1e-10, end_lr=10)\n",
        "# learner.recorder.plot()\n",
        "# found that 1e+00 works fine"
      ],
      "execution_count": null,
      "outputs": [
        {
          "output_type": "stream",
          "text": [
            "51 12\n"
          ],
          "name": "stdout"
        }
      ]
    },
    {
      "cell_type": "code",
      "metadata": {
        "id": "V9Z4-vPwe-8N",
        "colab_type": "code",
        "colab": {
          "base_uri": "https://localhost:8080/",
          "height": 538
        },
        "outputId": "28924501-e129-49f6-ddbd-de097d4cb23c"
      },
      "source": [
        "learner.lr_find(start_lr=1e-10, end_lr=10)\n",
        "learner.recorder.plot()\n",
        "# found that 1e+00 works fine"
      ],
      "execution_count": null,
      "outputs": [
        {
          "output_type": "display_data",
          "data": {
            "text/html": [
              "\n",
              "    <div>\n",
              "        <style>\n",
              "            /* Turns off some styling */\n",
              "            progress {\n",
              "                /* gets rid of default border in Firefox and Opera. */\n",
              "                border: none;\n",
              "                /* Needs to be in here for Safari polyfill so background images work as expected. */\n",
              "                background-size: auto;\n",
              "            }\n",
              "            .progress-bar-interrupted, .progress-bar-interrupted::-webkit-progress-bar {\n",
              "                background: #F44336;\n",
              "            }\n",
              "        </style>\n",
              "      <progress value='0' class='' max='2' style='width:300px; height:20px; vertical-align: middle;'></progress>\n",
              "      0.00% [0/2 00:00<00:00]\n",
              "    </div>\n",
              "    \n",
              "<table border=\"1\" class=\"dataframe\">\n",
              "  <thead>\n",
              "    <tr style=\"text-align: left;\">\n",
              "      <th>epoch</th>\n",
              "      <th>train_loss</th>\n",
              "      <th>valid_loss</th>\n",
              "      <th>DiceCoefficient</th>\n",
              "      <th>time</th>\n",
              "    </tr>\n",
              "  </thead>\n",
              "  <tbody>\n",
              "  </tbody>\n",
              "</table><p>\n",
              "\n",
              "    <div>\n",
              "        <style>\n",
              "            /* Turns off some styling */\n",
              "            progress {\n",
              "                /* gets rid of default border in Firefox and Opera. */\n",
              "                border: none;\n",
              "                /* Needs to be in here for Safari polyfill so background images work as expected. */\n",
              "                background-size: auto;\n",
              "            }\n",
              "            .progress-bar-interrupted, .progress-bar-interrupted::-webkit-progress-bar {\n",
              "                background: #F44336;\n",
              "            }\n",
              "        </style>\n",
              "      <progress value='0' class='progress-bar-interrupted' max='51' style='width:300px; height:20px; vertical-align: middle;'></progress>\n",
              "      Interrupted\n",
              "    </div>\n",
              "    "
            ],
            "text/plain": [
              "<IPython.core.display.HTML object>"
            ]
          },
          "metadata": {
            "tags": []
          }
        },
        {
          "output_type": "error",
          "ename": "RuntimeError",
          "evalue": "ignored",
          "traceback": [
            "\u001b[0;31m---------------------------------------------------------------------------\u001b[0m",
            "\u001b[0;31mRuntimeError\u001b[0m                              Traceback (most recent call last)",
            "\u001b[0;32m/usr/local/lib/python3.6/dist-packages/fastai/basic_train.py\u001b[0m in \u001b[0;36mfit\u001b[0;34m(epochs, learn, callbacks, metrics)\u001b[0m\n\u001b[1;32m     98\u001b[0m             \u001b[0mcb_handler\u001b[0m\u001b[0;34m.\u001b[0m\u001b[0mon_epoch_begin\u001b[0m\u001b[0;34m(\u001b[0m\u001b[0;34m)\u001b[0m\u001b[0;34m\u001b[0m\u001b[0;34m\u001b[0m\u001b[0m\n\u001b[0;32m---> 99\u001b[0;31m             \u001b[0;32mfor\u001b[0m \u001b[0mxb\u001b[0m\u001b[0;34m,\u001b[0m\u001b[0myb\u001b[0m \u001b[0;32min\u001b[0m \u001b[0mprogress_bar\u001b[0m\u001b[0;34m(\u001b[0m\u001b[0mlearn\u001b[0m\u001b[0;34m.\u001b[0m\u001b[0mdata\u001b[0m\u001b[0;34m.\u001b[0m\u001b[0mtrain_dl\u001b[0m\u001b[0;34m,\u001b[0m \u001b[0mparent\u001b[0m\u001b[0;34m=\u001b[0m\u001b[0mpbar\u001b[0m\u001b[0;34m)\u001b[0m\u001b[0;34m:\u001b[0m\u001b[0;34m\u001b[0m\u001b[0;34m\u001b[0m\u001b[0m\n\u001b[0m\u001b[1;32m    100\u001b[0m                 \u001b[0mxb\u001b[0m\u001b[0;34m,\u001b[0m \u001b[0myb\u001b[0m \u001b[0;34m=\u001b[0m \u001b[0mcb_handler\u001b[0m\u001b[0;34m.\u001b[0m\u001b[0mon_batch_begin\u001b[0m\u001b[0;34m(\u001b[0m\u001b[0mxb\u001b[0m\u001b[0;34m,\u001b[0m \u001b[0myb\u001b[0m\u001b[0;34m)\u001b[0m\u001b[0;34m\u001b[0m\u001b[0;34m\u001b[0m\u001b[0m\n",
            "\u001b[0;32m/usr/local/lib/python3.6/dist-packages/fastprogress/fastprogress.py\u001b[0m in \u001b[0;36m__iter__\u001b[0;34m(self)\u001b[0m\n\u001b[1;32m     46\u001b[0m             \u001b[0mself\u001b[0m\u001b[0;34m.\u001b[0m\u001b[0mon_interrupt\u001b[0m\u001b[0;34m(\u001b[0m\u001b[0;34m)\u001b[0m\u001b[0;34m\u001b[0m\u001b[0;34m\u001b[0m\u001b[0m\n\u001b[0;32m---> 47\u001b[0;31m             \u001b[0;32mraise\u001b[0m \u001b[0me\u001b[0m\u001b[0;34m\u001b[0m\u001b[0;34m\u001b[0m\u001b[0m\n\u001b[0m\u001b[1;32m     48\u001b[0m \u001b[0;34m\u001b[0m\u001b[0m\n",
            "\u001b[0;32m/usr/local/lib/python3.6/dist-packages/fastprogress/fastprogress.py\u001b[0m in \u001b[0;36m__iter__\u001b[0;34m(self)\u001b[0m\n\u001b[1;32m     40\u001b[0m         \u001b[0;32mtry\u001b[0m\u001b[0;34m:\u001b[0m\u001b[0;34m\u001b[0m\u001b[0;34m\u001b[0m\u001b[0m\n\u001b[0;32m---> 41\u001b[0;31m             \u001b[0;32mfor\u001b[0m \u001b[0mi\u001b[0m\u001b[0;34m,\u001b[0m\u001b[0mo\u001b[0m \u001b[0;32min\u001b[0m \u001b[0menumerate\u001b[0m\u001b[0;34m(\u001b[0m\u001b[0mself\u001b[0m\u001b[0;34m.\u001b[0m\u001b[0mgen\u001b[0m\u001b[0;34m)\u001b[0m\u001b[0;34m:\u001b[0m\u001b[0;34m\u001b[0m\u001b[0;34m\u001b[0m\u001b[0m\n\u001b[0m\u001b[1;32m     42\u001b[0m                 \u001b[0;32mif\u001b[0m \u001b[0mi\u001b[0m \u001b[0;34m>=\u001b[0m \u001b[0mself\u001b[0m\u001b[0;34m.\u001b[0m\u001b[0mtotal\u001b[0m\u001b[0;34m:\u001b[0m \u001b[0;32mbreak\u001b[0m\u001b[0;34m\u001b[0m\u001b[0;34m\u001b[0m\u001b[0m\n",
            "\u001b[0;32m/usr/local/lib/python3.6/dist-packages/fastai/basic_data.py\u001b[0m in \u001b[0;36m__iter__\u001b[0;34m(self)\u001b[0m\n\u001b[1;32m     74\u001b[0m         \u001b[0;34m\"Process and returns items from `DataLoader`.\"\u001b[0m\u001b[0;34m\u001b[0m\u001b[0;34m\u001b[0m\u001b[0m\n\u001b[0;32m---> 75\u001b[0;31m         \u001b[0;32mfor\u001b[0m \u001b[0mb\u001b[0m \u001b[0;32min\u001b[0m \u001b[0mself\u001b[0m\u001b[0;34m.\u001b[0m\u001b[0mdl\u001b[0m\u001b[0;34m:\u001b[0m \u001b[0;32myield\u001b[0m \u001b[0mself\u001b[0m\u001b[0;34m.\u001b[0m\u001b[0mproc_batch\u001b[0m\u001b[0;34m(\u001b[0m\u001b[0mb\u001b[0m\u001b[0;34m)\u001b[0m\u001b[0;34m\u001b[0m\u001b[0;34m\u001b[0m\u001b[0m\n\u001b[0m\u001b[1;32m     76\u001b[0m \u001b[0;34m\u001b[0m\u001b[0m\n",
            "\u001b[0;32m/usr/local/lib/python3.6/dist-packages/fastai/basic_data.py\u001b[0m in \u001b[0;36mproc_batch\u001b[0;34m(self, b)\u001b[0m\n\u001b[1;32m     68\u001b[0m         \u001b[0;34m\"Process batch `b` of `TensorImage`.\"\u001b[0m\u001b[0;34m\u001b[0m\u001b[0;34m\u001b[0m\u001b[0m\n\u001b[0;32m---> 69\u001b[0;31m         \u001b[0mb\u001b[0m \u001b[0;34m=\u001b[0m \u001b[0mto_device\u001b[0m\u001b[0;34m(\u001b[0m\u001b[0mb\u001b[0m\u001b[0;34m,\u001b[0m \u001b[0mself\u001b[0m\u001b[0;34m.\u001b[0m\u001b[0mdevice\u001b[0m\u001b[0;34m)\u001b[0m\u001b[0;34m\u001b[0m\u001b[0;34m\u001b[0m\u001b[0m\n\u001b[0m\u001b[1;32m     70\u001b[0m         \u001b[0;32mfor\u001b[0m \u001b[0mf\u001b[0m \u001b[0;32min\u001b[0m \u001b[0mlistify\u001b[0m\u001b[0;34m(\u001b[0m\u001b[0mself\u001b[0m\u001b[0;34m.\u001b[0m\u001b[0mtfms\u001b[0m\u001b[0;34m)\u001b[0m\u001b[0;34m:\u001b[0m \u001b[0mb\u001b[0m \u001b[0;34m=\u001b[0m \u001b[0mf\u001b[0m\u001b[0;34m(\u001b[0m\u001b[0mb\u001b[0m\u001b[0;34m)\u001b[0m\u001b[0;34m\u001b[0m\u001b[0;34m\u001b[0m\u001b[0m\n",
            "\u001b[0;32m/usr/local/lib/python3.6/dist-packages/fastai/torch_core.py\u001b[0m in \u001b[0;36mto_device\u001b[0;34m(b, device)\u001b[0m\n\u001b[1;32m    122\u001b[0m     \u001b[0mdevice\u001b[0m \u001b[0;34m=\u001b[0m \u001b[0mifnone\u001b[0m\u001b[0;34m(\u001b[0m\u001b[0mdevice\u001b[0m\u001b[0;34m,\u001b[0m \u001b[0mdefaults\u001b[0m\u001b[0;34m.\u001b[0m\u001b[0mdevice\u001b[0m\u001b[0;34m)\u001b[0m\u001b[0;34m\u001b[0m\u001b[0;34m\u001b[0m\u001b[0m\n\u001b[0;32m--> 123\u001b[0;31m     \u001b[0;32mreturn\u001b[0m \u001b[0mrecurse\u001b[0m\u001b[0;34m(\u001b[0m\u001b[0;32mlambda\u001b[0m \u001b[0mx\u001b[0m\u001b[0;34m:\u001b[0m \u001b[0mx\u001b[0m\u001b[0;34m.\u001b[0m\u001b[0mto\u001b[0m\u001b[0;34m(\u001b[0m\u001b[0mdevice\u001b[0m\u001b[0;34m,\u001b[0m \u001b[0mnon_blocking\u001b[0m\u001b[0;34m=\u001b[0m\u001b[0;32mTrue\u001b[0m\u001b[0;34m)\u001b[0m\u001b[0;34m,\u001b[0m \u001b[0mb\u001b[0m\u001b[0;34m)\u001b[0m\u001b[0;34m\u001b[0m\u001b[0;34m\u001b[0m\u001b[0m\n\u001b[0m\u001b[1;32m    124\u001b[0m \u001b[0;34m\u001b[0m\u001b[0m\n",
            "\u001b[0;32m/usr/local/lib/python3.6/dist-packages/fastai/core.py\u001b[0m in \u001b[0;36mrecurse\u001b[0;34m(func, x, *args, **kwargs)\u001b[0m\n\u001b[1;32m     77\u001b[0m \u001b[0;32mdef\u001b[0m \u001b[0mrecurse\u001b[0m\u001b[0;34m(\u001b[0m\u001b[0mfunc\u001b[0m\u001b[0;34m:\u001b[0m\u001b[0mCallable\u001b[0m\u001b[0;34m,\u001b[0m \u001b[0mx\u001b[0m\u001b[0;34m:\u001b[0m\u001b[0mAny\u001b[0m\u001b[0;34m,\u001b[0m \u001b[0;34m*\u001b[0m\u001b[0margs\u001b[0m\u001b[0;34m,\u001b[0m \u001b[0;34m**\u001b[0m\u001b[0mkwargs\u001b[0m\u001b[0;34m)\u001b[0m\u001b[0;34m->\u001b[0m\u001b[0mAny\u001b[0m\u001b[0;34m:\u001b[0m\u001b[0;34m\u001b[0m\u001b[0;34m\u001b[0m\u001b[0m\n\u001b[0;32m---> 78\u001b[0;31m     \u001b[0;32mif\u001b[0m \u001b[0mis_listy\u001b[0m\u001b[0;34m(\u001b[0m\u001b[0mx\u001b[0m\u001b[0;34m)\u001b[0m\u001b[0;34m:\u001b[0m \u001b[0;32mreturn\u001b[0m \u001b[0;34m[\u001b[0m\u001b[0mrecurse\u001b[0m\u001b[0;34m(\u001b[0m\u001b[0mfunc\u001b[0m\u001b[0;34m,\u001b[0m \u001b[0mo\u001b[0m\u001b[0;34m,\u001b[0m \u001b[0;34m*\u001b[0m\u001b[0margs\u001b[0m\u001b[0;34m,\u001b[0m \u001b[0;34m**\u001b[0m\u001b[0mkwargs\u001b[0m\u001b[0;34m)\u001b[0m \u001b[0;32mfor\u001b[0m \u001b[0mo\u001b[0m \u001b[0;32min\u001b[0m \u001b[0mx\u001b[0m\u001b[0;34m]\u001b[0m\u001b[0;34m\u001b[0m\u001b[0;34m\u001b[0m\u001b[0m\n\u001b[0m\u001b[1;32m     79\u001b[0m     \u001b[0;32mif\u001b[0m \u001b[0mis_dict\u001b[0m\u001b[0;34m(\u001b[0m\u001b[0mx\u001b[0m\u001b[0;34m)\u001b[0m\u001b[0;34m:\u001b[0m  \u001b[0;32mreturn\u001b[0m \u001b[0;34m{\u001b[0m\u001b[0mk\u001b[0m\u001b[0;34m:\u001b[0m \u001b[0mrecurse\u001b[0m\u001b[0;34m(\u001b[0m\u001b[0mfunc\u001b[0m\u001b[0;34m,\u001b[0m \u001b[0mv\u001b[0m\u001b[0;34m,\u001b[0m \u001b[0;34m*\u001b[0m\u001b[0margs\u001b[0m\u001b[0;34m,\u001b[0m \u001b[0;34m**\u001b[0m\u001b[0mkwargs\u001b[0m\u001b[0;34m)\u001b[0m \u001b[0;32mfor\u001b[0m \u001b[0mk\u001b[0m\u001b[0;34m,\u001b[0m\u001b[0mv\u001b[0m \u001b[0;32min\u001b[0m \u001b[0mx\u001b[0m\u001b[0;34m.\u001b[0m\u001b[0mitems\u001b[0m\u001b[0;34m(\u001b[0m\u001b[0;34m)\u001b[0m\u001b[0;34m}\u001b[0m\u001b[0;34m\u001b[0m\u001b[0;34m\u001b[0m\u001b[0m\n",
            "\u001b[0;32m/usr/local/lib/python3.6/dist-packages/fastai/core.py\u001b[0m in \u001b[0;36m<listcomp>\u001b[0;34m(.0)\u001b[0m\n\u001b[1;32m     77\u001b[0m \u001b[0;32mdef\u001b[0m \u001b[0mrecurse\u001b[0m\u001b[0;34m(\u001b[0m\u001b[0mfunc\u001b[0m\u001b[0;34m:\u001b[0m\u001b[0mCallable\u001b[0m\u001b[0;34m,\u001b[0m \u001b[0mx\u001b[0m\u001b[0;34m:\u001b[0m\u001b[0mAny\u001b[0m\u001b[0;34m,\u001b[0m \u001b[0;34m*\u001b[0m\u001b[0margs\u001b[0m\u001b[0;34m,\u001b[0m \u001b[0;34m**\u001b[0m\u001b[0mkwargs\u001b[0m\u001b[0;34m)\u001b[0m\u001b[0;34m->\u001b[0m\u001b[0mAny\u001b[0m\u001b[0;34m:\u001b[0m\u001b[0;34m\u001b[0m\u001b[0;34m\u001b[0m\u001b[0m\n\u001b[0;32m---> 78\u001b[0;31m     \u001b[0;32mif\u001b[0m \u001b[0mis_listy\u001b[0m\u001b[0;34m(\u001b[0m\u001b[0mx\u001b[0m\u001b[0;34m)\u001b[0m\u001b[0;34m:\u001b[0m \u001b[0;32mreturn\u001b[0m \u001b[0;34m[\u001b[0m\u001b[0mrecurse\u001b[0m\u001b[0;34m(\u001b[0m\u001b[0mfunc\u001b[0m\u001b[0;34m,\u001b[0m \u001b[0mo\u001b[0m\u001b[0;34m,\u001b[0m \u001b[0;34m*\u001b[0m\u001b[0margs\u001b[0m\u001b[0;34m,\u001b[0m \u001b[0;34m**\u001b[0m\u001b[0mkwargs\u001b[0m\u001b[0;34m)\u001b[0m \u001b[0;32mfor\u001b[0m \u001b[0mo\u001b[0m \u001b[0;32min\u001b[0m \u001b[0mx\u001b[0m\u001b[0;34m]\u001b[0m\u001b[0;34m\u001b[0m\u001b[0;34m\u001b[0m\u001b[0m\n\u001b[0m\u001b[1;32m     79\u001b[0m     \u001b[0;32mif\u001b[0m \u001b[0mis_dict\u001b[0m\u001b[0;34m(\u001b[0m\u001b[0mx\u001b[0m\u001b[0;34m)\u001b[0m\u001b[0;34m:\u001b[0m  \u001b[0;32mreturn\u001b[0m \u001b[0;34m{\u001b[0m\u001b[0mk\u001b[0m\u001b[0;34m:\u001b[0m \u001b[0mrecurse\u001b[0m\u001b[0;34m(\u001b[0m\u001b[0mfunc\u001b[0m\u001b[0;34m,\u001b[0m \u001b[0mv\u001b[0m\u001b[0;34m,\u001b[0m \u001b[0;34m*\u001b[0m\u001b[0margs\u001b[0m\u001b[0;34m,\u001b[0m \u001b[0;34m**\u001b[0m\u001b[0mkwargs\u001b[0m\u001b[0;34m)\u001b[0m \u001b[0;32mfor\u001b[0m \u001b[0mk\u001b[0m\u001b[0;34m,\u001b[0m\u001b[0mv\u001b[0m \u001b[0;32min\u001b[0m \u001b[0mx\u001b[0m\u001b[0;34m.\u001b[0m\u001b[0mitems\u001b[0m\u001b[0;34m(\u001b[0m\u001b[0;34m)\u001b[0m\u001b[0;34m}\u001b[0m\u001b[0;34m\u001b[0m\u001b[0;34m\u001b[0m\u001b[0m\n",
            "\u001b[0;32m/usr/local/lib/python3.6/dist-packages/fastai/core.py\u001b[0m in \u001b[0;36mrecurse\u001b[0;34m(func, x, *args, **kwargs)\u001b[0m\n\u001b[1;32m     79\u001b[0m     \u001b[0;32mif\u001b[0m \u001b[0mis_dict\u001b[0m\u001b[0;34m(\u001b[0m\u001b[0mx\u001b[0m\u001b[0;34m)\u001b[0m\u001b[0;34m:\u001b[0m  \u001b[0;32mreturn\u001b[0m \u001b[0;34m{\u001b[0m\u001b[0mk\u001b[0m\u001b[0;34m:\u001b[0m \u001b[0mrecurse\u001b[0m\u001b[0;34m(\u001b[0m\u001b[0mfunc\u001b[0m\u001b[0;34m,\u001b[0m \u001b[0mv\u001b[0m\u001b[0;34m,\u001b[0m \u001b[0;34m*\u001b[0m\u001b[0margs\u001b[0m\u001b[0;34m,\u001b[0m \u001b[0;34m**\u001b[0m\u001b[0mkwargs\u001b[0m\u001b[0;34m)\u001b[0m \u001b[0;32mfor\u001b[0m \u001b[0mk\u001b[0m\u001b[0;34m,\u001b[0m\u001b[0mv\u001b[0m \u001b[0;32min\u001b[0m \u001b[0mx\u001b[0m\u001b[0;34m.\u001b[0m\u001b[0mitems\u001b[0m\u001b[0;34m(\u001b[0m\u001b[0;34m)\u001b[0m\u001b[0;34m}\u001b[0m\u001b[0;34m\u001b[0m\u001b[0;34m\u001b[0m\u001b[0m\n\u001b[0;32m---> 80\u001b[0;31m     \u001b[0;32mreturn\u001b[0m \u001b[0mfunc\u001b[0m\u001b[0;34m(\u001b[0m\u001b[0mx\u001b[0m\u001b[0;34m,\u001b[0m \u001b[0;34m*\u001b[0m\u001b[0margs\u001b[0m\u001b[0;34m,\u001b[0m \u001b[0;34m**\u001b[0m\u001b[0mkwargs\u001b[0m\u001b[0;34m)\u001b[0m\u001b[0;34m\u001b[0m\u001b[0;34m\u001b[0m\u001b[0m\n\u001b[0m\u001b[1;32m     81\u001b[0m \u001b[0;34m\u001b[0m\u001b[0m\n",
            "\u001b[0;32m/usr/local/lib/python3.6/dist-packages/fastai/torch_core.py\u001b[0m in \u001b[0;36m<lambda>\u001b[0;34m(x)\u001b[0m\n\u001b[1;32m    122\u001b[0m     \u001b[0mdevice\u001b[0m \u001b[0;34m=\u001b[0m \u001b[0mifnone\u001b[0m\u001b[0;34m(\u001b[0m\u001b[0mdevice\u001b[0m\u001b[0;34m,\u001b[0m \u001b[0mdefaults\u001b[0m\u001b[0;34m.\u001b[0m\u001b[0mdevice\u001b[0m\u001b[0;34m)\u001b[0m\u001b[0;34m\u001b[0m\u001b[0;34m\u001b[0m\u001b[0m\n\u001b[0;32m--> 123\u001b[0;31m     \u001b[0;32mreturn\u001b[0m \u001b[0mrecurse\u001b[0m\u001b[0;34m(\u001b[0m\u001b[0;32mlambda\u001b[0m \u001b[0mx\u001b[0m\u001b[0;34m:\u001b[0m \u001b[0mx\u001b[0m\u001b[0;34m.\u001b[0m\u001b[0mto\u001b[0m\u001b[0;34m(\u001b[0m\u001b[0mdevice\u001b[0m\u001b[0;34m,\u001b[0m \u001b[0mnon_blocking\u001b[0m\u001b[0;34m=\u001b[0m\u001b[0;32mTrue\u001b[0m\u001b[0;34m)\u001b[0m\u001b[0;34m,\u001b[0m \u001b[0mb\u001b[0m\u001b[0;34m)\u001b[0m\u001b[0;34m\u001b[0m\u001b[0;34m\u001b[0m\u001b[0m\n\u001b[0m\u001b[1;32m    124\u001b[0m \u001b[0;34m\u001b[0m\u001b[0m\n",
            "\u001b[0;31mRuntimeError\u001b[0m: CUDA out of memory. Tried to allocate 110.00 MiB (GPU 0; 11.17 GiB total capacity; 10.85 GiB already allocated; 5.81 MiB free; 10.86 GiB reserved in total by PyTorch)",
            "\nDuring handling of the above exception, another exception occurred:\n",
            "\u001b[0;31mRuntimeError\u001b[0m                              Traceback (most recent call last)",
            "\u001b[0;32m<ipython-input-11-c239a9dca442>\u001b[0m in \u001b[0;36m<module>\u001b[0;34m()\u001b[0m\n\u001b[0;32m----> 1\u001b[0;31m \u001b[0mlearner\u001b[0m\u001b[0;34m.\u001b[0m\u001b[0mlr_find\u001b[0m\u001b[0;34m(\u001b[0m\u001b[0mstart_lr\u001b[0m\u001b[0;34m=\u001b[0m\u001b[0;36m1e-10\u001b[0m\u001b[0;34m,\u001b[0m \u001b[0mend_lr\u001b[0m\u001b[0;34m=\u001b[0m\u001b[0;36m10\u001b[0m\u001b[0;34m)\u001b[0m\u001b[0;34m\u001b[0m\u001b[0;34m\u001b[0m\u001b[0m\n\u001b[0m\u001b[1;32m      2\u001b[0m \u001b[0mlearner\u001b[0m\u001b[0;34m.\u001b[0m\u001b[0mrecorder\u001b[0m\u001b[0;34m.\u001b[0m\u001b[0mplot\u001b[0m\u001b[0;34m(\u001b[0m\u001b[0;34m)\u001b[0m\u001b[0;34m\u001b[0m\u001b[0;34m\u001b[0m\u001b[0m\n\u001b[1;32m      3\u001b[0m \u001b[0;31m# found that 1e+00 works fine\u001b[0m\u001b[0;34m\u001b[0m\u001b[0;34m\u001b[0m\u001b[0;34m\u001b[0m\u001b[0m\n",
            "\u001b[0;32m/usr/local/lib/python3.6/dist-packages/fastai/train.py\u001b[0m in \u001b[0;36mlr_find\u001b[0;34m(learn, start_lr, end_lr, num_it, stop_div, wd)\u001b[0m\n\u001b[1;32m     39\u001b[0m     \u001b[0mcb\u001b[0m \u001b[0;34m=\u001b[0m \u001b[0mLRFinder\u001b[0m\u001b[0;34m(\u001b[0m\u001b[0mlearn\u001b[0m\u001b[0;34m,\u001b[0m \u001b[0mstart_lr\u001b[0m\u001b[0;34m,\u001b[0m \u001b[0mend_lr\u001b[0m\u001b[0;34m,\u001b[0m \u001b[0mnum_it\u001b[0m\u001b[0;34m,\u001b[0m \u001b[0mstop_div\u001b[0m\u001b[0;34m)\u001b[0m\u001b[0;34m\u001b[0m\u001b[0;34m\u001b[0m\u001b[0m\n\u001b[1;32m     40\u001b[0m     \u001b[0mepochs\u001b[0m \u001b[0;34m=\u001b[0m \u001b[0mint\u001b[0m\u001b[0;34m(\u001b[0m\u001b[0mnp\u001b[0m\u001b[0;34m.\u001b[0m\u001b[0mceil\u001b[0m\u001b[0;34m(\u001b[0m\u001b[0mnum_it\u001b[0m\u001b[0;34m/\u001b[0m\u001b[0mlen\u001b[0m\u001b[0;34m(\u001b[0m\u001b[0mlearn\u001b[0m\u001b[0;34m.\u001b[0m\u001b[0mdata\u001b[0m\u001b[0;34m.\u001b[0m\u001b[0mtrain_dl\u001b[0m\u001b[0;34m)\u001b[0m\u001b[0;34m)\u001b[0m\u001b[0;34m)\u001b[0m \u001b[0;34m*\u001b[0m \u001b[0;34m(\u001b[0m\u001b[0mnum_distrib\u001b[0m\u001b[0;34m(\u001b[0m\u001b[0;34m)\u001b[0m \u001b[0;32mor\u001b[0m \u001b[0;36m1\u001b[0m\u001b[0;34m)\u001b[0m\u001b[0;34m\u001b[0m\u001b[0;34m\u001b[0m\u001b[0m\n\u001b[0;32m---> 41\u001b[0;31m     \u001b[0mlearn\u001b[0m\u001b[0;34m.\u001b[0m\u001b[0mfit\u001b[0m\u001b[0;34m(\u001b[0m\u001b[0mepochs\u001b[0m\u001b[0;34m,\u001b[0m \u001b[0mstart_lr\u001b[0m\u001b[0;34m,\u001b[0m \u001b[0mcallbacks\u001b[0m\u001b[0;34m=\u001b[0m\u001b[0;34m[\u001b[0m\u001b[0mcb\u001b[0m\u001b[0;34m]\u001b[0m\u001b[0;34m,\u001b[0m \u001b[0mwd\u001b[0m\u001b[0;34m=\u001b[0m\u001b[0mwd\u001b[0m\u001b[0;34m)\u001b[0m\u001b[0;34m\u001b[0m\u001b[0;34m\u001b[0m\u001b[0m\n\u001b[0m\u001b[1;32m     42\u001b[0m \u001b[0;34m\u001b[0m\u001b[0m\n\u001b[1;32m     43\u001b[0m def to_fp16(learn:Learner, loss_scale:float=None, max_noskip:int=1000, dynamic:bool=True, clip:float=None,\n",
            "\u001b[0;32m/usr/local/lib/python3.6/dist-packages/fastai/basic_train.py\u001b[0m in \u001b[0;36mfit\u001b[0;34m(self, epochs, lr, wd, callbacks)\u001b[0m\n\u001b[1;32m    198\u001b[0m         \u001b[0;32melse\u001b[0m\u001b[0;34m:\u001b[0m \u001b[0mself\u001b[0m\u001b[0;34m.\u001b[0m\u001b[0mopt\u001b[0m\u001b[0;34m.\u001b[0m\u001b[0mlr\u001b[0m\u001b[0;34m,\u001b[0m\u001b[0mself\u001b[0m\u001b[0;34m.\u001b[0m\u001b[0mopt\u001b[0m\u001b[0;34m.\u001b[0m\u001b[0mwd\u001b[0m \u001b[0;34m=\u001b[0m \u001b[0mlr\u001b[0m\u001b[0;34m,\u001b[0m\u001b[0mwd\u001b[0m\u001b[0;34m\u001b[0m\u001b[0;34m\u001b[0m\u001b[0m\n\u001b[1;32m    199\u001b[0m         \u001b[0mcallbacks\u001b[0m \u001b[0;34m=\u001b[0m \u001b[0;34m[\u001b[0m\u001b[0mcb\u001b[0m\u001b[0;34m(\u001b[0m\u001b[0mself\u001b[0m\u001b[0;34m)\u001b[0m \u001b[0;32mfor\u001b[0m \u001b[0mcb\u001b[0m \u001b[0;32min\u001b[0m \u001b[0mself\u001b[0m\u001b[0;34m.\u001b[0m\u001b[0mcallback_fns\u001b[0m \u001b[0;34m+\u001b[0m \u001b[0mlistify\u001b[0m\u001b[0;34m(\u001b[0m\u001b[0mdefaults\u001b[0m\u001b[0;34m.\u001b[0m\u001b[0mextra_callback_fns\u001b[0m\u001b[0;34m)\u001b[0m\u001b[0;34m]\u001b[0m \u001b[0;34m+\u001b[0m \u001b[0mlistify\u001b[0m\u001b[0;34m(\u001b[0m\u001b[0mcallbacks\u001b[0m\u001b[0;34m)\u001b[0m\u001b[0;34m\u001b[0m\u001b[0;34m\u001b[0m\u001b[0m\n\u001b[0;32m--> 200\u001b[0;31m         \u001b[0mfit\u001b[0m\u001b[0;34m(\u001b[0m\u001b[0mepochs\u001b[0m\u001b[0;34m,\u001b[0m \u001b[0mself\u001b[0m\u001b[0;34m,\u001b[0m \u001b[0mmetrics\u001b[0m\u001b[0;34m=\u001b[0m\u001b[0mself\u001b[0m\u001b[0;34m.\u001b[0m\u001b[0mmetrics\u001b[0m\u001b[0;34m,\u001b[0m \u001b[0mcallbacks\u001b[0m\u001b[0;34m=\u001b[0m\u001b[0mself\u001b[0m\u001b[0;34m.\u001b[0m\u001b[0mcallbacks\u001b[0m\u001b[0;34m+\u001b[0m\u001b[0mcallbacks\u001b[0m\u001b[0;34m)\u001b[0m\u001b[0;34m\u001b[0m\u001b[0;34m\u001b[0m\u001b[0m\n\u001b[0m\u001b[1;32m    201\u001b[0m \u001b[0;34m\u001b[0m\u001b[0m\n\u001b[1;32m    202\u001b[0m     \u001b[0;32mdef\u001b[0m \u001b[0mcreate_opt\u001b[0m\u001b[0;34m(\u001b[0m\u001b[0mself\u001b[0m\u001b[0;34m,\u001b[0m \u001b[0mlr\u001b[0m\u001b[0;34m:\u001b[0m\u001b[0mFloats\u001b[0m\u001b[0;34m,\u001b[0m \u001b[0mwd\u001b[0m\u001b[0;34m:\u001b[0m\u001b[0mFloats\u001b[0m\u001b[0;34m=\u001b[0m\u001b[0;36m0.\u001b[0m\u001b[0;34m)\u001b[0m\u001b[0;34m->\u001b[0m\u001b[0;32mNone\u001b[0m\u001b[0;34m:\u001b[0m\u001b[0;34m\u001b[0m\u001b[0;34m\u001b[0m\u001b[0m\n",
            "\u001b[0;32m/usr/local/lib/python3.6/dist-packages/fastai/basic_train.py\u001b[0m in \u001b[0;36mfit\u001b[0;34m(epochs, learn, callbacks, metrics)\u001b[0m\n\u001b[1;32m    110\u001b[0m         \u001b[0mexception\u001b[0m \u001b[0;34m=\u001b[0m \u001b[0me\u001b[0m\u001b[0;34m\u001b[0m\u001b[0;34m\u001b[0m\u001b[0m\n\u001b[1;32m    111\u001b[0m         \u001b[0;32mraise\u001b[0m\u001b[0;34m\u001b[0m\u001b[0;34m\u001b[0m\u001b[0m\n\u001b[0;32m--> 112\u001b[0;31m     \u001b[0;32mfinally\u001b[0m\u001b[0;34m:\u001b[0m \u001b[0mcb_handler\u001b[0m\u001b[0;34m.\u001b[0m\u001b[0mon_train_end\u001b[0m\u001b[0;34m(\u001b[0m\u001b[0mexception\u001b[0m\u001b[0;34m)\u001b[0m\u001b[0;34m\u001b[0m\u001b[0;34m\u001b[0m\u001b[0m\n\u001b[0m\u001b[1;32m    113\u001b[0m \u001b[0;34m\u001b[0m\u001b[0m\n\u001b[1;32m    114\u001b[0m loss_func_name2activ = {'cross_entropy_loss': F.softmax, 'nll_loss': torch.exp, 'poisson_nll_loss': torch.exp,\n",
            "\u001b[0;32m/usr/local/lib/python3.6/dist-packages/fastai/callback.py\u001b[0m in \u001b[0;36mon_train_end\u001b[0;34m(self, exception)\u001b[0m\n\u001b[1;32m    321\u001b[0m     \u001b[0;32mdef\u001b[0m \u001b[0mon_train_end\u001b[0m\u001b[0;34m(\u001b[0m\u001b[0mself\u001b[0m\u001b[0;34m,\u001b[0m \u001b[0mexception\u001b[0m\u001b[0;34m:\u001b[0m\u001b[0mUnion\u001b[0m\u001b[0;34m[\u001b[0m\u001b[0mbool\u001b[0m\u001b[0;34m,\u001b[0m\u001b[0mException\u001b[0m\u001b[0;34m]\u001b[0m\u001b[0;34m)\u001b[0m\u001b[0;34m->\u001b[0m\u001b[0;32mNone\u001b[0m\u001b[0;34m:\u001b[0m\u001b[0;34m\u001b[0m\u001b[0;34m\u001b[0m\u001b[0m\n\u001b[1;32m    322\u001b[0m         \u001b[0;34m\"Handle end of training, `exception` is an `Exception` or False if no exceptions during training.\"\u001b[0m\u001b[0;34m\u001b[0m\u001b[0;34m\u001b[0m\u001b[0m\n\u001b[0;32m--> 323\u001b[0;31m         \u001b[0mself\u001b[0m\u001b[0;34m(\u001b[0m\u001b[0;34m'train_end'\u001b[0m\u001b[0;34m,\u001b[0m \u001b[0mexception\u001b[0m\u001b[0;34m=\u001b[0m\u001b[0mexception\u001b[0m\u001b[0;34m)\u001b[0m\u001b[0;34m\u001b[0m\u001b[0;34m\u001b[0m\u001b[0m\n\u001b[0m\u001b[1;32m    324\u001b[0m \u001b[0;34m\u001b[0m\u001b[0m\n\u001b[1;32m    325\u001b[0m     \u001b[0;34m@\u001b[0m\u001b[0mproperty\u001b[0m\u001b[0;34m\u001b[0m\u001b[0;34m\u001b[0m\u001b[0m\n",
            "\u001b[0;32m/usr/local/lib/python3.6/dist-packages/fastai/callback.py\u001b[0m in \u001b[0;36m__call__\u001b[0;34m(self, cb_name, call_mets, **kwargs)\u001b[0m\n\u001b[1;32m    249\u001b[0m         \u001b[0;32mif\u001b[0m \u001b[0mcall_mets\u001b[0m\u001b[0;34m:\u001b[0m\u001b[0;34m\u001b[0m\u001b[0;34m\u001b[0m\u001b[0m\n\u001b[1;32m    250\u001b[0m             \u001b[0;32mfor\u001b[0m \u001b[0mmet\u001b[0m \u001b[0;32min\u001b[0m \u001b[0mself\u001b[0m\u001b[0;34m.\u001b[0m\u001b[0mmetrics\u001b[0m\u001b[0;34m:\u001b[0m \u001b[0mself\u001b[0m\u001b[0;34m.\u001b[0m\u001b[0m_call_and_update\u001b[0m\u001b[0;34m(\u001b[0m\u001b[0mmet\u001b[0m\u001b[0;34m,\u001b[0m \u001b[0mcb_name\u001b[0m\u001b[0;34m,\u001b[0m \u001b[0;34m**\u001b[0m\u001b[0mkwargs\u001b[0m\u001b[0;34m)\u001b[0m\u001b[0;34m\u001b[0m\u001b[0;34m\u001b[0m\u001b[0m\n\u001b[0;32m--> 251\u001b[0;31m         \u001b[0;32mfor\u001b[0m \u001b[0mcb\u001b[0m \u001b[0;32min\u001b[0m \u001b[0mself\u001b[0m\u001b[0;34m.\u001b[0m\u001b[0mcallbacks\u001b[0m\u001b[0;34m:\u001b[0m \u001b[0mself\u001b[0m\u001b[0;34m.\u001b[0m\u001b[0m_call_and_update\u001b[0m\u001b[0;34m(\u001b[0m\u001b[0mcb\u001b[0m\u001b[0;34m,\u001b[0m \u001b[0mcb_name\u001b[0m\u001b[0;34m,\u001b[0m \u001b[0;34m**\u001b[0m\u001b[0mkwargs\u001b[0m\u001b[0;34m)\u001b[0m\u001b[0;34m\u001b[0m\u001b[0;34m\u001b[0m\u001b[0m\n\u001b[0m\u001b[1;32m    252\u001b[0m \u001b[0;34m\u001b[0m\u001b[0m\n\u001b[1;32m    253\u001b[0m     \u001b[0;32mdef\u001b[0m \u001b[0mset_dl\u001b[0m\u001b[0;34m(\u001b[0m\u001b[0mself\u001b[0m\u001b[0;34m,\u001b[0m \u001b[0mdl\u001b[0m\u001b[0;34m:\u001b[0m\u001b[0mDataLoader\u001b[0m\u001b[0;34m)\u001b[0m\u001b[0;34m:\u001b[0m\u001b[0;34m\u001b[0m\u001b[0;34m\u001b[0m\u001b[0m\n",
            "\u001b[0;32m/usr/local/lib/python3.6/dist-packages/fastai/callback.py\u001b[0m in \u001b[0;36m_call_and_update\u001b[0;34m(self, cb, cb_name, **kwargs)\u001b[0m\n\u001b[1;32m    239\u001b[0m     \u001b[0;32mdef\u001b[0m \u001b[0m_call_and_update\u001b[0m\u001b[0;34m(\u001b[0m\u001b[0mself\u001b[0m\u001b[0;34m,\u001b[0m \u001b[0mcb\u001b[0m\u001b[0;34m,\u001b[0m \u001b[0mcb_name\u001b[0m\u001b[0;34m,\u001b[0m \u001b[0;34m**\u001b[0m\u001b[0mkwargs\u001b[0m\u001b[0;34m)\u001b[0m\u001b[0;34m->\u001b[0m\u001b[0;32mNone\u001b[0m\u001b[0;34m:\u001b[0m\u001b[0;34m\u001b[0m\u001b[0;34m\u001b[0m\u001b[0m\n\u001b[1;32m    240\u001b[0m         \u001b[0;34m\"Call `cb_name` on `cb` and update the inner state.\"\u001b[0m\u001b[0;34m\u001b[0m\u001b[0;34m\u001b[0m\u001b[0m\n\u001b[0;32m--> 241\u001b[0;31m         \u001b[0mnew\u001b[0m \u001b[0;34m=\u001b[0m \u001b[0mifnone\u001b[0m\u001b[0;34m(\u001b[0m\u001b[0mgetattr\u001b[0m\u001b[0;34m(\u001b[0m\u001b[0mcb\u001b[0m\u001b[0;34m,\u001b[0m \u001b[0;34mf'on_{cb_name}'\u001b[0m\u001b[0;34m)\u001b[0m\u001b[0;34m(\u001b[0m\u001b[0;34m**\u001b[0m\u001b[0mself\u001b[0m\u001b[0;34m.\u001b[0m\u001b[0mstate_dict\u001b[0m\u001b[0;34m,\u001b[0m \u001b[0;34m**\u001b[0m\u001b[0mkwargs\u001b[0m\u001b[0;34m)\u001b[0m\u001b[0;34m,\u001b[0m \u001b[0mdict\u001b[0m\u001b[0;34m(\u001b[0m\u001b[0;34m)\u001b[0m\u001b[0;34m)\u001b[0m\u001b[0;34m\u001b[0m\u001b[0;34m\u001b[0m\u001b[0m\n\u001b[0m\u001b[1;32m    242\u001b[0m         \u001b[0;32mfor\u001b[0m \u001b[0mk\u001b[0m\u001b[0;34m,\u001b[0m\u001b[0mv\u001b[0m \u001b[0;32min\u001b[0m \u001b[0mnew\u001b[0m\u001b[0;34m.\u001b[0m\u001b[0mitems\u001b[0m\u001b[0;34m(\u001b[0m\u001b[0;34m)\u001b[0m\u001b[0;34m:\u001b[0m\u001b[0;34m\u001b[0m\u001b[0;34m\u001b[0m\u001b[0m\n\u001b[1;32m    243\u001b[0m             \u001b[0;32mif\u001b[0m \u001b[0mk\u001b[0m \u001b[0;32mnot\u001b[0m \u001b[0;32min\u001b[0m \u001b[0mself\u001b[0m\u001b[0;34m.\u001b[0m\u001b[0mstate_dict\u001b[0m\u001b[0;34m:\u001b[0m\u001b[0;34m\u001b[0m\u001b[0;34m\u001b[0m\u001b[0m\n",
            "\u001b[0;32m/usr/local/lib/python3.6/dist-packages/fastai/callbacks/lr_finder.py\u001b[0m in \u001b[0;36mon_train_end\u001b[0;34m(self, epoch, num_batch, **kwargs)\u001b[0m\n\u001b[1;32m     37\u001b[0m     \u001b[0;32mdef\u001b[0m \u001b[0mon_train_end\u001b[0m\u001b[0;34m(\u001b[0m\u001b[0mself\u001b[0m\u001b[0;34m,\u001b[0m \u001b[0mepoch\u001b[0m\u001b[0;34m:\u001b[0m\u001b[0mint\u001b[0m\u001b[0;34m,\u001b[0m \u001b[0mnum_batch\u001b[0m\u001b[0;34m:\u001b[0m\u001b[0mint\u001b[0m\u001b[0;34m,\u001b[0m \u001b[0;34m**\u001b[0m\u001b[0mkwargs\u001b[0m\u001b[0;34m:\u001b[0m\u001b[0mAny\u001b[0m\u001b[0;34m)\u001b[0m\u001b[0;34m->\u001b[0m\u001b[0;32mNone\u001b[0m\u001b[0;34m:\u001b[0m\u001b[0;34m\u001b[0m\u001b[0;34m\u001b[0m\u001b[0m\n\u001b[1;32m     38\u001b[0m         \u001b[0;34m\"Cleanup learn model weights disturbed during LRFinder exploration.\"\u001b[0m\u001b[0;34m\u001b[0m\u001b[0;34m\u001b[0m\u001b[0m\n\u001b[0;32m---> 39\u001b[0;31m         \u001b[0mself\u001b[0m\u001b[0;34m.\u001b[0m\u001b[0mlearn\u001b[0m\u001b[0;34m.\u001b[0m\u001b[0mload\u001b[0m\u001b[0;34m(\u001b[0m\u001b[0;34m'tmp'\u001b[0m\u001b[0;34m,\u001b[0m \u001b[0mpurge\u001b[0m\u001b[0;34m=\u001b[0m\u001b[0;32mFalse\u001b[0m\u001b[0;34m)\u001b[0m\u001b[0;34m\u001b[0m\u001b[0;34m\u001b[0m\u001b[0m\n\u001b[0m\u001b[1;32m     40\u001b[0m         \u001b[0;32mif\u001b[0m \u001b[0mhasattr\u001b[0m\u001b[0;34m(\u001b[0m\u001b[0mself\u001b[0m\u001b[0;34m.\u001b[0m\u001b[0mlearn\u001b[0m\u001b[0;34m.\u001b[0m\u001b[0mmodel\u001b[0m\u001b[0;34m,\u001b[0m \u001b[0;34m'reset'\u001b[0m\u001b[0;34m)\u001b[0m\u001b[0;34m:\u001b[0m \u001b[0mself\u001b[0m\u001b[0;34m.\u001b[0m\u001b[0mlearn\u001b[0m\u001b[0;34m.\u001b[0m\u001b[0mmodel\u001b[0m\u001b[0;34m.\u001b[0m\u001b[0mreset\u001b[0m\u001b[0;34m(\u001b[0m\u001b[0;34m)\u001b[0m\u001b[0;34m\u001b[0m\u001b[0;34m\u001b[0m\u001b[0m\n\u001b[1;32m     41\u001b[0m         \u001b[0;32mfor\u001b[0m \u001b[0mcb\u001b[0m \u001b[0;32min\u001b[0m \u001b[0mself\u001b[0m\u001b[0;34m.\u001b[0m\u001b[0mcallbacks\u001b[0m\u001b[0;34m:\u001b[0m\u001b[0;34m\u001b[0m\u001b[0;34m\u001b[0m\u001b[0m\n",
            "\u001b[0;32m/usr/local/lib/python3.6/dist-packages/fastai/basic_train.py\u001b[0m in \u001b[0;36mload\u001b[0;34m(self, file, device, strict, with_opt, purge, remove_module)\u001b[0m\n\u001b[1;32m    267\u001b[0m         \u001b[0msource\u001b[0m \u001b[0;34m=\u001b[0m \u001b[0mself\u001b[0m\u001b[0;34m.\u001b[0m\u001b[0mpath\u001b[0m\u001b[0;34m/\u001b[0m\u001b[0mself\u001b[0m\u001b[0;34m.\u001b[0m\u001b[0mmodel_dir\u001b[0m\u001b[0;34m/\u001b[0m\u001b[0;34mf'{file}.pth'\u001b[0m \u001b[0;32mif\u001b[0m \u001b[0mis_pathlike\u001b[0m\u001b[0;34m(\u001b[0m\u001b[0mfile\u001b[0m\u001b[0;34m)\u001b[0m \u001b[0;32melse\u001b[0m \u001b[0mfile\u001b[0m\u001b[0;34m\u001b[0m\u001b[0;34m\u001b[0m\u001b[0m\n\u001b[1;32m    268\u001b[0m         \u001b[0mdistrib_barrier\u001b[0m\u001b[0;34m(\u001b[0m\u001b[0;34m)\u001b[0m\u001b[0;34m\u001b[0m\u001b[0;34m\u001b[0m\u001b[0m\n\u001b[0;32m--> 269\u001b[0;31m         \u001b[0mstate\u001b[0m \u001b[0;34m=\u001b[0m \u001b[0mtorch\u001b[0m\u001b[0;34m.\u001b[0m\u001b[0mload\u001b[0m\u001b[0;34m(\u001b[0m\u001b[0msource\u001b[0m\u001b[0;34m,\u001b[0m \u001b[0mmap_location\u001b[0m\u001b[0;34m=\u001b[0m\u001b[0mdevice\u001b[0m\u001b[0;34m)\u001b[0m\u001b[0;34m\u001b[0m\u001b[0;34m\u001b[0m\u001b[0m\n\u001b[0m\u001b[1;32m    270\u001b[0m         \u001b[0;32mif\u001b[0m \u001b[0mset\u001b[0m\u001b[0;34m(\u001b[0m\u001b[0mstate\u001b[0m\u001b[0;34m.\u001b[0m\u001b[0mkeys\u001b[0m\u001b[0;34m(\u001b[0m\u001b[0;34m)\u001b[0m\u001b[0;34m)\u001b[0m \u001b[0;34m==\u001b[0m \u001b[0;34m{\u001b[0m\u001b[0;34m'model'\u001b[0m\u001b[0;34m,\u001b[0m \u001b[0;34m'opt'\u001b[0m\u001b[0;34m}\u001b[0m\u001b[0;34m:\u001b[0m\u001b[0;34m\u001b[0m\u001b[0;34m\u001b[0m\u001b[0m\n\u001b[1;32m    271\u001b[0m             \u001b[0mmodel_state\u001b[0m \u001b[0;34m=\u001b[0m \u001b[0mstate\u001b[0m\u001b[0;34m[\u001b[0m\u001b[0;34m'model'\u001b[0m\u001b[0;34m]\u001b[0m\u001b[0;34m\u001b[0m\u001b[0;34m\u001b[0m\u001b[0m\n",
            "\u001b[0;32m/usr/local/lib/python3.6/dist-packages/torch/serialization.py\u001b[0m in \u001b[0;36mload\u001b[0;34m(f, map_location, pickle_module, **pickle_load_args)\u001b[0m\n\u001b[1;32m    591\u001b[0m                     \u001b[0;32mreturn\u001b[0m \u001b[0mtorch\u001b[0m\u001b[0;34m.\u001b[0m\u001b[0mjit\u001b[0m\u001b[0;34m.\u001b[0m\u001b[0mload\u001b[0m\u001b[0;34m(\u001b[0m\u001b[0mf\u001b[0m\u001b[0;34m)\u001b[0m\u001b[0;34m\u001b[0m\u001b[0;34m\u001b[0m\u001b[0m\n\u001b[1;32m    592\u001b[0m                 \u001b[0;32mreturn\u001b[0m \u001b[0m_load\u001b[0m\u001b[0;34m(\u001b[0m\u001b[0mopened_zipfile\u001b[0m\u001b[0;34m,\u001b[0m \u001b[0mmap_location\u001b[0m\u001b[0;34m,\u001b[0m \u001b[0mpickle_module\u001b[0m\u001b[0;34m,\u001b[0m \u001b[0;34m**\u001b[0m\u001b[0mpickle_load_args\u001b[0m\u001b[0;34m)\u001b[0m\u001b[0;34m\u001b[0m\u001b[0;34m\u001b[0m\u001b[0m\n\u001b[0;32m--> 593\u001b[0;31m         \u001b[0;32mreturn\u001b[0m \u001b[0m_legacy_load\u001b[0m\u001b[0;34m(\u001b[0m\u001b[0mopened_file\u001b[0m\u001b[0;34m,\u001b[0m \u001b[0mmap_location\u001b[0m\u001b[0;34m,\u001b[0m \u001b[0mpickle_module\u001b[0m\u001b[0;34m,\u001b[0m \u001b[0;34m**\u001b[0m\u001b[0mpickle_load_args\u001b[0m\u001b[0;34m)\u001b[0m\u001b[0;34m\u001b[0m\u001b[0;34m\u001b[0m\u001b[0m\n\u001b[0m\u001b[1;32m    594\u001b[0m \u001b[0;34m\u001b[0m\u001b[0m\n\u001b[1;32m    595\u001b[0m \u001b[0;34m\u001b[0m\u001b[0m\n",
            "\u001b[0;32m/usr/local/lib/python3.6/dist-packages/torch/serialization.py\u001b[0m in \u001b[0;36m_legacy_load\u001b[0;34m(f, map_location, pickle_module, **pickle_load_args)\u001b[0m\n\u001b[1;32m    771\u001b[0m     \u001b[0munpickler\u001b[0m \u001b[0;34m=\u001b[0m \u001b[0mpickle_module\u001b[0m\u001b[0;34m.\u001b[0m\u001b[0mUnpickler\u001b[0m\u001b[0;34m(\u001b[0m\u001b[0mf\u001b[0m\u001b[0;34m,\u001b[0m \u001b[0;34m**\u001b[0m\u001b[0mpickle_load_args\u001b[0m\u001b[0;34m)\u001b[0m\u001b[0;34m\u001b[0m\u001b[0;34m\u001b[0m\u001b[0m\n\u001b[1;32m    772\u001b[0m     \u001b[0munpickler\u001b[0m\u001b[0;34m.\u001b[0m\u001b[0mpersistent_load\u001b[0m \u001b[0;34m=\u001b[0m \u001b[0mpersistent_load\u001b[0m\u001b[0;34m\u001b[0m\u001b[0;34m\u001b[0m\u001b[0m\n\u001b[0;32m--> 773\u001b[0;31m     \u001b[0mresult\u001b[0m \u001b[0;34m=\u001b[0m \u001b[0munpickler\u001b[0m\u001b[0;34m.\u001b[0m\u001b[0mload\u001b[0m\u001b[0;34m(\u001b[0m\u001b[0;34m)\u001b[0m\u001b[0;34m\u001b[0m\u001b[0;34m\u001b[0m\u001b[0m\n\u001b[0m\u001b[1;32m    774\u001b[0m \u001b[0;34m\u001b[0m\u001b[0m\n\u001b[1;32m    775\u001b[0m     \u001b[0mdeserialized_storage_keys\u001b[0m \u001b[0;34m=\u001b[0m \u001b[0mpickle_module\u001b[0m\u001b[0;34m.\u001b[0m\u001b[0mload\u001b[0m\u001b[0;34m(\u001b[0m\u001b[0mf\u001b[0m\u001b[0;34m,\u001b[0m \u001b[0;34m**\u001b[0m\u001b[0mpickle_load_args\u001b[0m\u001b[0;34m)\u001b[0m\u001b[0;34m\u001b[0m\u001b[0;34m\u001b[0m\u001b[0m\n",
            "\u001b[0;32m/usr/local/lib/python3.6/dist-packages/torch/serialization.py\u001b[0m in \u001b[0;36mpersistent_load\u001b[0;34m(saved_id)\u001b[0m\n\u001b[1;32m    727\u001b[0m                 \u001b[0mobj\u001b[0m \u001b[0;34m=\u001b[0m \u001b[0mdata_type\u001b[0m\u001b[0;34m(\u001b[0m\u001b[0msize\u001b[0m\u001b[0;34m)\u001b[0m\u001b[0;34m\u001b[0m\u001b[0;34m\u001b[0m\u001b[0m\n\u001b[1;32m    728\u001b[0m                 \u001b[0mobj\u001b[0m\u001b[0;34m.\u001b[0m\u001b[0m_torch_load_uninitialized\u001b[0m \u001b[0;34m=\u001b[0m \u001b[0;32mTrue\u001b[0m\u001b[0;34m\u001b[0m\u001b[0;34m\u001b[0m\u001b[0m\n\u001b[0;32m--> 729\u001b[0;31m                 \u001b[0mdeserialized_objects\u001b[0m\u001b[0;34m[\u001b[0m\u001b[0mroot_key\u001b[0m\u001b[0;34m]\u001b[0m \u001b[0;34m=\u001b[0m \u001b[0mrestore_location\u001b[0m\u001b[0;34m(\u001b[0m\u001b[0mobj\u001b[0m\u001b[0;34m,\u001b[0m \u001b[0mlocation\u001b[0m\u001b[0;34m)\u001b[0m\u001b[0;34m\u001b[0m\u001b[0;34m\u001b[0m\u001b[0m\n\u001b[0m\u001b[1;32m    730\u001b[0m             \u001b[0mstorage\u001b[0m \u001b[0;34m=\u001b[0m \u001b[0mdeserialized_objects\u001b[0m\u001b[0;34m[\u001b[0m\u001b[0mroot_key\u001b[0m\u001b[0;34m]\u001b[0m\u001b[0;34m\u001b[0m\u001b[0;34m\u001b[0m\u001b[0m\n\u001b[1;32m    731\u001b[0m             \u001b[0;32mif\u001b[0m \u001b[0mview_metadata\u001b[0m \u001b[0;32mis\u001b[0m \u001b[0;32mnot\u001b[0m \u001b[0;32mNone\u001b[0m\u001b[0;34m:\u001b[0m\u001b[0;34m\u001b[0m\u001b[0;34m\u001b[0m\u001b[0m\n",
            "\u001b[0;32m/usr/local/lib/python3.6/dist-packages/torch/serialization.py\u001b[0m in \u001b[0;36mrestore_location\u001b[0;34m(storage, location)\u001b[0m\n\u001b[1;32m    809\u001b[0m     \u001b[0;32melif\u001b[0m \u001b[0misinstance\u001b[0m\u001b[0;34m(\u001b[0m\u001b[0mmap_location\u001b[0m\u001b[0;34m,\u001b[0m \u001b[0mtorch\u001b[0m\u001b[0;34m.\u001b[0m\u001b[0mdevice\u001b[0m\u001b[0;34m)\u001b[0m\u001b[0;34m:\u001b[0m\u001b[0;34m\u001b[0m\u001b[0;34m\u001b[0m\u001b[0m\n\u001b[1;32m    810\u001b[0m         \u001b[0;32mdef\u001b[0m \u001b[0mrestore_location\u001b[0m\u001b[0;34m(\u001b[0m\u001b[0mstorage\u001b[0m\u001b[0;34m,\u001b[0m \u001b[0mlocation\u001b[0m\u001b[0;34m)\u001b[0m\u001b[0;34m:\u001b[0m\u001b[0;34m\u001b[0m\u001b[0;34m\u001b[0m\u001b[0m\n\u001b[0;32m--> 811\u001b[0;31m             \u001b[0;32mreturn\u001b[0m \u001b[0mdefault_restore_location\u001b[0m\u001b[0;34m(\u001b[0m\u001b[0mstorage\u001b[0m\u001b[0;34m,\u001b[0m \u001b[0mstr\u001b[0m\u001b[0;34m(\u001b[0m\u001b[0mmap_location\u001b[0m\u001b[0;34m)\u001b[0m\u001b[0;34m)\u001b[0m\u001b[0;34m\u001b[0m\u001b[0;34m\u001b[0m\u001b[0m\n\u001b[0m\u001b[1;32m    812\u001b[0m     \u001b[0;32melse\u001b[0m\u001b[0;34m:\u001b[0m\u001b[0;34m\u001b[0m\u001b[0;34m\u001b[0m\u001b[0m\n\u001b[1;32m    813\u001b[0m         \u001b[0;32mdef\u001b[0m \u001b[0mrestore_location\u001b[0m\u001b[0;34m(\u001b[0m\u001b[0mstorage\u001b[0m\u001b[0;34m,\u001b[0m \u001b[0mlocation\u001b[0m\u001b[0;34m)\u001b[0m\u001b[0;34m:\u001b[0m\u001b[0;34m\u001b[0m\u001b[0;34m\u001b[0m\u001b[0m\n",
            "\u001b[0;32m/usr/local/lib/python3.6/dist-packages/torch/serialization.py\u001b[0m in \u001b[0;36mdefault_restore_location\u001b[0;34m(storage, location)\u001b[0m\n\u001b[1;32m    176\u001b[0m \u001b[0;32mdef\u001b[0m \u001b[0mdefault_restore_location\u001b[0m\u001b[0;34m(\u001b[0m\u001b[0mstorage\u001b[0m\u001b[0;34m,\u001b[0m \u001b[0mlocation\u001b[0m\u001b[0;34m)\u001b[0m\u001b[0;34m:\u001b[0m\u001b[0;34m\u001b[0m\u001b[0;34m\u001b[0m\u001b[0m\n\u001b[1;32m    177\u001b[0m     \u001b[0;32mfor\u001b[0m \u001b[0m_\u001b[0m\u001b[0;34m,\u001b[0m \u001b[0m_\u001b[0m\u001b[0;34m,\u001b[0m \u001b[0mfn\u001b[0m \u001b[0;32min\u001b[0m \u001b[0m_package_registry\u001b[0m\u001b[0;34m:\u001b[0m\u001b[0;34m\u001b[0m\u001b[0;34m\u001b[0m\u001b[0m\n\u001b[0;32m--> 178\u001b[0;31m         \u001b[0mresult\u001b[0m \u001b[0;34m=\u001b[0m \u001b[0mfn\u001b[0m\u001b[0;34m(\u001b[0m\u001b[0mstorage\u001b[0m\u001b[0;34m,\u001b[0m \u001b[0mlocation\u001b[0m\u001b[0;34m)\u001b[0m\u001b[0;34m\u001b[0m\u001b[0;34m\u001b[0m\u001b[0m\n\u001b[0m\u001b[1;32m    179\u001b[0m         \u001b[0;32mif\u001b[0m \u001b[0mresult\u001b[0m \u001b[0;32mis\u001b[0m \u001b[0;32mnot\u001b[0m \u001b[0;32mNone\u001b[0m\u001b[0;34m:\u001b[0m\u001b[0;34m\u001b[0m\u001b[0;34m\u001b[0m\u001b[0m\n\u001b[1;32m    180\u001b[0m             \u001b[0;32mreturn\u001b[0m \u001b[0mresult\u001b[0m\u001b[0;34m\u001b[0m\u001b[0;34m\u001b[0m\u001b[0m\n",
            "\u001b[0;32m/usr/local/lib/python3.6/dist-packages/torch/serialization.py\u001b[0m in \u001b[0;36m_cuda_deserialize\u001b[0;34m(obj, location)\u001b[0m\n\u001b[1;32m    156\u001b[0m             \u001b[0mstorage_type\u001b[0m \u001b[0;34m=\u001b[0m \u001b[0mgetattr\u001b[0m\u001b[0;34m(\u001b[0m\u001b[0mtorch\u001b[0m\u001b[0;34m.\u001b[0m\u001b[0mcuda\u001b[0m\u001b[0;34m,\u001b[0m \u001b[0mtype\u001b[0m\u001b[0;34m(\u001b[0m\u001b[0mobj\u001b[0m\u001b[0;34m)\u001b[0m\u001b[0;34m.\u001b[0m\u001b[0m__name__\u001b[0m\u001b[0;34m)\u001b[0m\u001b[0;34m\u001b[0m\u001b[0;34m\u001b[0m\u001b[0m\n\u001b[1;32m    157\u001b[0m             \u001b[0;32mwith\u001b[0m \u001b[0mtorch\u001b[0m\u001b[0;34m.\u001b[0m\u001b[0mcuda\u001b[0m\u001b[0;34m.\u001b[0m\u001b[0mdevice\u001b[0m\u001b[0;34m(\u001b[0m\u001b[0mdevice\u001b[0m\u001b[0;34m)\u001b[0m\u001b[0;34m:\u001b[0m\u001b[0;34m\u001b[0m\u001b[0;34m\u001b[0m\u001b[0m\n\u001b[0;32m--> 158\u001b[0;31m                 \u001b[0;32mreturn\u001b[0m \u001b[0mstorage_type\u001b[0m\u001b[0;34m(\u001b[0m\u001b[0mobj\u001b[0m\u001b[0;34m.\u001b[0m\u001b[0msize\u001b[0m\u001b[0;34m(\u001b[0m\u001b[0;34m)\u001b[0m\u001b[0;34m)\u001b[0m\u001b[0;34m\u001b[0m\u001b[0;34m\u001b[0m\u001b[0m\n\u001b[0m\u001b[1;32m    159\u001b[0m         \u001b[0;32melse\u001b[0m\u001b[0;34m:\u001b[0m\u001b[0;34m\u001b[0m\u001b[0;34m\u001b[0m\u001b[0m\n\u001b[1;32m    160\u001b[0m             \u001b[0;32mreturn\u001b[0m \u001b[0mobj\u001b[0m\u001b[0;34m.\u001b[0m\u001b[0mcuda\u001b[0m\u001b[0;34m(\u001b[0m\u001b[0mdevice\u001b[0m\u001b[0;34m)\u001b[0m\u001b[0;34m\u001b[0m\u001b[0;34m\u001b[0m\u001b[0m\n",
            "\u001b[0;32m/usr/local/lib/python3.6/dist-packages/torch/cuda/__init__.py\u001b[0m in \u001b[0;36m_lazy_new\u001b[0;34m(cls, *args, **kwargs)\u001b[0m\n\u001b[1;32m    431\u001b[0m     \u001b[0;31m# We may need to call lazy init again if we are a forked child\u001b[0m\u001b[0;34m\u001b[0m\u001b[0;34m\u001b[0m\u001b[0;34m\u001b[0m\u001b[0m\n\u001b[1;32m    432\u001b[0m     \u001b[0;31m# del _CudaBase.__new__\u001b[0m\u001b[0;34m\u001b[0m\u001b[0;34m\u001b[0m\u001b[0;34m\u001b[0m\u001b[0m\n\u001b[0;32m--> 433\u001b[0;31m     \u001b[0;32mreturn\u001b[0m \u001b[0msuper\u001b[0m\u001b[0;34m(\u001b[0m\u001b[0m_CudaBase\u001b[0m\u001b[0;34m,\u001b[0m \u001b[0mcls\u001b[0m\u001b[0;34m)\u001b[0m\u001b[0;34m.\u001b[0m\u001b[0m__new__\u001b[0m\u001b[0;34m(\u001b[0m\u001b[0mcls\u001b[0m\u001b[0;34m,\u001b[0m \u001b[0;34m*\u001b[0m\u001b[0margs\u001b[0m\u001b[0;34m,\u001b[0m \u001b[0;34m**\u001b[0m\u001b[0mkwargs\u001b[0m\u001b[0;34m)\u001b[0m\u001b[0;34m\u001b[0m\u001b[0;34m\u001b[0m\u001b[0m\n\u001b[0m\u001b[1;32m    434\u001b[0m \u001b[0;34m\u001b[0m\u001b[0m\n\u001b[1;32m    435\u001b[0m \u001b[0;34m\u001b[0m\u001b[0m\n",
            "\u001b[0;31mRuntimeError\u001b[0m: CUDA out of memory. Tried to allocate 20.00 MiB (GPU 0; 11.17 GiB total capacity; 10.85 GiB already allocated; 3.81 MiB free; 10.86 GiB reserved in total by PyTorch)"
          ]
        }
      ]
    },
    {
      "cell_type": "code",
      "metadata": {
        "id": "ifEsNimHJW6z",
        "colab_type": "code",
        "colab": {}
      },
      "source": [
        "sampler = torch.utils.data.SubsetRandomSampler(indices=index_you_want_to_use)"
      ],
      "execution_count": null,
      "outputs": []
    },
    {
      "cell_type": "markdown",
      "metadata": {
        "id": "DVu8ZDbguZ9N",
        "colab_type": "text"
      },
      "source": [
        "**Loading the model from drive:**"
      ]
    },
    {
      "cell_type": "code",
      "metadata": {
        "id": "v8Ym27j9BvxK",
        "colab_type": "code",
        "colab": {}
      },
      "source": [
        "model_name = '3d_lung_seg_model'"
      ],
      "execution_count": null,
      "outputs": []
    },
    {
      "cell_type": "code",
      "metadata": {
        "id": "09tfGulHBoH_",
        "colab_type": "code",
        "colab": {}
      },
      "source": [
        "!rm -r ./models\n",
        "!mkdir ./models\n",
        "!cp ./drive/My\\ Drive/3d_lung_seg_model.pth ./models/3d_lung_seg_model.pth "
      ],
      "execution_count": null,
      "outputs": []
    },
    {
      "cell_type": "code",
      "metadata": {
        "id": "natTwtW5BwR4",
        "colab_type": "code",
        "colab": {}
      },
      "source": [
        "learner.load(model_name)"
      ],
      "execution_count": null,
      "outputs": []
    },
    {
      "cell_type": "code",
      "metadata": {
        "id": "nTYuCrRbfr47",
        "colab_type": "code",
        "colab": {
          "base_uri": "https://localhost:8080/",
          "height": 374
        },
        "outputId": "8d5d16c6-203b-4f00-f1b3-7aaf73f99cbb"
      },
      "source": [
        "learner.fit_one_cycle(10, max_lr=slice(1e-01), pct_start=0.5)"
      ],
      "execution_count": null,
      "outputs": [
        {
          "output_type": "display_data",
          "data": {
            "text/html": [
              "\n",
              "    <div>\n",
              "        <style>\n",
              "            /* Turns off some styling */\n",
              "            progress {\n",
              "                /* gets rid of default border in Firefox and Opera. */\n",
              "                border: none;\n",
              "                /* Needs to be in here for Safari polyfill so background images work as expected. */\n",
              "                background-size: auto;\n",
              "            }\n",
              "            .progress-bar-interrupted, .progress-bar-interrupted::-webkit-progress-bar {\n",
              "                background: #F44336;\n",
              "            }\n",
              "        </style>\n",
              "      <progress value='9' class='' max='10' style='width:300px; height:20px; vertical-align: middle;'></progress>\n",
              "      90.00% [9/10 1:29:02<09:53]\n",
              "    </div>\n",
              "    \n",
              "<table border=\"1\" class=\"dataframe\">\n",
              "  <thead>\n",
              "    <tr style=\"text-align: left;\">\n",
              "      <th>epoch</th>\n",
              "      <th>train_loss</th>\n",
              "      <th>valid_loss</th>\n",
              "      <th>DiceCoefficient</th>\n",
              "      <th>time</th>\n",
              "    </tr>\n",
              "  </thead>\n",
              "  <tbody>\n",
              "    <tr>\n",
              "      <td>0</td>\n",
              "      <td>38.817623</td>\n",
              "      <td>3.879539</td>\n",
              "      <td>-0.000000</td>\n",
              "      <td>10:02</td>\n",
              "    </tr>\n",
              "    <tr>\n",
              "      <td>1</td>\n",
              "      <td>13.508320</td>\n",
              "      <td>3.555475</td>\n",
              "      <td>-0.000000</td>\n",
              "      <td>09:56</td>\n",
              "    </tr>\n",
              "    <tr>\n",
              "      <td>2</td>\n",
              "      <td>6.818334</td>\n",
              "      <td>3.148919</td>\n",
              "      <td>-0.000000</td>\n",
              "      <td>09:52</td>\n",
              "    </tr>\n",
              "    <tr>\n",
              "      <td>3</td>\n",
              "      <td>3.487479</td>\n",
              "      <td>2.675583</td>\n",
              "      <td>-0.000000</td>\n",
              "      <td>09:54</td>\n",
              "    </tr>\n",
              "    <tr>\n",
              "      <td>4</td>\n",
              "      <td>1.824850</td>\n",
              "      <td>2.347621</td>\n",
              "      <td>-0.000000</td>\n",
              "      <td>09:54</td>\n",
              "    </tr>\n",
              "    <tr>\n",
              "      <td>5</td>\n",
              "      <td>2.681139</td>\n",
              "      <td>1.764581</td>\n",
              "      <td>-0.000000</td>\n",
              "      <td>09:51</td>\n",
              "    </tr>\n",
              "    <tr>\n",
              "      <td>6</td>\n",
              "      <td>2.256345</td>\n",
              "      <td>1.401092</td>\n",
              "      <td>-0.000000</td>\n",
              "      <td>09:49</td>\n",
              "    </tr>\n",
              "    <tr>\n",
              "      <td>7</td>\n",
              "      <td>1.941420</td>\n",
              "      <td>1.244796</td>\n",
              "      <td>-0.000000</td>\n",
              "      <td>09:51</td>\n",
              "    </tr>\n",
              "    <tr>\n",
              "      <td>8</td>\n",
              "      <td>1.858868</td>\n",
              "      <td>1.145751</td>\n",
              "      <td>-0.000000</td>\n",
              "      <td>09:50</td>\n",
              "    </tr>\n",
              "  </tbody>\n",
              "</table><p>\n",
              "\n",
              "    <div>\n",
              "        <style>\n",
              "            /* Turns off some styling */\n",
              "            progress {\n",
              "                /* gets rid of default border in Firefox and Opera. */\n",
              "                border: none;\n",
              "                /* Needs to be in here for Safari polyfill so background images work as expected. */\n",
              "                background-size: auto;\n",
              "            }\n",
              "            .progress-bar-interrupted, .progress-bar-interrupted::-webkit-progress-bar {\n",
              "                background: #F44336;\n",
              "            }\n",
              "        </style>\n",
              "      <progress value='32' class='' max='51' style='width:300px; height:20px; vertical-align: middle;'></progress>\n",
              "      62.75% [32/51 05:37<03:20 8.2611]\n",
              "    </div>\n",
              "    "
            ],
            "text/plain": [
              "<IPython.core.display.HTML object>"
            ]
          },
          "metadata": {
            "tags": []
          }
        }
      ]
    },
    {
      "cell_type": "markdown",
      "metadata": {
        "id": "0dLjDpWKbFlw",
        "colab_type": "text"
      },
      "source": [
        "As mentioned in the paper [Tversky loss function for image segmentation using 3D fully convolutional deep networks](https://arxiv.org/pdf/1706.05721.pdf), training process takes about 1000 epochs and best result is when beta equals to 0.7 (and alpha is 0.3)."
      ]
    },
    {
      "cell_type": "markdown",
      "metadata": {
        "id": "BSzo3CH1uPke",
        "colab_type": "text"
      },
      "source": [
        "**Saving model to drive:**"
      ]
    },
    {
      "cell_type": "code",
      "metadata": {
        "id": "-oDohsQou-1X",
        "colab_type": "code",
        "colab": {}
      },
      "source": [
        "learner.save(model_name)\n",
        "learner.load(model_name)"
      ],
      "execution_count": null,
      "outputs": []
    },
    {
      "cell_type": "code",
      "metadata": {
        "id": "AWmHVpaVs5kX",
        "colab_type": "code",
        "colab": {}
      },
      "source": [
        "!cp ./models/3d_lung_seg_model.pth ./drive/My\\ Drive/3d_lung_seg_model.pth"
      ],
      "execution_count": null,
      "outputs": []
    },
    {
      "cell_type": "code",
      "metadata": {
        "id": "cEqx3zJKCezz",
        "colab_type": "code",
        "colab": {}
      },
      "source": [
        ""
      ],
      "execution_count": null,
      "outputs": []
    }
  ]
}