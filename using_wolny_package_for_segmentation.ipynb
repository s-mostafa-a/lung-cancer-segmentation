{
  "nbformat": 4,
  "nbformat_minor": 0,
  "metadata": {
    "colab": {
      "name": "using_wolny_package_for_segmentation.ipynb",
      "provenance": [],
      "collapsed_sections": [],
      "authorship_tag": "ABX9TyNNti24XgVTD+RD3tDz0XjV",
      "include_colab_link": true
    },
    "kernelspec": {
      "name": "python3",
      "display_name": "Python 3"
    },
    "accelerator": "GPU"
  },
  "cells": [
    {
      "cell_type": "markdown",
      "metadata": {
        "id": "view-in-github",
        "colab_type": "text"
      },
      "source": [
        "<a href=\"https://colab.research.google.com/github/s-mostafa-a/lung-cancer-segmentation/blob/master/using_wolny_package_for_segmentation.ipynb\" target=\"_parent\"><img src=\"https://colab.research.google.com/assets/colab-badge.svg\" alt=\"Open In Colab\"/></a>"
      ]
    },
    {
      "cell_type": "code",
      "metadata": {
        "id": "GIlLyXexB29x",
        "colab_type": "code",
        "colab": {
          "base_uri": "https://localhost:8080/",
          "height": 114
        },
        "outputId": "d3b55912-53a0-4214-cf27-3f8ccf859d04"
      },
      "source": [
        "! git clone https://github.com/circulosmeos/gdown.pl"
      ],
      "execution_count": 1,
      "outputs": [
        {
          "output_type": "stream",
          "text": [
            "Cloning into 'gdown.pl'...\n",
            "remote: Enumerating objects: 92, done.\u001b[K\n",
            "Unpacking objects:   1% (1/92)   \rUnpacking objects:   2% (2/92)   \rUnpacking objects:   3% (3/92)   \rUnpacking objects:   4% (4/92)   \rUnpacking objects:   5% (5/92)   \rUnpacking objects:   6% (6/92)   \rUnpacking objects:   7% (7/92)   \rUnpacking objects:   8% (8/92)   \rUnpacking objects:   9% (9/92)   \rUnpacking objects:  10% (10/92)   \rUnpacking objects:  11% (11/92)   \rUnpacking objects:  13% (12/92)   \rUnpacking objects:  14% (13/92)   \rUnpacking objects:  15% (14/92)   \rUnpacking objects:  16% (15/92)   \rUnpacking objects:  17% (16/92)   \rUnpacking objects:  18% (17/92)   \rUnpacking objects:  19% (18/92)   \rUnpacking objects:  20% (19/92)   \rUnpacking objects:  21% (20/92)   \rUnpacking objects:  22% (21/92)   \rUnpacking objects:  23% (22/92)   \rUnpacking objects:  25% (23/92)   \rUnpacking objects:  26% (24/92)   \rUnpacking objects:  27% (25/92)   \rUnpacking objects:  28% (26/92)   \rUnpacking objects:  29% (27/92)   \rUnpacking objects:  30% (28/92)   \rUnpacking objects:  31% (29/92)   \rUnpacking objects:  32% (30/92)   \rUnpacking objects:  33% (31/92)   \rUnpacking objects:  34% (32/92)   \rUnpacking objects:  35% (33/92)   \rUnpacking objects:  36% (34/92)   \rUnpacking objects:  38% (35/92)   \rUnpacking objects:  39% (36/92)   \rremote: Total 92 (delta 0), reused 0 (delta 0), pack-reused 92\u001b[K\n",
            "Unpacking objects:  40% (37/92)   \rUnpacking objects:  41% (38/92)   \rUnpacking objects:  42% (39/92)   \rUnpacking objects:  43% (40/92)   \rUnpacking objects:  44% (41/92)   \rUnpacking objects:  45% (42/92)   \rUnpacking objects:  46% (43/92)   \rUnpacking objects:  47% (44/92)   \rUnpacking objects:  48% (45/92)   \rUnpacking objects:  50% (46/92)   \rUnpacking objects:  51% (47/92)   \rUnpacking objects:  52% (48/92)   \rUnpacking objects:  53% (49/92)   \rUnpacking objects:  54% (50/92)   \rUnpacking objects:  55% (51/92)   \rUnpacking objects:  56% (52/92)   \rUnpacking objects:  57% (53/92)   \rUnpacking objects:  58% (54/92)   \rUnpacking objects:  59% (55/92)   \rUnpacking objects:  60% (56/92)   \rUnpacking objects:  61% (57/92)   \rUnpacking objects:  63% (58/92)   \rUnpacking objects:  64% (59/92)   \rUnpacking objects:  65% (60/92)   \rUnpacking objects:  66% (61/92)   \rUnpacking objects:  67% (62/92)   \rUnpacking objects:  68% (63/92)   \rUnpacking objects:  69% (64/92)   \rUnpacking objects:  70% (65/92)   \rUnpacking objects:  71% (66/92)   \rUnpacking objects:  72% (67/92)   \rUnpacking objects:  73% (68/92)   \rUnpacking objects:  75% (69/92)   \rUnpacking objects:  76% (70/92)   \rUnpacking objects:  77% (71/92)   \rUnpacking objects:  78% (72/92)   \rUnpacking objects:  79% (73/92)   \rUnpacking objects:  80% (74/92)   \rUnpacking objects:  81% (75/92)   \rUnpacking objects:  82% (76/92)   \rUnpacking objects:  83% (77/92)   \rUnpacking objects:  84% (78/92)   \rUnpacking objects:  85% (79/92)   \rUnpacking objects:  86% (80/92)   \rUnpacking objects:  88% (81/92)   \rUnpacking objects:  89% (82/92)   \rUnpacking objects:  90% (83/92)   \rUnpacking objects:  91% (84/92)   \rUnpacking objects:  92% (85/92)   \rUnpacking objects:  93% (86/92)   \rUnpacking objects:  94% (87/92)   \rUnpacking objects:  95% (88/92)   \rUnpacking objects:  96% (89/92)   \rUnpacking objects:  97% (90/92)   \rUnpacking objects:  98% (91/92)   \rUnpacking objects: 100% (92/92)   \rUnpacking objects: 100% (92/92), done.\n"
          ],
          "name": "stdout"
        }
      ]
    },
    {
      "cell_type": "code",
      "metadata": {
        "id": "E-VFekEiCBtn",
        "colab_type": "code",
        "colab": {
          "base_uri": "https://localhost:8080/",
          "height": 1000
        },
        "outputId": "79fcb013-6852-46b7-d3b6-61720596a735"
      },
      "source": [
        "!./gdown.pl/gdown.pl https://drive.google.com/file/d/1s3X1zJMGIQVN5V9zD8hcKLlnIz96pH-W"
      ],
      "execution_count": 2,
      "outputs": [
        {
          "output_type": "stream",
          "text": [
            "Cannot open cookies file ‘gdown.cookie.temp’: No such file or directory\n",
            "--2020-07-06 21:42:21--  https://docs.google.com/uc?id=1s3X1zJMGIQVN5V9zD8hcKLlnIz96pH-W&export=download\n",
            "Resolving docs.google.com (docs.google.com)... 172.217.214.113, 172.217.214.100, 172.217.214.102, ...\n",
            "Connecting to docs.google.com (docs.google.com)|172.217.214.113|:443... connected.\n",
            "HTTP request sent, awaiting response... 200 OK\n",
            "Length: unspecified [text/html]\n",
            "Saving to: ‘gdown.20200706214221.987876415093528’\n",
            "\n",
            "     0K                                     52.5M=0s\n",
            "\n",
            "2020-07-06 21:42:22 (52.5 MB/s) - ‘gdown.20200706214221.987876415093528’ saved [3259]\n",
            "\n",
            "--2020-07-06 21:42:22--  https://docs.google.com/uc?export=download&confirm=ziEK&id=1s3X1zJMGIQVN5V9zD8hcKLlnIz96pH-W\n",
            "Resolving docs.google.com (docs.google.com)... 172.217.214.100, 172.217.214.113, 172.217.214.138, ...\n",
            "Connecting to docs.google.com (docs.google.com)|172.217.214.100|:443... connected.\n",
            "HTTP request sent, awaiting response... 302 Moved Temporarily\n",
            "Location: https://doc-10-38-docs.googleusercontent.com/docs/securesc/da20i1028grf9nqqcfpavulaa99vkd31/vg0o8gnhb9obig2nkjktu90lfrehq292/1594071675000/14246493544528845039/10335207162267020444Z/1s3X1zJMGIQVN5V9zD8hcKLlnIz96pH-W?e=download [following]\n",
            "--2020-07-06 21:42:22--  https://doc-10-38-docs.googleusercontent.com/docs/securesc/da20i1028grf9nqqcfpavulaa99vkd31/vg0o8gnhb9obig2nkjktu90lfrehq292/1594071675000/14246493544528845039/10335207162267020444Z/1s3X1zJMGIQVN5V9zD8hcKLlnIz96pH-W?e=download\n",
            "Resolving doc-10-38-docs.googleusercontent.com (doc-10-38-docs.googleusercontent.com)... 108.177.112.132, 2607:f8b0:4001:c12::84\n",
            "Connecting to doc-10-38-docs.googleusercontent.com (doc-10-38-docs.googleusercontent.com)|108.177.112.132|:443... connected.\n",
            "HTTP request sent, awaiting response... 302 Found\n",
            "Location: https://docs.google.com/nonceSigner?nonce=9ir3ufq3m9poa&continue=https://doc-10-38-docs.googleusercontent.com/docs/securesc/da20i1028grf9nqqcfpavulaa99vkd31/vg0o8gnhb9obig2nkjktu90lfrehq292/1594071675000/14246493544528845039/10335207162267020444Z/1s3X1zJMGIQVN5V9zD8hcKLlnIz96pH-W?e%3Ddownload&hash=vdlv1mvu90k1d33bbes0rbbpoqscdd79 [following]\n",
            "--2020-07-06 21:42:22--  https://docs.google.com/nonceSigner?nonce=9ir3ufq3m9poa&continue=https://doc-10-38-docs.googleusercontent.com/docs/securesc/da20i1028grf9nqqcfpavulaa99vkd31/vg0o8gnhb9obig2nkjktu90lfrehq292/1594071675000/14246493544528845039/10335207162267020444Z/1s3X1zJMGIQVN5V9zD8hcKLlnIz96pH-W?e%3Ddownload&hash=vdlv1mvu90k1d33bbes0rbbpoqscdd79\n",
            "Connecting to docs.google.com (docs.google.com)|172.217.214.100|:443... connected.\n",
            "HTTP request sent, awaiting response... 302 Found\n",
            "Location: https://doc-10-38-docs.googleusercontent.com/docs/securesc/da20i1028grf9nqqcfpavulaa99vkd31/vg0o8gnhb9obig2nkjktu90lfrehq292/1594071675000/14246493544528845039/10335207162267020444Z/1s3X1zJMGIQVN5V9zD8hcKLlnIz96pH-W?e=download&nonce=9ir3ufq3m9poa&user=10335207162267020444Z&hash=ujae8iv5mcig5c4n47ef7bi4fqf79a8f [following]\n",
            "--2020-07-06 21:42:22--  https://doc-10-38-docs.googleusercontent.com/docs/securesc/da20i1028grf9nqqcfpavulaa99vkd31/vg0o8gnhb9obig2nkjktu90lfrehq292/1594071675000/14246493544528845039/10335207162267020444Z/1s3X1zJMGIQVN5V9zD8hcKLlnIz96pH-W?e=download&nonce=9ir3ufq3m9poa&user=10335207162267020444Z&hash=ujae8iv5mcig5c4n47ef7bi4fqf79a8f\n",
            "Connecting to doc-10-38-docs.googleusercontent.com (doc-10-38-docs.googleusercontent.com)|108.177.112.132|:443... connected.\n",
            "HTTP request sent, awaiting response... 200 OK\n",
            "Length: unspecified [application/x-tar]\n",
            "Saving to: ‘gdown.20200706214221.987876415093528’\n",
            "\n",
            "     0K ........ ........ ........ ........ 65.9M\n",
            " 32768K ........ ........ ........ ........  302M\n",
            " 65536K ........ ........ ........ ........  145M\n",
            " 98304K ........ ........ ........ ........  113M\n",
            "131072K ........ ........ ........ ........  128M\n",
            "163840K ........ ........ ........ ........  101M\n",
            "196608K ........ ........ ........ ........  325M\n",
            "229376K ........ ........ ........ ........  103M\n",
            "262144K ........ ........ ........ ........  165M\n",
            "294912K ........ ........ ........ ........  114M\n",
            "327680K ........ ........ ........ ........  286M\n",
            "360448K ........ ........ ........ ........  242M\n",
            "393216K ........ ........ ........ ........  185M\n",
            "425984K ........ ........ ........ ........ 78.3M\n",
            "458752K ........ ........ ........ ........  151M\n",
            "491520K ........ ........ ........ ........  147M\n",
            "524288K ........ ........ ........ ........  112M\n",
            "557056K ........ ........ ........ ........  200M\n",
            "589824K ........ ........ ........ ........  172M\n",
            "622592K ........ ........ ........ ........  160M\n",
            "655360K ........ ........ ........ ........  108M\n",
            "688128K ........ ........ ........ ........  131M\n",
            "720896K ........ ........ ........ ........  214M\n",
            "753664K ........ ........ ........ ........  184M\n",
            "786432K ........ ........ ........ ........  269M\n",
            "819200K ........ ........ ........ ........  140M\n",
            "851968K ........ ........ ........ ........  256M\n",
            "884736K ........ ........ ........ ........  127M\n",
            "917504K ........ ........ ........ ........  151M\n",
            "950272K ........ ........ ........ ........  139M\n",
            "983040K ........ ........ ........ ........  248M\n",
            "1015808K ........ ........ ........ ........  100M\n",
            "1048576K ........ ........ ........ ........ 83.6M\n",
            "1081344K ........ ........ ........ ........ 86.1M\n",
            "1114112K ........ ........ ........ ........  107M\n",
            "1146880K ........ ........ ........ ........  140M\n",
            "1179648K ........ ........ ........ ........ 86.3M\n",
            "1212416K ........ ........ ........ ........  110M\n",
            "1245184K ........ ........ ........ ........  120M\n",
            "1277952K ........ ........ ........ ........  102M\n",
            "1310720K ........ ........ ........ ........ 94.7M\n",
            "1343488K ........ ........ ........ ........  105M\n",
            "1376256K ........ ........ ........ ........ 81.6M\n",
            "1409024K ........ ........ ........ ........  115M\n",
            "1441792K ........ ........ ........ ........ 77.9M\n",
            "1474560K ........ ........ ........ ........ 74.0M\n",
            "1507328K ........ ........ ........ ........ 97.1M\n",
            "1540096K ........ ........ ........ ........  106M\n",
            "1572864K ........ ........ ........ ........  126M\n",
            "1605632K ........ ........ ........ ........  159M\n",
            "1638400K ........ ........ ........ ........  218M\n",
            "1671168K ........ ........ ........ ........  303M\n",
            "1703936K ........ ........ ........ ........  254M\n",
            "1736704K ........ ........ ........ ........  116M\n",
            "1769472K ........ ........ ........ ........ 75.1M\n",
            "1802240K ........ ........ ........ ........  369M\n",
            "1835008K ........ ........ ........ ........ 32.0M\n",
            "1867776K ........ ........ ........ ........  136M\n",
            "1900544K ........ ........ ........ ........ 34.3M\n",
            "1933312K ........ ........ ........ ........ 37.4M\n",
            "1966080K ........ ........ ........ ........ 38.1M\n",
            "1998848K ........ ........ ........ ........ 36.3M\n",
            "2031616K ........ ........ ........ ........ 33.4M\n",
            "2064384K ........ ........ ........ ........ 32.1M\n",
            "2097152K ........ ........ ........ ........ 22.7M\n",
            "2129920K ........ ........ ........ ........ 36.8M\n",
            "2162688K ........ ........ ........ ........ 11.4M\n",
            "2195456K ........ ........ ........ ........ 22.0M\n",
            "2228224K ........ ........ ........ ........ 28.3M\n",
            "2260992K ........ ........ ........ ........ 30.9M\n",
            "2293760K ........ ........ ........ ........ 38.5M\n",
            "2326528K ........ ........ ........ ........ 66.7M\n",
            "2359296K ........ ........ ........ ........ 55.0M\n",
            "2392064K ........ ........ ........ ........ 62.2M\n",
            "2424832K ........ ........ ........ ........ 60.0M\n",
            "2457600K ........ ........ ........ ........ 49.8M\n",
            "2490368K ........ ........ ........ ........  106M\n",
            "2523136K ........ ........ ........ ........ 50.2M\n",
            "2555904K ........ ........ ........ ........ 66.1M\n",
            "2588672K ........ ........ ........ ........ 98.1M\n",
            "2621440K ........ ........ ........ ........ 36.4M\n",
            "2654208K ........ ........ ........ ........ 31.3M\n",
            "2686976K ........ ........ ........ ........ 23.1M\n",
            "2719744K ........ ........ ........ ........ 29.8M\n",
            "2752512K ........ ........ ........ ........ 24.4M\n",
            "2785280K ........ ........ ........ ........ 36.0M\n",
            "2818048K ........ ........ ........ ........ 25.0M\n",
            "2850816K ........ ........ ........ ........ 39.8M\n",
            "2883584K ........ ........ ........ ........ 6.27M\n",
            "2916352K ........ ........ ........ ........ 18.2M\n",
            "2949120K ........ ........ ........ ........ 17.4M\n",
            "2981888K ........ ........ ........ ........ 26.9M\n",
            "3014656K ........ ........ ........ ........ 30.8M\n",
            "3047424K ........ ........ ........ ........ 27.3M\n",
            "3080192K ........ ........ ........ ........ 60.3M\n",
            "3112960K ........ ........ ........ ........ 53.3M\n",
            "3145728K ........ ........ ........ ........  127M\n",
            "3178496K ........ ........ ........ ........  128M\n",
            "3211264K ........ ........ ........ ........  176M\n",
            "3244032K ........ ........ ........ ........  147M\n",
            "3276800K ........ ........ ........ ........  172M\n",
            "3309568K ........ ........ ........ ........  220M\n",
            "3342336K ........ ........ ........ ........  174M\n",
            "3375104K ........ ........ ........ ........  156M\n",
            "3407872K ........ ........ ........ ........  180M\n",
            "3440640K ........ ........ ........ ........  159M\n",
            "3473408K ........ ........ ........ ........  121M\n",
            "3506176K ........ ........ ........ ........  154M\n",
            "3538944K ........ ........ ........ ........  120M\n",
            "3571712K ........ ........ ........ ........ 63.2M\n",
            "3604480K ........ ........ ........ ........  254M\n",
            "3637248K ........ ........ ........ ........ 35.0M\n",
            "3670016K ........ ........ ........ ........ 33.5M\n",
            "3702784K ........ ........ ........ ........ 33.4M\n",
            "3735552K ........ ........ ........ ........ 31.0M\n",
            "3768320K ........ ........ ........ ........ 30.2M\n",
            "3801088K ........ ........ ........ ........ 18.5M\n",
            "3833856K ........ ........ ........ ........ 29.1M\n",
            "3866624K ........ ........ ........ ........ 41.5M\n",
            "3899392K ........ ........ ........ ........ 52.8M\n",
            "3932160K ........ ........ ........ ........ 51.8M\n",
            "3964928K ........ ........ ........ ........ 82.3M\n",
            "3997696K ........ ........ ........ ........ 25.8M\n",
            "4030464K ........ ........ ........ ........ 18.0M\n",
            "4063232K ........ ........ ........ ........ 44.9M\n",
            "4096000K ........ ........ ........ ........ 36.2M\n",
            "4128768K ........ ........ ........ ........ 27.2M\n",
            "4161536K ........ ........ ........ ........ 30.2M\n",
            "4194304K ........ ........ ........ ........ 35.4M\n",
            "4227072K ........ ........ ........ ........ 35.9M\n",
            "4259840K ........ ........ ........ ........ 77.8M\n",
            "4292608K ........ ........ ........ ........ 42.0M\n",
            "4325376K ........ ........ ........ ........ 56.5M\n",
            "4358144K ........ ........ ........ ........ 68.8M\n",
            "4390912K ........ ........ ........ ........ 27.2M\n",
            "4423680K ........ ........ ........ ........ 8.62M\n",
            "4456448K ........ ........ ........ ........ 35.1M\n",
            "4489216K ........ ........ ........ ........ 34.5M\n",
            "4521984K ........ ........ ........ ........ 34.4M\n",
            "4554752K ........ ........ ........ ........ 29.2M\n",
            "4587520K ........ ........ ........ ........ 44.1M\n",
            "4620288K ........ ........ ........ ........ 64.0M\n",
            "4653056K ........ ........ ........ ........ 61.3M\n",
            "4685824K ........ ........ ........ ........ 65.1M\n",
            "4718592K ........ ........ ........ ........ 74.2M\n",
            "4751360K ........ ........ ........ ........  107M\n",
            "4784128K ........ ........ ........ ........ 68.9M\n",
            "4816896K ........ ........ ........ ........ 70.3M\n",
            "4849664K ........ ........ ........ ........  272M\n",
            "4882432K ........ ........ ........ ........ 67.8M\n",
            "4915200K ........ ........ ........ ........ 46.7M\n",
            "4947968K ........ ........ ........ ........ 30.5M\n",
            "4980736K ........ ........ ........ ........ 31.2M\n",
            "5013504K ........ ........ ........ ........ 26.7M\n",
            "5046272K ........ ........ ........ ........ 21.1M\n",
            "5079040K ........ ........ ........ ........ 38.7M\n",
            "5111808K ........ ........ ........ ........ 42.5M\n",
            "5144576K ........ ........ ........ ........ 60.2M\n",
            "5177344K ........ ........ ........ ........ 36.6M\n",
            "5210112K ........ ........ ........ ........ 34.3M\n",
            "5242880K ........ ........ ........ ........ 27.7M\n",
            "5275648K ........ ........ ........ ........ 36.0M\n",
            "5308416K ........ ........ ........ ........ 30.5M\n",
            "5341184K ........ ........ ........ ........ 7.96M\n",
            "5373952K ........ ........ ........ ........ 16.9M\n",
            "5406720K ........ ........ ........ ........ 28.6M\n",
            "5439488K ........ ........ ........ ........ 27.5M\n",
            "5472256K ........ ........ ........ ........ 28.5M\n",
            "5505024K ........ ........ ........ ........ 35.0M\n",
            "5537792K ........ ........ ........ ........ 75.7M\n",
            "5570560K ........ ........ ........ ........ 48.7M\n",
            "5603328K ........ ........ ........ ........ 36.7M\n",
            "5636096K ........ ........ ........ ........ 30.1M\n",
            "5668864K ........ ........ ........ ........ 43.1M\n",
            "5701632K ........ ........ ........ ........ 89.0M\n",
            "5734400K ........ ........ ........ ........  136M\n",
            "5767168K ........ ........ ........ ........ 46.2M\n",
            "5799936K ........ ........ ........ ........ 87.2M\n",
            "5832704K ........ ........ ........ ........ 86.1M\n",
            "5865472K ........ ........ ........ ........ 87.6M\n",
            "5898240K ........ ........ ........ ........  184M\n",
            "5931008K ........ ........ ........ ........ 69.8M\n",
            "5963776K ........ ........ ........ ........ 93.0M\n",
            "5996544K ........ ........ ........ ........  107M\n",
            "6029312K ........ ........ ........ ........ 41.8M\n",
            "6062080K ........ ........ ........ ........ 55.1M\n",
            "6094848K ........ ........ ........ ........ 82.2M\n",
            "6127616K ........ ........ ........ ........ 97.4M\n",
            "6160384K ........ ........ ........ ........ 43.2M\n",
            "6193152K ........ ........ ........ ........  103M\n",
            "6225920K ........ ........ ........ ........ 33.5M\n",
            "6258688K ........ ........ ........ ........ 31.5M\n",
            "6291456K ........ ........ ........ ........ 33.9M\n",
            "6324224K ........ ........ ........ ........ 31.5M\n",
            "6356992K ........ ........ ........ ........ 20.7M\n",
            "6389760K ........ ........ ........ ........ 33.0M\n",
            "6422528K ........ ........ ........ ........ 30.2M\n",
            "6455296K ........ ........ ........ ........ 33.2M\n",
            "6488064K ........ ........ ........ ........ 44.2M\n",
            "6520832K ........ ........ ........ ........ 45.1M\n",
            "6553600K ........ ........ ........ ........ 37.6M\n",
            "6586368K ........ ........ ........ ........ 46.7M\n",
            "6619136K ........ ........ ........ ........ 47.1M\n",
            "6651904K ........ ........ ........ ........ 49.3M\n",
            "6684672K ........ ........ ........ ........ 39.3M\n",
            "6717440K ........ ........ ........ ........ 53.0M\n",
            "6750208K ........ ........ ........ ........ 10.5M\n",
            "6782976K ........ ........ ........ ........ 41.6M\n",
            "6815744K ........ ........ ........ ........ 22.7M\n",
            "6848512K ........ ........ ........ ........ 22.0M\n",
            "6881280K ........ ........ ........ ........ 24.6M\n",
            "6914048K ........ ........ ........ ........ 51.5M\n",
            "6946816K ........ ........ ........ ........ 47.0M\n",
            "6979584K ........ ........ ........ ........ 40.8M\n",
            "7012352K ........ ........ ........ ........ 74.8M\n",
            "7045120K ........ ........ ........ ........ 79.1M\n",
            "7077888K ........ ........ ........ ........ 84.3M\n",
            "7110656K ........ ........ ........ ........ 41.8M\n",
            "7143424K ........ ........ ........ ........ 81.4M\n",
            "7176192K ........ ........ ........ ........  112M\n",
            "7208960K ........ ........ ........ ........ 82.3M\n",
            "7241728K ........ ........ ........ ........ 39.3M\n",
            "7274496K ........ ........ ........ ........ 90.3M\n",
            "7307264K ........ ........ ........ ........ 78.8M\n",
            "7340032K ........ ........ ........ ........ 78.2M\n",
            "7372800K ........ ........ ........ ........ 97.3M\n",
            "7405568K ........ ........ ........ ........ 87.7M\n",
            "7438336K ........ ........ ........ ........ 52.8M\n",
            "7471104K ........ ........ ........ ........ 29.8M\n",
            "7503872K ........ ........ ........ ........ 47.2M\n",
            "7536640K ........ ........ ........ ........ 35.9M\n",
            "7569408K ........ ........ ........ ........ 36.9M\n",
            "7602176K ........ ........ ........ ........ 34.8M\n",
            "7634944K ........ ........ ........ ........ 39.4M\n",
            "7667712K ........ ........ ........ ........ 31.2M\n",
            "7700480K ........ ........ ........ ........ 27.6M\n",
            "7733248K ........ ........ ........ ........ 14.5M\n",
            "7766016K ........ ........ ........ ........ 23.6M\n",
            "7798784K ........ ........ ........ ........ 29.3M\n",
            "7831552K ........ ........ ........ ........ 29.4M\n",
            "7864320K ........ ........ ........ ........ 34.2M\n",
            "7897088K ........ ........ ........ ........ 45.2M\n",
            "7929856K ........ ........ ........ ........ 58.0M\n",
            "7962624K ........ ........ ........ ........ 41.0M\n",
            "7995392K ........ ........ ........ ........ 66.7M\n",
            "8028160K ........ ........ ........ ........  112M\n",
            "8060928K ........ ........ ........ ........ 75.2M\n",
            "8093696K ........ ........ ........ ........ 70.1M\n",
            "8126464K ........ ........ ........ ........ 31.3M\n",
            "8159232K ........ ........ ........ ........ 23.3M\n",
            "8192000K ........ ........ ........ ........ 22.9M\n",
            "8224768K ........ ........ ........ ........ 27.5M\n",
            "8257536K ........ ........ ........ ........ 34.4M\n",
            "8290304K ........ ........ ........ ........ 22.3M\n",
            "8323072K ........ ........ ........ ........ 43.1M\n",
            "8355840K ........ ........ ........ ........ 62.1M\n",
            "8388608K ........ ........ ........ ........ 45.1M\n",
            "8421376K ........ ........ ........ ........ 85.1M\n",
            "8454144K ........ ........ ........ ........ 78.9M\n",
            "8486912K ........ ........ ........ ........ 43.0M\n",
            "8519680K ........ ........ ........ ........ 32.2M\n",
            "8552448K ........ ........ ........ ........ 23.0M\n",
            "8585216K ........ ........ ........ ........ 35.3M\n",
            "8617984K ........ ........ ........ ........ 30.0M\n",
            "8650752K ........ ........ ........ ........ 34.0M\n",
            "8683520K ........ ........ ........ ........ 37.9M\n",
            "8716288K ........ ........ ........ ........ 49.9M\n",
            "8749056K ........ ........ ........ ........ 38.4M\n",
            "8781824K ........ ........ ........ ........ 83.7M\n",
            "8814592K ........ ........ ........ ........ 73.9M\n",
            "8847360K ........ ........ ........ ........ 6.86M\n",
            "8880128K ........ ........ ........ ........ 19.7M\n",
            "8912896K ........ ........ ........ ........ 24.7M\n",
            "8945664K ...                                 30.1M=3m23s\n",
            "\n",
            "2020-07-06 21:45:45 (43.1 MB/s) - ‘gdown.20200706214221.987876415093528’ saved [9163696640]\n",
            "\n"
          ],
          "name": "stdout"
        }
      ]
    },
    {
      "cell_type": "code",
      "metadata": {
        "id": "05mfEAZXCZ2y",
        "colab_type": "code",
        "colab": {}
      },
      "source": [
        "!mv gdown.20* lung.tar\n",
        "!tar -xf lung.tar\n",
        "!rm lung.tar"
      ],
      "execution_count": 3,
      "outputs": []
    },
    {
      "cell_type": "code",
      "metadata": {
        "id": "FGre-O-yCfZ3",
        "colab_type": "code",
        "colab": {
          "base_uri": "https://localhost:8080/",
          "height": 698
        },
        "outputId": "2009ea7d-d0eb-43c2-af27-28254010d058"
      },
      "source": [
        "!pip install git+git://github.com/s-mostafa-a/niftidataset.git\n",
        "!git clone https://github.com/wolny/pytorch-3dunet.git"
      ],
      "execution_count": 4,
      "outputs": [
        {
          "output_type": "stream",
          "text": [
            "Collecting git+git://github.com/s-mostafa-a/niftidataset.git\n",
            "  Cloning git://github.com/s-mostafa-a/niftidataset.git to /tmp/pip-req-build-coa9xbx8\n",
            "  Running command git clone -q git://github.com/s-mostafa-a/niftidataset.git /tmp/pip-req-build-coa9xbx8\n",
            "Requirement already satisfied: nibabel>=2.3.1 in /usr/local/lib/python3.6/dist-packages (from niftidataset==0.2.0) (3.0.2)\n",
            "Requirement already satisfied: numpy>=1.15.4 in /usr/local/lib/python3.6/dist-packages (from niftidataset==0.2.0) (1.18.5)\n",
            "Requirement already satisfied: pillow>=5.3.0 in /usr/local/lib/python3.6/dist-packages (from niftidataset==0.2.0) (7.0.0)\n",
            "Requirement already satisfied: torch>=1.0.0 in /usr/local/lib/python3.6/dist-packages (from niftidataset==0.2.0) (1.5.1+cu101)\n",
            "Requirement already satisfied: torchvision>=0.2.1 in /usr/local/lib/python3.6/dist-packages (from niftidataset==0.2.0) (0.6.1+cu101)\n",
            "Requirement already satisfied: future in /usr/local/lib/python3.6/dist-packages (from torch>=1.0.0->niftidataset==0.2.0) (0.16.0)\n",
            "Building wheels for collected packages: niftidataset\n",
            "  Building wheel for niftidataset (setup.py) ... \u001b[?25l\u001b[?25hdone\n",
            "  Created wheel for niftidataset: filename=niftidataset-0.2.0-cp36-none-any.whl size=11872 sha256=9888e8681587fb990bee82a2a69919c400c977b4d79a3c39f1df46b4279d45f8\n",
            "  Stored in directory: /tmp/pip-ephem-wheel-cache-szy1htew/wheels/90/80/c0/09c0a7dbe8a2902eeca8ebc007b7cbe2b5a06389d3f71d54f9\n",
            "Successfully built niftidataset\n",
            "Installing collected packages: niftidataset\n",
            "Successfully installed niftidataset-0.2.0\n",
            "Cloning into 'pytorch-3dunet'...\n",
            "remote: Enumerating objects: 346, done.\u001b[K\n",
            "remote: Counting objects: 100% (346/346), done.\u001b[K\n",
            "remote: Compressing objects: 100% (202/202), done.\u001b[K\n",
            "remote: Total 2698 (delta 216), reused 248 (delta 141), pack-reused 2352\u001b[K\n",
            "Receiving objects: 100% (2698/2698), 296.96 MiB | 46.99 MiB/s, done.\n",
            "Resolving deltas: 100% (1781/1781), done.\n"
          ],
          "name": "stdout"
        }
      ]
    },
    {
      "cell_type": "code",
      "metadata": {
        "id": "rsiKpjmjhx8m",
        "colab_type": "code",
        "colab": {
          "base_uri": "https://localhost:8080/",
          "height": 449
        },
        "outputId": "ce68c856-e8eb-4b13-d45f-f869a65d9308"
      },
      "source": [
        "!pip install hdbscan"
      ],
      "execution_count": 5,
      "outputs": [
        {
          "output_type": "stream",
          "text": [
            "Collecting hdbscan\n",
            "\u001b[?25l  Downloading https://files.pythonhosted.org/packages/22/2f/2423d844072f007a74214c1adc46260e45f034bb1679ccadfbb8a601f647/hdbscan-0.8.26.tar.gz (4.7MB)\n",
            "\u001b[K     |████████████████████████████████| 4.7MB 3.4MB/s \n",
            "\u001b[?25h  Installing build dependencies ... \u001b[?25l\u001b[?25hdone\n",
            "  Getting requirements to build wheel ... \u001b[?25l\u001b[?25hdone\n",
            "    Preparing wheel metadata ... \u001b[?25l\u001b[?25hdone\n",
            "Requirement already satisfied: cython>=0.27 in /usr/local/lib/python3.6/dist-packages (from hdbscan) (0.29.20)\n",
            "Requirement already satisfied: numpy>=1.16.0 in /usr/local/lib/python3.6/dist-packages (from hdbscan) (1.18.5)\n",
            "Requirement already satisfied: joblib in /usr/local/lib/python3.6/dist-packages (from hdbscan) (0.15.1)\n",
            "Requirement already satisfied: scipy>=0.9 in /usr/local/lib/python3.6/dist-packages (from hdbscan) (1.4.1)\n",
            "Requirement already satisfied: six in /usr/local/lib/python3.6/dist-packages (from hdbscan) (1.12.0)\n",
            "Requirement already satisfied: scikit-learn>=0.17 in /usr/local/lib/python3.6/dist-packages (from hdbscan) (0.22.2.post1)\n",
            "Building wheels for collected packages: hdbscan\n",
            "  Building wheel for hdbscan (PEP 517) ... \u001b[?25l\u001b[?25hdone\n",
            "  Created wheel for hdbscan: filename=hdbscan-0.8.26-cp36-cp36m-linux_x86_64.whl size=2307165 sha256=346106fa71b1cca7365f8db5b8f027f8c316c242cd81ba6e8c4ea7ecf7554fcf\n",
            "  Stored in directory: /root/.cache/pip/wheels/82/38/41/372f034d8abd271ef7787a681e0a47fc05d472683a7eb088ed\n",
            "Successfully built hdbscan\n",
            "Installing collected packages: hdbscan\n",
            "Successfully installed hdbscan-0.8.26\n"
          ],
          "name": "stdout"
        }
      ]
    },
    {
      "cell_type": "code",
      "metadata": {
        "id": "4J4ImtzfgtrS",
        "colab_type": "code",
        "colab": {
          "base_uri": "https://localhost:8080/",
          "height": 34
        },
        "outputId": "061b6e33-1f3a-42c8-a7b4-ace81161afc2"
      },
      "source": [
        "import os\n",
        "import sys\n",
        "module_path = os.path.abspath(os.path.join('/content/pytorch-3dunet/'))\n",
        "if module_path not in sys.path:\n",
        "    sys.path.append(module_path)\n",
        "from pytorch3dunet.unet3d.model import UNet3D, ResidualUNet3D\n",
        "from pytorch3dunet.unet3d.losses import *\n",
        "from pytorch3dunet.unet3d.metrics import *\n",
        "from niftidataset import *\n",
        "from torchvision import transforms as tvt\n",
        "%matplotlib inline\n",
        "%load_ext autoreload\n",
        "%autoreload 2\n",
        "train_dir = '/content/Task06_Lung/'\n",
        "patch_sz = 64\n",
        "tfms = tvt.Compose([RandomCrop3D(patch_sz), ToTensor(), Normalize(mean=[0],std=[1],is_3d=True)])\n",
        "tds, vds = get_train_and_validation_from_one_directory(source_dir=train_dir+'imagesTr', target_dir=train_dir+'labelsTr', valid_pct=0.2, transform=tfms)\n",
        "print(len(tds), len(vds))\n",
        "from fastai import vision as faiv\n",
        "idb = faiv.ImageDataBunch.create(tds, vds, bs=1, num_workers=1)\n"
      ],
      "execution_count": 1,
      "outputs": [
        {
          "output_type": "stream",
          "text": [
            "51 12\n"
          ],
          "name": "stdout"
        }
      ]
    },
    {
      "cell_type": "code",
      "metadata": {
        "id": "taawwNpdin2L",
        "colab_type": "code",
        "colab": {
          "base_uri": "https://localhost:8080/",
          "height": 143
        },
        "outputId": "52d7094e-af09-4a2d-d009-2da25533f9bf"
      },
      "source": [
        "import torch \n",
        "model = UNet3D(in_channels=1, out_channels=1, final_sigmoid=False)\n",
        "metric = MeanIoU()\n",
        "metric.__name__ = 'MeanIoU'\n",
        "learner = faiv.Learner(idb, model, loss_func=DiceLoss(), metrics=[metric], opt_func=torch.optim.Adam)\n",
        "learner.lr_find()"
      ],
      "execution_count": null,
      "outputs": [
        {
          "output_type": "display_data",
          "data": {
            "text/html": [
              "\n",
              "    <div>\n",
              "        <style>\n",
              "            /* Turns off some styling */\n",
              "            progress {\n",
              "                /* gets rid of default border in Firefox and Opera. */\n",
              "                border: none;\n",
              "                /* Needs to be in here for Safari polyfill so background images work as expected. */\n",
              "                background-size: auto;\n",
              "            }\n",
              "            .progress-bar-interrupted, .progress-bar-interrupted::-webkit-progress-bar {\n",
              "                background: #F44336;\n",
              "            }\n",
              "        </style>\n",
              "      <progress value='1' class='' max='2' style='width:300px; height:20px; vertical-align: middle;'></progress>\n",
              "      50.00% [1/2 08:27<08:27]\n",
              "    </div>\n",
              "    \n",
              "<table border=\"1\" class=\"dataframe\">\n",
              "  <thead>\n",
              "    <tr style=\"text-align: left;\">\n",
              "      <th>epoch</th>\n",
              "      <th>train_loss</th>\n",
              "      <th>valid_loss</th>\n",
              "      <th>MeanIoU</th>\n",
              "      <th>time</th>\n",
              "    </tr>\n",
              "  </thead>\n",
              "  <tbody>\n",
              "    <tr>\n",
              "      <td>0</td>\n",
              "      <td>0.990158</td>\n",
              "      <td>#na#</td>\n",
              "      <td>08:27</td>\n",
              "    </tr>\n",
              "  </tbody>\n",
              "</table><p>\n",
              "\n",
              "    <div>\n",
              "        <style>\n",
              "            /* Turns off some styling */\n",
              "            progress {\n",
              "                /* gets rid of default border in Firefox and Opera. */\n",
              "                border: none;\n",
              "                /* Needs to be in here for Safari polyfill so background images work as expected. */\n",
              "                background-size: auto;\n",
              "            }\n",
              "            .progress-bar-interrupted, .progress-bar-interrupted::-webkit-progress-bar {\n",
              "                background: #F44336;\n",
              "            }\n",
              "        </style>\n",
              "      <progress value='48' class='' max='51' style='width:300px; height:20px; vertical-align: middle;'></progress>\n",
              "      94.12% [48/51 07:56<00:29 0.9972]\n",
              "    </div>\n",
              "    "
            ],
            "text/plain": [
              "<IPython.core.display.HTML object>"
            ]
          },
          "metadata": {
            "tags": []
          }
        },
        {
          "output_type": "stream",
          "text": [
            "LR Finder is complete, type {learner_name}.recorder.plot() to see the graph.\n"
          ],
          "name": "stdout"
        }
      ]
    },
    {
      "cell_type": "code",
      "metadata": {
        "id": "t28Ar9xkjFcX",
        "colab_type": "code",
        "colab": {
          "base_uri": "https://localhost:8080/",
          "height": 279
        },
        "outputId": "dc46273c-18ac-4a9a-f0b5-1389753b5ab8"
      },
      "source": [
        "learner.recorder.plot()"
      ],
      "execution_count": null,
      "outputs": [
        {
          "output_type": "display_data",
          "data": {
            "image/png": "[encoded data removed]",
            "text/plain": [
              "<Figure size 432x288 with 1 Axes>"
            ]
          },
          "metadata": {
            "tags": [],
            "needs_background": "light"
          }
        }
      ]
    },
    {
      "cell_type": "code",
      "metadata": {
        "id": "CBPbeKzQnrJE",
        "colab_type": "code",
        "colab": {
          "base_uri": "https://localhost:8080/",
          "height": 250
        },
        "outputId": "4c1223d0-b659-4832-bc5c-77b4fe14d98e"
      },
      "source": [
        "# model(tds[0][0].view(tds[0][0].size()[0], -1))\n",
        "# learner.predict(tds[0][0])\n",
        "learner.fit_one_cycle(10, max_lr=slice(1e-03), pct_start=0.8)"
      ],
      "execution_count": null,
      "outputs": [
        {
          "output_type": "display_data",
          "data": {
            "text/html": [
              "\n",
              "    <div>\n",
              "        <style>\n",
              "            /* Turns off some styling */\n",
              "            progress {\n",
              "                /* gets rid of default border in Firefox and Opera. */\n",
              "                border: none;\n",
              "                /* Needs to be in here for Safari polyfill so background images work as expected. */\n",
              "                background-size: auto;\n",
              "            }\n",
              "            .progress-bar-interrupted, .progress-bar-interrupted::-webkit-progress-bar {\n",
              "                background: #F44336;\n",
              "            }\n",
              "        </style>\n",
              "      <progress value='5' class='' max='10' style='width:300px; height:20px; vertical-align: middle;'></progress>\n",
              "      50.00% [5/10 47:28<47:28]\n",
              "    </div>\n",
              "    \n",
              "<table border=\"1\" class=\"dataframe\">\n",
              "  <thead>\n",
              "    <tr style=\"text-align: left;\">\n",
              "      <th>epoch</th>\n",
              "      <th>train_loss</th>\n",
              "      <th>valid_loss</th>\n",
              "      <th>MeanIoU</th>\n",
              "      <th>time</th>\n",
              "    </tr>\n",
              "  </thead>\n",
              "  <tbody>\n",
              "    <tr>\n",
              "      <td>0</td>\n",
              "      <td>0.998508</td>\n",
              "      <td>1.000000</td>\n",
              "      <td>0.000000</td>\n",
              "      <td>09:32</td>\n",
              "    </tr>\n",
              "    <tr>\n",
              "      <td>1</td>\n",
              "      <td>0.996173</td>\n",
              "      <td>1.000000</td>\n",
              "      <td>0.000000</td>\n",
              "      <td>09:26</td>\n",
              "    </tr>\n",
              "    <tr>\n",
              "      <td>2</td>\n",
              "      <td>0.996809</td>\n",
              "      <td>1.000000</td>\n",
              "      <td>0.000000</td>\n",
              "      <td>09:35</td>\n",
              "    </tr>\n",
              "    <tr>\n",
              "      <td>3</td>\n",
              "      <td>0.997406</td>\n",
              "      <td>1.000000</td>\n",
              "      <td>0.000000</td>\n",
              "      <td>09:27</td>\n",
              "    </tr>\n",
              "    <tr>\n",
              "      <td>4</td>\n",
              "      <td>0.997791</td>\n",
              "      <td>1.000000</td>\n",
              "      <td>0.000000</td>\n",
              "      <td>09:25</td>\n",
              "    </tr>\n",
              "  </tbody>\n",
              "</table><p>\n",
              "\n",
              "    <div>\n",
              "        <style>\n",
              "            /* Turns off some styling */\n",
              "            progress {\n",
              "                /* gets rid of default border in Firefox and Opera. */\n",
              "                border: none;\n",
              "                /* Needs to be in here for Safari polyfill so background images work as expected. */\n",
              "                background-size: auto;\n",
              "            }\n",
              "            .progress-bar-interrupted, .progress-bar-interrupted::-webkit-progress-bar {\n",
              "                background: #F44336;\n",
              "            }\n",
              "        </style>\n",
              "      <progress value='12' class='' max='51' style='width:300px; height:20px; vertical-align: middle;'></progress>\n",
              "      23.53% [12/51 02:02<06:38 0.9977]\n",
              "    </div>\n",
              "    "
            ],
            "text/plain": [
              "<IPython.core.display.HTML object>"
            ]
          },
          "metadata": {
            "tags": []
          }
        }
      ]
    },
    {
      "cell_type": "code",
      "metadata": {
        "id": "rct0iIVroFs4",
        "colab_type": "code",
        "colab": {
          "base_uri": "https://localhost:8080/",
          "height": 51
        },
        "outputId": "61708c34-e6a6-4578-f41a-29a291a765cf"
      },
      "source": [
        "learner.fit_one_cycle(10, max_lr=slice(1e-03), pct_start=0.8, a)"
      ],
      "execution_count": null,
      "outputs": [
        {
          "output_type": "stream",
          "text": [
            "torch.Size([12, 1, 64, 64, 64])\n",
            "torch.Size([12, 1, 64, 64, 64])\n"
          ],
          "name": "stdout"
        }
      ]
    },
    {
      "cell_type": "code",
      "metadata": {
        "id": "1TwUk4VArpHy",
        "colab_type": "code",
        "colab": {
          "base_uri": "https://localhost:8080/",
          "height": 553
        },
        "outputId": "776dc82a-68fd-4518-f8c8-c322e86c9632"
      },
      "source": [
        "import torch \n",
        "model = UNet3D(in_channels=1, out_channels=1, final_sigmoid=False)\n",
        "metric = MeanIoU()\n",
        "metric.__name__ = 'MeanIoU'\n",
        "learner = faiv.Learner(idb, model, loss_func=nn.CrossEntropyLoss(weight=torch.Tensor([0.01,0.99])), metrics=[metric], opt_func=torch.optim.Adam)\n",
        "learner.lr_find()\n",
        "\n"
      ],
      "execution_count": 8,
      "outputs": [
        {
          "output_type": "display_data",
          "data": {
            "text/html": [
              "\n",
              "    <div>\n",
              "        <style>\n",
              "            /* Turns off some styling */\n",
              "            progress {\n",
              "                /* gets rid of default border in Firefox and Opera. */\n",
              "                border: none;\n",
              "                /* Needs to be in here for Safari polyfill so background images work as expected. */\n",
              "                background-size: auto;\n",
              "            }\n",
              "            .progress-bar-interrupted, .progress-bar-interrupted::-webkit-progress-bar {\n",
              "                background: #F44336;\n",
              "            }\n",
              "        </style>\n",
              "      <progress value='0' class='' max='2' style='width:300px; height:20px; vertical-align: middle;'></progress>\n",
              "      0.00% [0/2 00:00<00:00]\n",
              "    </div>\n",
              "    \n",
              "<table border=\"1\" class=\"dataframe\">\n",
              "  <thead>\n",
              "    <tr style=\"text-align: left;\">\n",
              "      <th>epoch</th>\n",
              "      <th>train_loss</th>\n",
              "      <th>valid_loss</th>\n",
              "      <th>MeanIoU</th>\n",
              "      <th>time</th>\n",
              "    </tr>\n",
              "  </thead>\n",
              "  <tbody>\n",
              "  </tbody>\n",
              "</table><p>\n",
              "\n",
              "    <div>\n",
              "        <style>\n",
              "            /* Turns off some styling */\n",
              "            progress {\n",
              "                /* gets rid of default border in Firefox and Opera. */\n",
              "                border: none;\n",
              "                /* Needs to be in here for Safari polyfill so background images work as expected. */\n",
              "                background-size: auto;\n",
              "            }\n",
              "            .progress-bar-interrupted, .progress-bar-interrupted::-webkit-progress-bar {\n",
              "                background: #F44336;\n",
              "            }\n",
              "        </style>\n",
              "      <progress value='0' class='' max='51' style='width:300px; height:20px; vertical-align: middle;'></progress>\n",
              "      0.00% [0/51 00:00<00:00]\n",
              "    </div>\n",
              "    "
            ],
            "text/plain": [
              "<IPython.core.display.HTML object>"
            ]
          },
          "metadata": {
            "tags": []
          }
        },
        {
          "output_type": "stream",
          "text": [
            "LR Finder is complete, type {learner_name}.recorder.plot() to see the graph.\n"
          ],
          "name": "stdout"
        },
        {
          "output_type": "error",
          "ename": "ValueError",
          "evalue": "ignored",
          "traceback": [
            "\u001b[0;31m---------------------------------------------------------------------------\u001b[0m",
            "\u001b[0;31mValueError\u001b[0m                                Traceback (most recent call last)",
            "\u001b[0;32m<ipython-input-8-51e3120fcb61>\u001b[0m in \u001b[0;36m<module>\u001b[0;34m()\u001b[0m\n\u001b[1;32m      4\u001b[0m \u001b[0mmetric\u001b[0m\u001b[0;34m.\u001b[0m\u001b[0m__name__\u001b[0m \u001b[0;34m=\u001b[0m \u001b[0;34m'MeanIoU'\u001b[0m\u001b[0;34m\u001b[0m\u001b[0;34m\u001b[0m\u001b[0m\n\u001b[1;32m      5\u001b[0m \u001b[0mlearner\u001b[0m \u001b[0;34m=\u001b[0m \u001b[0mfaiv\u001b[0m\u001b[0;34m.\u001b[0m\u001b[0mLearner\u001b[0m\u001b[0;34m(\u001b[0m\u001b[0midb\u001b[0m\u001b[0;34m,\u001b[0m \u001b[0mmodel\u001b[0m\u001b[0;34m,\u001b[0m \u001b[0mloss_func\u001b[0m\u001b[0;34m=\u001b[0m\u001b[0mnn\u001b[0m\u001b[0;34m.\u001b[0m\u001b[0mCrossEntropyLoss\u001b[0m\u001b[0;34m(\u001b[0m\u001b[0mweight\u001b[0m\u001b[0;34m=\u001b[0m\u001b[0mtorch\u001b[0m\u001b[0;34m.\u001b[0m\u001b[0mTensor\u001b[0m\u001b[0;34m(\u001b[0m\u001b[0;34m[\u001b[0m\u001b[0;36m0.01\u001b[0m\u001b[0;34m,\u001b[0m\u001b[0;36m0.99\u001b[0m\u001b[0;34m]\u001b[0m\u001b[0;34m)\u001b[0m\u001b[0;34m)\u001b[0m\u001b[0;34m,\u001b[0m \u001b[0mmetrics\u001b[0m\u001b[0;34m=\u001b[0m\u001b[0;34m[\u001b[0m\u001b[0mmetric\u001b[0m\u001b[0;34m]\u001b[0m\u001b[0;34m,\u001b[0m \u001b[0mopt_func\u001b[0m\u001b[0;34m=\u001b[0m\u001b[0mtorch\u001b[0m\u001b[0;34m.\u001b[0m\u001b[0moptim\u001b[0m\u001b[0;34m.\u001b[0m\u001b[0mAdam\u001b[0m\u001b[0;34m)\u001b[0m\u001b[0;34m\u001b[0m\u001b[0;34m\u001b[0m\u001b[0m\n\u001b[0;32m----> 6\u001b[0;31m \u001b[0mlearner\u001b[0m\u001b[0;34m.\u001b[0m\u001b[0mlr_find\u001b[0m\u001b[0;34m(\u001b[0m\u001b[0;34m)\u001b[0m\u001b[0;34m\u001b[0m\u001b[0;34m\u001b[0m\u001b[0m\n\u001b[0m\u001b[1;32m      7\u001b[0m \u001b[0;34m\u001b[0m\u001b[0m\n",
            "\u001b[0;32m/usr/local/lib/python3.6/dist-packages/fastai/train.py\u001b[0m in \u001b[0;36mlr_find\u001b[0;34m(learn, start_lr, end_lr, num_it, stop_div, wd)\u001b[0m\n\u001b[1;32m     39\u001b[0m     \u001b[0mcb\u001b[0m \u001b[0;34m=\u001b[0m \u001b[0mLRFinder\u001b[0m\u001b[0;34m(\u001b[0m\u001b[0mlearn\u001b[0m\u001b[0;34m,\u001b[0m \u001b[0mstart_lr\u001b[0m\u001b[0;34m,\u001b[0m \u001b[0mend_lr\u001b[0m\u001b[0;34m,\u001b[0m \u001b[0mnum_it\u001b[0m\u001b[0;34m,\u001b[0m \u001b[0mstop_div\u001b[0m\u001b[0;34m)\u001b[0m\u001b[0;34m\u001b[0m\u001b[0;34m\u001b[0m\u001b[0m\n\u001b[1;32m     40\u001b[0m     \u001b[0mepochs\u001b[0m \u001b[0;34m=\u001b[0m \u001b[0mint\u001b[0m\u001b[0;34m(\u001b[0m\u001b[0mnp\u001b[0m\u001b[0;34m.\u001b[0m\u001b[0mceil\u001b[0m\u001b[0;34m(\u001b[0m\u001b[0mnum_it\u001b[0m\u001b[0;34m/\u001b[0m\u001b[0mlen\u001b[0m\u001b[0;34m(\u001b[0m\u001b[0mlearn\u001b[0m\u001b[0;34m.\u001b[0m\u001b[0mdata\u001b[0m\u001b[0;34m.\u001b[0m\u001b[0mtrain_dl\u001b[0m\u001b[0;34m)\u001b[0m\u001b[0;34m)\u001b[0m\u001b[0;34m)\u001b[0m \u001b[0;34m*\u001b[0m \u001b[0;34m(\u001b[0m\u001b[0mnum_distrib\u001b[0m\u001b[0;34m(\u001b[0m\u001b[0;34m)\u001b[0m \u001b[0;32mor\u001b[0m \u001b[0;36m1\u001b[0m\u001b[0;34m)\u001b[0m\u001b[0;34m\u001b[0m\u001b[0;34m\u001b[0m\u001b[0m\n\u001b[0;32m---> 41\u001b[0;31m     \u001b[0mlearn\u001b[0m\u001b[0;34m.\u001b[0m\u001b[0mfit\u001b[0m\u001b[0;34m(\u001b[0m\u001b[0mepochs\u001b[0m\u001b[0;34m,\u001b[0m \u001b[0mstart_lr\u001b[0m\u001b[0;34m,\u001b[0m \u001b[0mcallbacks\u001b[0m\u001b[0;34m=\u001b[0m\u001b[0;34m[\u001b[0m\u001b[0mcb\u001b[0m\u001b[0;34m]\u001b[0m\u001b[0;34m,\u001b[0m \u001b[0mwd\u001b[0m\u001b[0;34m=\u001b[0m\u001b[0mwd\u001b[0m\u001b[0;34m)\u001b[0m\u001b[0;34m\u001b[0m\u001b[0;34m\u001b[0m\u001b[0m\n\u001b[0m\u001b[1;32m     42\u001b[0m \u001b[0;34m\u001b[0m\u001b[0m\n\u001b[1;32m     43\u001b[0m def to_fp16(learn:Learner, loss_scale:float=None, max_noskip:int=1000, dynamic:bool=True, clip:float=None,\n",
            "\u001b[0;32m/usr/local/lib/python3.6/dist-packages/fastai/basic_train.py\u001b[0m in \u001b[0;36mfit\u001b[0;34m(self, epochs, lr, wd, callbacks)\u001b[0m\n\u001b[1;32m    198\u001b[0m         \u001b[0;32melse\u001b[0m\u001b[0;34m:\u001b[0m \u001b[0mself\u001b[0m\u001b[0;34m.\u001b[0m\u001b[0mopt\u001b[0m\u001b[0;34m.\u001b[0m\u001b[0mlr\u001b[0m\u001b[0;34m,\u001b[0m\u001b[0mself\u001b[0m\u001b[0;34m.\u001b[0m\u001b[0mopt\u001b[0m\u001b[0;34m.\u001b[0m\u001b[0mwd\u001b[0m \u001b[0;34m=\u001b[0m \u001b[0mlr\u001b[0m\u001b[0;34m,\u001b[0m\u001b[0mwd\u001b[0m\u001b[0;34m\u001b[0m\u001b[0;34m\u001b[0m\u001b[0m\n\u001b[1;32m    199\u001b[0m         \u001b[0mcallbacks\u001b[0m \u001b[0;34m=\u001b[0m \u001b[0;34m[\u001b[0m\u001b[0mcb\u001b[0m\u001b[0;34m(\u001b[0m\u001b[0mself\u001b[0m\u001b[0;34m)\u001b[0m \u001b[0;32mfor\u001b[0m \u001b[0mcb\u001b[0m \u001b[0;32min\u001b[0m \u001b[0mself\u001b[0m\u001b[0;34m.\u001b[0m\u001b[0mcallback_fns\u001b[0m \u001b[0;34m+\u001b[0m \u001b[0mlistify\u001b[0m\u001b[0;34m(\u001b[0m\u001b[0mdefaults\u001b[0m\u001b[0;34m.\u001b[0m\u001b[0mextra_callback_fns\u001b[0m\u001b[0;34m)\u001b[0m\u001b[0;34m]\u001b[0m \u001b[0;34m+\u001b[0m \u001b[0mlistify\u001b[0m\u001b[0;34m(\u001b[0m\u001b[0mcallbacks\u001b[0m\u001b[0;34m)\u001b[0m\u001b[0;34m\u001b[0m\u001b[0;34m\u001b[0m\u001b[0m\n\u001b[0;32m--> 200\u001b[0;31m         \u001b[0mfit\u001b[0m\u001b[0;34m(\u001b[0m\u001b[0mepochs\u001b[0m\u001b[0;34m,\u001b[0m \u001b[0mself\u001b[0m\u001b[0;34m,\u001b[0m \u001b[0mmetrics\u001b[0m\u001b[0;34m=\u001b[0m\u001b[0mself\u001b[0m\u001b[0;34m.\u001b[0m\u001b[0mmetrics\u001b[0m\u001b[0;34m,\u001b[0m \u001b[0mcallbacks\u001b[0m\u001b[0;34m=\u001b[0m\u001b[0mself\u001b[0m\u001b[0;34m.\u001b[0m\u001b[0mcallbacks\u001b[0m\u001b[0;34m+\u001b[0m\u001b[0mcallbacks\u001b[0m\u001b[0;34m)\u001b[0m\u001b[0;34m\u001b[0m\u001b[0;34m\u001b[0m\u001b[0m\n\u001b[0m\u001b[1;32m    201\u001b[0m \u001b[0;34m\u001b[0m\u001b[0m\n\u001b[1;32m    202\u001b[0m     \u001b[0;32mdef\u001b[0m \u001b[0mcreate_opt\u001b[0m\u001b[0;34m(\u001b[0m\u001b[0mself\u001b[0m\u001b[0;34m,\u001b[0m \u001b[0mlr\u001b[0m\u001b[0;34m:\u001b[0m\u001b[0mFloats\u001b[0m\u001b[0;34m,\u001b[0m \u001b[0mwd\u001b[0m\u001b[0;34m:\u001b[0m\u001b[0mFloats\u001b[0m\u001b[0;34m=\u001b[0m\u001b[0;36m0.\u001b[0m\u001b[0;34m)\u001b[0m\u001b[0;34m->\u001b[0m\u001b[0;32mNone\u001b[0m\u001b[0;34m:\u001b[0m\u001b[0;34m\u001b[0m\u001b[0;34m\u001b[0m\u001b[0m\n",
            "\u001b[0;32m/usr/local/lib/python3.6/dist-packages/fastai/basic_train.py\u001b[0m in \u001b[0;36mfit\u001b[0;34m(epochs, learn, callbacks, metrics)\u001b[0m\n\u001b[1;32m     99\u001b[0m             \u001b[0;32mfor\u001b[0m \u001b[0mxb\u001b[0m\u001b[0;34m,\u001b[0m\u001b[0myb\u001b[0m \u001b[0;32min\u001b[0m \u001b[0mprogress_bar\u001b[0m\u001b[0;34m(\u001b[0m\u001b[0mlearn\u001b[0m\u001b[0;34m.\u001b[0m\u001b[0mdata\u001b[0m\u001b[0;34m.\u001b[0m\u001b[0mtrain_dl\u001b[0m\u001b[0;34m,\u001b[0m \u001b[0mparent\u001b[0m\u001b[0;34m=\u001b[0m\u001b[0mpbar\u001b[0m\u001b[0;34m)\u001b[0m\u001b[0;34m:\u001b[0m\u001b[0;34m\u001b[0m\u001b[0;34m\u001b[0m\u001b[0m\n\u001b[1;32m    100\u001b[0m                 \u001b[0mxb\u001b[0m\u001b[0;34m,\u001b[0m \u001b[0myb\u001b[0m \u001b[0;34m=\u001b[0m \u001b[0mcb_handler\u001b[0m\u001b[0;34m.\u001b[0m\u001b[0mon_batch_begin\u001b[0m\u001b[0;34m(\u001b[0m\u001b[0mxb\u001b[0m\u001b[0;34m,\u001b[0m \u001b[0myb\u001b[0m\u001b[0;34m)\u001b[0m\u001b[0;34m\u001b[0m\u001b[0;34m\u001b[0m\u001b[0m\n\u001b[0;32m--> 101\u001b[0;31m                 \u001b[0mloss\u001b[0m \u001b[0;34m=\u001b[0m \u001b[0mloss_batch\u001b[0m\u001b[0;34m(\u001b[0m\u001b[0mlearn\u001b[0m\u001b[0;34m.\u001b[0m\u001b[0mmodel\u001b[0m\u001b[0;34m,\u001b[0m \u001b[0mxb\u001b[0m\u001b[0;34m,\u001b[0m \u001b[0myb\u001b[0m\u001b[0;34m,\u001b[0m \u001b[0mlearn\u001b[0m\u001b[0;34m.\u001b[0m\u001b[0mloss_func\u001b[0m\u001b[0;34m,\u001b[0m \u001b[0mlearn\u001b[0m\u001b[0;34m.\u001b[0m\u001b[0mopt\u001b[0m\u001b[0;34m,\u001b[0m \u001b[0mcb_handler\u001b[0m\u001b[0;34m)\u001b[0m\u001b[0;34m\u001b[0m\u001b[0;34m\u001b[0m\u001b[0m\n\u001b[0m\u001b[1;32m    102\u001b[0m                 \u001b[0;32mif\u001b[0m \u001b[0mcb_handler\u001b[0m\u001b[0;34m.\u001b[0m\u001b[0mon_batch_end\u001b[0m\u001b[0;34m(\u001b[0m\u001b[0mloss\u001b[0m\u001b[0;34m)\u001b[0m\u001b[0;34m:\u001b[0m \u001b[0;32mbreak\u001b[0m\u001b[0;34m\u001b[0m\u001b[0;34m\u001b[0m\u001b[0m\n\u001b[1;32m    103\u001b[0m \u001b[0;34m\u001b[0m\u001b[0m\n",
            "\u001b[0;32m/usr/local/lib/python3.6/dist-packages/fastai/basic_train.py\u001b[0m in \u001b[0;36mloss_batch\u001b[0;34m(model, xb, yb, loss_func, opt, cb_handler)\u001b[0m\n\u001b[1;32m     28\u001b[0m \u001b[0;34m\u001b[0m\u001b[0m\n\u001b[1;32m     29\u001b[0m     \u001b[0;32mif\u001b[0m \u001b[0;32mnot\u001b[0m \u001b[0mloss_func\u001b[0m\u001b[0;34m:\u001b[0m \u001b[0;32mreturn\u001b[0m \u001b[0mto_detach\u001b[0m\u001b[0;34m(\u001b[0m\u001b[0mout\u001b[0m\u001b[0;34m)\u001b[0m\u001b[0;34m,\u001b[0m \u001b[0mto_detach\u001b[0m\u001b[0;34m(\u001b[0m\u001b[0myb\u001b[0m\u001b[0;34m[\u001b[0m\u001b[0;36m0\u001b[0m\u001b[0;34m]\u001b[0m\u001b[0;34m)\u001b[0m\u001b[0;34m\u001b[0m\u001b[0;34m\u001b[0m\u001b[0m\n\u001b[0;32m---> 30\u001b[0;31m     \u001b[0mloss\u001b[0m \u001b[0;34m=\u001b[0m \u001b[0mloss_func\u001b[0m\u001b[0;34m(\u001b[0m\u001b[0mout\u001b[0m\u001b[0;34m,\u001b[0m \u001b[0;34m*\u001b[0m\u001b[0myb\u001b[0m\u001b[0;34m)\u001b[0m\u001b[0;34m\u001b[0m\u001b[0;34m\u001b[0m\u001b[0m\n\u001b[0m\u001b[1;32m     31\u001b[0m \u001b[0;34m\u001b[0m\u001b[0m\n\u001b[1;32m     32\u001b[0m     \u001b[0;32mif\u001b[0m \u001b[0mopt\u001b[0m \u001b[0;32mis\u001b[0m \u001b[0;32mnot\u001b[0m \u001b[0;32mNone\u001b[0m\u001b[0;34m:\u001b[0m\u001b[0;34m\u001b[0m\u001b[0;34m\u001b[0m\u001b[0m\n",
            "\u001b[0;32m/usr/local/lib/python3.6/dist-packages/torch/nn/modules/module.py\u001b[0m in \u001b[0;36m__call__\u001b[0;34m(self, *input, **kwargs)\u001b[0m\n\u001b[1;32m    548\u001b[0m             \u001b[0mresult\u001b[0m \u001b[0;34m=\u001b[0m \u001b[0mself\u001b[0m\u001b[0;34m.\u001b[0m\u001b[0m_slow_forward\u001b[0m\u001b[0;34m(\u001b[0m\u001b[0;34m*\u001b[0m\u001b[0minput\u001b[0m\u001b[0;34m,\u001b[0m \u001b[0;34m**\u001b[0m\u001b[0mkwargs\u001b[0m\u001b[0;34m)\u001b[0m\u001b[0;34m\u001b[0m\u001b[0;34m\u001b[0m\u001b[0m\n\u001b[1;32m    549\u001b[0m         \u001b[0;32melse\u001b[0m\u001b[0;34m:\u001b[0m\u001b[0;34m\u001b[0m\u001b[0;34m\u001b[0m\u001b[0m\n\u001b[0;32m--> 550\u001b[0;31m             \u001b[0mresult\u001b[0m \u001b[0;34m=\u001b[0m \u001b[0mself\u001b[0m\u001b[0;34m.\u001b[0m\u001b[0mforward\u001b[0m\u001b[0;34m(\u001b[0m\u001b[0;34m*\u001b[0m\u001b[0minput\u001b[0m\u001b[0;34m,\u001b[0m \u001b[0;34m**\u001b[0m\u001b[0mkwargs\u001b[0m\u001b[0;34m)\u001b[0m\u001b[0;34m\u001b[0m\u001b[0;34m\u001b[0m\u001b[0m\n\u001b[0m\u001b[1;32m    551\u001b[0m         \u001b[0;32mfor\u001b[0m \u001b[0mhook\u001b[0m \u001b[0;32min\u001b[0m \u001b[0mself\u001b[0m\u001b[0;34m.\u001b[0m\u001b[0m_forward_hooks\u001b[0m\u001b[0;34m.\u001b[0m\u001b[0mvalues\u001b[0m\u001b[0;34m(\u001b[0m\u001b[0;34m)\u001b[0m\u001b[0;34m:\u001b[0m\u001b[0;34m\u001b[0m\u001b[0;34m\u001b[0m\u001b[0m\n\u001b[1;32m    552\u001b[0m             \u001b[0mhook_result\u001b[0m \u001b[0;34m=\u001b[0m \u001b[0mhook\u001b[0m\u001b[0;34m(\u001b[0m\u001b[0mself\u001b[0m\u001b[0;34m,\u001b[0m \u001b[0minput\u001b[0m\u001b[0;34m,\u001b[0m \u001b[0mresult\u001b[0m\u001b[0;34m)\u001b[0m\u001b[0;34m\u001b[0m\u001b[0;34m\u001b[0m\u001b[0m\n",
            "\u001b[0;32m/usr/local/lib/python3.6/dist-packages/torch/nn/modules/loss.py\u001b[0m in \u001b[0;36mforward\u001b[0;34m(self, input, target)\u001b[0m\n\u001b[1;32m    930\u001b[0m     \u001b[0;32mdef\u001b[0m \u001b[0mforward\u001b[0m\u001b[0;34m(\u001b[0m\u001b[0mself\u001b[0m\u001b[0;34m,\u001b[0m \u001b[0minput\u001b[0m\u001b[0;34m,\u001b[0m \u001b[0mtarget\u001b[0m\u001b[0;34m)\u001b[0m\u001b[0;34m:\u001b[0m\u001b[0;34m\u001b[0m\u001b[0;34m\u001b[0m\u001b[0m\n\u001b[1;32m    931\u001b[0m         return F.cross_entropy(input, target, weight=self.weight,\n\u001b[0;32m--> 932\u001b[0;31m                                ignore_index=self.ignore_index, reduction=self.reduction)\n\u001b[0m\u001b[1;32m    933\u001b[0m \u001b[0;34m\u001b[0m\u001b[0m\n\u001b[1;32m    934\u001b[0m \u001b[0;34m\u001b[0m\u001b[0m\n",
            "\u001b[0;32m/usr/local/lib/python3.6/dist-packages/torch/nn/functional.py\u001b[0m in \u001b[0;36mcross_entropy\u001b[0;34m(input, target, weight, size_average, ignore_index, reduce, reduction)\u001b[0m\n\u001b[1;32m   2315\u001b[0m     \u001b[0;32mif\u001b[0m \u001b[0msize_average\u001b[0m \u001b[0;32mis\u001b[0m \u001b[0;32mnot\u001b[0m \u001b[0;32mNone\u001b[0m \u001b[0;32mor\u001b[0m \u001b[0mreduce\u001b[0m \u001b[0;32mis\u001b[0m \u001b[0;32mnot\u001b[0m \u001b[0;32mNone\u001b[0m\u001b[0;34m:\u001b[0m\u001b[0;34m\u001b[0m\u001b[0;34m\u001b[0m\u001b[0m\n\u001b[1;32m   2316\u001b[0m         \u001b[0mreduction\u001b[0m \u001b[0;34m=\u001b[0m \u001b[0m_Reduction\u001b[0m\u001b[0;34m.\u001b[0m\u001b[0mlegacy_get_string\u001b[0m\u001b[0;34m(\u001b[0m\u001b[0msize_average\u001b[0m\u001b[0;34m,\u001b[0m \u001b[0mreduce\u001b[0m\u001b[0;34m)\u001b[0m\u001b[0;34m\u001b[0m\u001b[0;34m\u001b[0m\u001b[0m\n\u001b[0;32m-> 2317\u001b[0;31m     \u001b[0;32mreturn\u001b[0m \u001b[0mnll_loss\u001b[0m\u001b[0;34m(\u001b[0m\u001b[0mlog_softmax\u001b[0m\u001b[0;34m(\u001b[0m\u001b[0minput\u001b[0m\u001b[0;34m,\u001b[0m \u001b[0;36m1\u001b[0m\u001b[0;34m)\u001b[0m\u001b[0;34m,\u001b[0m \u001b[0mtarget\u001b[0m\u001b[0;34m,\u001b[0m \u001b[0mweight\u001b[0m\u001b[0;34m,\u001b[0m \u001b[0;32mNone\u001b[0m\u001b[0;34m,\u001b[0m \u001b[0mignore_index\u001b[0m\u001b[0;34m,\u001b[0m \u001b[0;32mNone\u001b[0m\u001b[0;34m,\u001b[0m \u001b[0mreduction\u001b[0m\u001b[0;34m)\u001b[0m\u001b[0;34m\u001b[0m\u001b[0;34m\u001b[0m\u001b[0m\n\u001b[0m\u001b[1;32m   2318\u001b[0m \u001b[0;34m\u001b[0m\u001b[0m\n\u001b[1;32m   2319\u001b[0m \u001b[0;34m\u001b[0m\u001b[0m\n",
            "\u001b[0;32m/usr/local/lib/python3.6/dist-packages/torch/nn/functional.py\u001b[0m in \u001b[0;36mnll_loss\u001b[0;34m(input, target, weight, size_average, ignore_index, reduce, reduction)\u001b[0m\n\u001b[1;32m   2123\u001b[0m         \u001b[0;32mif\u001b[0m \u001b[0mtarget\u001b[0m\u001b[0;34m.\u001b[0m\u001b[0msize\u001b[0m\u001b[0;34m(\u001b[0m\u001b[0;34m)\u001b[0m\u001b[0;34m[\u001b[0m\u001b[0;36m1\u001b[0m\u001b[0;34m:\u001b[0m\u001b[0;34m]\u001b[0m \u001b[0;34m!=\u001b[0m \u001b[0minput\u001b[0m\u001b[0;34m.\u001b[0m\u001b[0msize\u001b[0m\u001b[0;34m(\u001b[0m\u001b[0;34m)\u001b[0m\u001b[0;34m[\u001b[0m\u001b[0;36m2\u001b[0m\u001b[0;34m:\u001b[0m\u001b[0;34m]\u001b[0m\u001b[0;34m:\u001b[0m\u001b[0;34m\u001b[0m\u001b[0;34m\u001b[0m\u001b[0m\n\u001b[1;32m   2124\u001b[0m             raise ValueError('Expected target size {}, got {}'.format(\n\u001b[0;32m-> 2125\u001b[0;31m                 out_size, target.size()))\n\u001b[0m\u001b[1;32m   2126\u001b[0m         \u001b[0minput\u001b[0m \u001b[0;34m=\u001b[0m \u001b[0minput\u001b[0m\u001b[0;34m.\u001b[0m\u001b[0mcontiguous\u001b[0m\u001b[0;34m(\u001b[0m\u001b[0;34m)\u001b[0m\u001b[0;34m\u001b[0m\u001b[0;34m\u001b[0m\u001b[0m\n\u001b[1;32m   2127\u001b[0m         \u001b[0mtarget\u001b[0m \u001b[0;34m=\u001b[0m \u001b[0mtarget\u001b[0m\u001b[0;34m.\u001b[0m\u001b[0mcontiguous\u001b[0m\u001b[0;34m(\u001b[0m\u001b[0;34m)\u001b[0m\u001b[0;34m\u001b[0m\u001b[0;34m\u001b[0m\u001b[0m\n",
            "\u001b[0;31mValueError\u001b[0m: Expected target size (1, 110, 110, 110), got torch.Size([1, 1, 110, 110, 110])"
          ]
        }
      ]
    },
    {
      "cell_type": "code",
      "metadata": {
        "id": "Mr7hVFaFWUuP",
        "colab_type": "code",
        "colab": {}
      },
      "source": [
        "from functools import partial\n"
      ],
      "execution_count": 5,
      "outputs": []
    },
    {
      "cell_type": "code",
      "metadata": {
        "id": "IjbZ9qW1XzGs",
        "colab_type": "code",
        "colab": {}
      },
      "source": [
        "!export CUDA_LAUNCH_BLOCKING=1"
      ],
      "execution_count": 2,
      "outputs": []
    },
    {
      "cell_type": "code",
      "metadata": {
        "id": "cIqP3h-BcikQ",
        "colab_type": "code",
        "colab": {
          "base_uri": "https://localhost:8080/",
          "height": 143
        },
        "outputId": "5abf424f-e01e-4d8d-bb2b-ac4f76ce19ab"
      },
      "source": [
        "from torch.nn.modules.loss import _WeightedLoss\n",
        "from torch import Tensor\n",
        "from torch import nn\n",
        "class MyOwnCrossEntropyLoss(_WeightedLoss):\n",
        "    def __init__(self, weight: Tensor = None, size_average=None, ignore_index: int = -100,\n",
        "                 reduce=None, reduction: str = 'mean') -> None:\n",
        "        super(MyOwnCrossEntropyLoss, self).__init__(weight, size_average, reduce, reduction)\n",
        "        self.ignore_index = ignore_index\n",
        "\n",
        "    def forward(self, input: Tensor, target: Tensor) -> Tensor:\n",
        "        return F.cross_entropy(input, target.squeeze(0).long(), weight=self.weight,\n",
        "                               ignore_index=self.ignore_index, reduction=self.reduction)\n",
        "\n",
        "\n",
        "class MyWeightedCrossEntropyLoss(nn.Module):\n",
        "    \"\"\"WeightedCrossEntropyLoss (WCE) as described in https://arxiv.org/pdf/1707.03237.pdf\n",
        "    \"\"\"\n",
        "\n",
        "    def __init__(self, ignore_index=-1):\n",
        "        super(MyWeightedCrossEntropyLoss, self).__init__()\n",
        "        self.ignore_index = ignore_index\n",
        "\n",
        "    def forward(self, input, target):\n",
        "        weight = self._class_weights(input)\n",
        "        return F.cross_entropy(input, target.squeeze(0).long(), weight=weight, ignore_index=self.ignore_index)\n",
        "\n",
        "    @staticmethod\n",
        "    def _class_weights(input):\n",
        "        # normalize the input first\n",
        "        input = F.softmax(input, dim=1)\n",
        "        flattened = flatten(input)\n",
        "        nominator = (1. - flattened).sum(-1)\n",
        "        denominator = flattened.sum(-1)\n",
        "        class_weights = Variable(nominator / denominator, requires_grad=False)\n",
        "        return class_weights\n",
        "\n",
        "\n",
        "import torch \n",
        "model = UNet3D(in_channels=1, out_channels=1, final_sigmoid=False)\n",
        "metric = MeanIoU()\n",
        "metric.__name__ = 'MeanIoU'\n",
        "learner = faiv.Learner(idb, model, loss_func=MyWeightedCrossEntropyLoss(), metrics=[metric], opt_func=torch.optim.Adam)\n",
        "learner.lr_find()\n"
      ],
      "execution_count": 3,
      "outputs": [
        {
          "output_type": "display_data",
          "data": {
            "text/html": [
              "\n",
              "    <div>\n",
              "        <style>\n",
              "            /* Turns off some styling */\n",
              "            progress {\n",
              "                /* gets rid of default border in Firefox and Opera. */\n",
              "                border: none;\n",
              "                /* Needs to be in here for Safari polyfill so background images work as expected. */\n",
              "                background-size: auto;\n",
              "            }\n",
              "            .progress-bar-interrupted, .progress-bar-interrupted::-webkit-progress-bar {\n",
              "                background: #F44336;\n",
              "            }\n",
              "        </style>\n",
              "      <progress value='1' class='' max='2' style='width:300px; height:20px; vertical-align: middle;'></progress>\n",
              "      50.00% [1/2 03:22<03:22]\n",
              "    </div>\n",
              "    \n",
              "<table border=\"1\" class=\"dataframe\">\n",
              "  <thead>\n",
              "    <tr style=\"text-align: left;\">\n",
              "      <th>epoch</th>\n",
              "      <th>train_loss</th>\n",
              "      <th>valid_loss</th>\n",
              "      <th>MeanIoU</th>\n",
              "      <th>time</th>\n",
              "    </tr>\n",
              "  </thead>\n",
              "  <tbody>\n",
              "    <tr>\n",
              "      <td>0</td>\n",
              "      <td>0.000000</td>\n",
              "      <td>#na#</td>\n",
              "      <td>03:22</td>\n",
              "    </tr>\n",
              "  </tbody>\n",
              "</table><p>\n",
              "\n",
              "    <div>\n",
              "        <style>\n",
              "            /* Turns off some styling */\n",
              "            progress {\n",
              "                /* gets rid of default border in Firefox and Opera. */\n",
              "                border: none;\n",
              "                /* Needs to be in here for Safari polyfill so background images work as expected. */\n",
              "                background-size: auto;\n",
              "            }\n",
              "            .progress-bar-interrupted, .progress-bar-interrupted::-webkit-progress-bar {\n",
              "                background: #F44336;\n",
              "            }\n",
              "        </style>\n",
              "      <progress value='48' class='' max='51' style='width:300px; height:20px; vertical-align: middle;'></progress>\n",
              "      94.12% [48/51 02:59<00:11 0.0000]\n",
              "    </div>\n",
              "    "
            ],
            "text/plain": [
              "<IPython.core.display.HTML object>"
            ]
          },
          "metadata": {
            "tags": []
          }
        },
        {
          "output_type": "stream",
          "text": [
            "LR Finder is complete, type {learner_name}.recorder.plot() to see the graph.\n"
          ],
          "name": "stdout"
        }
      ]
    },
    {
      "cell_type": "code",
      "metadata": {
        "id": "ZuN_Q43ScljG",
        "colab_type": "code",
        "colab": {
          "base_uri": "https://localhost:8080/",
          "height": 279
        },
        "outputId": "e8827843-c6a8-48b7-9668-62ae4ba1563e"
      },
      "source": [
        "learner.recorder.plot()"
      ],
      "execution_count": 4,
      "outputs": [
        {
          "output_type": "display_data",
          "data": {
            "image/png": "[encoded data removed]",
            "text/plain": [
              "<Figure size 432x288 with 1 Axes>"
            ]
          },
          "metadata": {
            "tags": [],
            "needs_background": "light"
          }
        }
      ]
    },
    {
      "cell_type": "code",
      "metadata": {
        "id": "1YiXgGF-cFe4",
        "colab_type": "code",
        "colab": {
          "base_uri": "https://localhost:8080/",
          "height": 143
        },
        "outputId": "9f5ece9e-bfce-494c-dbbc-0f217dbf7d0b"
      },
      "source": [
        "\n",
        "import torch \n",
        "model = UNet3D(in_channels=1, out_channels=1, final_sigmoid=False)\n",
        "metric = MeanIoU()\n",
        "metric.__name__ = 'MeanIoU'\n",
        "learner = faiv.Learner(idb, model, loss_func=BCEDiceLoss(0.5,0.5), metrics=[metric], opt_func=torch.optim.Adam)\n",
        "learner.lr_find()"
      ],
      "execution_count": 5,
      "outputs": [
        {
          "output_type": "display_data",
          "data": {
            "text/html": [
              "\n",
              "    <div>\n",
              "        <style>\n",
              "            /* Turns off some styling */\n",
              "            progress {\n",
              "                /* gets rid of default border in Firefox and Opera. */\n",
              "                border: none;\n",
              "                /* Needs to be in here for Safari polyfill so background images work as expected. */\n",
              "                background-size: auto;\n",
              "            }\n",
              "            .progress-bar-interrupted, .progress-bar-interrupted::-webkit-progress-bar {\n",
              "                background: #F44336;\n",
              "            }\n",
              "        </style>\n",
              "      <progress value='1' class='' max='2' style='width:300px; height:20px; vertical-align: middle;'></progress>\n",
              "      50.00% [1/2 03:10<03:10]\n",
              "    </div>\n",
              "    \n",
              "<table border=\"1\" class=\"dataframe\">\n",
              "  <thead>\n",
              "    <tr style=\"text-align: left;\">\n",
              "      <th>epoch</th>\n",
              "      <th>train_loss</th>\n",
              "      <th>valid_loss</th>\n",
              "      <th>MeanIoU</th>\n",
              "      <th>time</th>\n",
              "    </tr>\n",
              "  </thead>\n",
              "  <tbody>\n",
              "    <tr>\n",
              "      <td>0</td>\n",
              "      <td>0.692059</td>\n",
              "      <td>#na#</td>\n",
              "      <td>03:10</td>\n",
              "    </tr>\n",
              "  </tbody>\n",
              "</table><p>\n",
              "\n",
              "    <div>\n",
              "        <style>\n",
              "            /* Turns off some styling */\n",
              "            progress {\n",
              "                /* gets rid of default border in Firefox and Opera. */\n",
              "                border: none;\n",
              "                /* Needs to be in here for Safari polyfill so background images work as expected. */\n",
              "                background-size: auto;\n",
              "            }\n",
              "            .progress-bar-interrupted, .progress-bar-interrupted::-webkit-progress-bar {\n",
              "                background: #F44336;\n",
              "            }\n",
              "        </style>\n",
              "      <progress value='48' class='' max='51' style='width:300px; height:20px; vertical-align: middle;'></progress>\n",
              "      94.12% [48/51 03:00<00:11 0.7139]\n",
              "    </div>\n",
              "    "
            ],
            "text/plain": [
              "<IPython.core.display.HTML object>"
            ]
          },
          "metadata": {
            "tags": []
          }
        },
        {
          "output_type": "stream",
          "text": [
            "LR Finder is complete, type {learner_name}.recorder.plot() to see the graph.\n"
          ],
          "name": "stdout"
        }
      ]
    },
    {
      "cell_type": "code",
      "metadata": {
        "id": "azBce_D2eNXn",
        "colab_type": "code",
        "colab": {
          "base_uri": "https://localhost:8080/",
          "height": 279
        },
        "outputId": "9e0944d3-eebc-451d-b661-a74960381d4c"
      },
      "source": [
        "learner.recorder.plot()"
      ],
      "execution_count": 6,
      "outputs": [
        {
          "output_type": "display_data",
          "data": {
            "image/png": "[encoded data removed]",
            "text/plain": [
              "<Figure size 432x288 with 1 Axes>"
            ]
          },
          "metadata": {
            "tags": [],
            "needs_background": "light"
          }
        }
      ]
    },
    {
      "cell_type": "code",
      "metadata": {
        "id": "nTYuCrRbfr47",
        "colab_type": "code",
        "colab": {
          "base_uri": "https://localhost:8080/",
          "height": 95
        },
        "outputId": "73c1e4ec-34ca-44c0-d7eb-dd5d1dcd55a9"
      },
      "source": [
        "learner.fit_one_cycle(10, max_lr=slice(1e+00), pct_start=0.8)"
      ],
      "execution_count": null,
      "outputs": [
        {
          "output_type": "display_data",
          "data": {
            "text/html": [
              "\n",
              "    <div>\n",
              "        <style>\n",
              "            /* Turns off some styling */\n",
              "            progress {\n",
              "                /* gets rid of default border in Firefox and Opera. */\n",
              "                border: none;\n",
              "                /* Needs to be in here for Safari polyfill so background images work as expected. */\n",
              "                background-size: auto;\n",
              "            }\n",
              "            .progress-bar-interrupted, .progress-bar-interrupted::-webkit-progress-bar {\n",
              "                background: #F44336;\n",
              "            }\n",
              "        </style>\n",
              "      <progress value='0' class='' max='10' style='width:300px; height:20px; vertical-align: middle;'></progress>\n",
              "      0.00% [0/10 00:00<00:00]\n",
              "    </div>\n",
              "    \n",
              "<table border=\"1\" class=\"dataframe\">\n",
              "  <thead>\n",
              "    <tr style=\"text-align: left;\">\n",
              "      <th>epoch</th>\n",
              "      <th>train_loss</th>\n",
              "      <th>valid_loss</th>\n",
              "      <th>MeanIoU</th>\n",
              "      <th>time</th>\n",
              "    </tr>\n",
              "  </thead>\n",
              "  <tbody>\n",
              "  </tbody>\n",
              "</table><p>\n",
              "\n",
              "    <div>\n",
              "        <style>\n",
              "            /* Turns off some styling */\n",
              "            progress {\n",
              "                /* gets rid of default border in Firefox and Opera. */\n",
              "                border: none;\n",
              "                /* Needs to be in here for Safari polyfill so background images work as expected. */\n",
              "                background-size: auto;\n",
              "            }\n",
              "            .progress-bar-interrupted, .progress-bar-interrupted::-webkit-progress-bar {\n",
              "                background: #F44336;\n",
              "            }\n",
              "        </style>\n",
              "      <progress value='38' class='' max='51' style='width:300px; height:20px; vertical-align: middle;'></progress>\n",
              "      74.51% [38/51 02:18<00:47 0.5105]\n",
              "    </div>\n",
              "    "
            ],
            "text/plain": [
              "<IPython.core.display.HTML object>"
            ]
          },
          "metadata": {
            "tags": []
          }
        }
      ]
    },
    {
      "cell_type": "code",
      "metadata": {
        "id": "5XAUmkiygAv8",
        "colab_type": "code",
        "colab": {}
      },
      "source": [
        ""
      ],
      "execution_count": null,
      "outputs": []
    }
  ]
}