{
  "nbformat": 4,
  "nbformat_minor": 0,
  "metadata": {
    "colab": {
      "name": "using_wolny_package_for_segmentation.ipynb",
      "provenance": [],
      "collapsed_sections": [],
      "include_colab_link": true
    },
    "kernelspec": {
      "name": "python3",
      "display_name": "Python 3"
    },
    "accelerator": "GPU"
  },
  "cells": [
    {
      "cell_type": "markdown",
      "metadata": {
        "id": "view-in-github",
        "colab_type": "text"
      },
      "source": [
        "<a href=\"https://colab.research.google.com/github/s-mostafa-a/lung-cancer-segmentation/blob/master/using_wolny_package_for_segmentation.ipynb\" target=\"_parent\"><img src=\"https://colab.research.google.com/assets/colab-badge.svg\" alt=\"Open In Colab\"/></a>"
      ]
    },
    {
      "cell_type": "code",
      "metadata": {
        "id": "VqX8FtHFBUsC",
        "colab_type": "code",
        "colab": {}
      },
      "source": [
        "def _cn_t_d():\n",
        "  from google.colab import drive\n",
        "  drive.mount(\"/content/drive\")"
      ],
      "execution_count": 1,
      "outputs": []
    },
    {
      "cell_type": "code",
      "metadata": {
        "id": "anQKAPFR0gVd",
        "colab_type": "code",
        "colab": {}
      },
      "source": [
        "def _untar_data():\n",
        "  !tar -xf ./drive/My\\ Drive/Copy_Task06_Lung.tar -C ./"
      ],
      "execution_count": 2,
      "outputs": []
    },
    {
      "cell_type": "code",
      "metadata": {
        "id": "BIhnVsuZxyD6",
        "colab_type": "code",
        "colab": {}
      },
      "source": [
        "def connect_to_drive():\n",
        "  !mkdir drive\n",
        "  _cn_t_d()\n",
        "  _untar_data()"
      ],
      "execution_count": 3,
      "outputs": []
    },
    {
      "cell_type": "code",
      "metadata": {
        "id": "To7cAfecER4z",
        "colab_type": "code",
        "colab": {}
      },
      "source": [
        "def install_all_needed_packages():\n",
        "  !pip install git+git://github.com/s-mostafa-a/niftidataset.git\n",
        "  !git clone https://github.com/wolny/pytorch-3dunet.git\n",
        "  !pip install hdbscan\n",
        "  !mv ./pytorch-3dunet ./p3dun"
      ],
      "execution_count": 4,
      "outputs": []
    },
    {
      "cell_type": "code",
      "metadata": {
        "id": "5RIFgY_D1Efz",
        "colab_type": "code",
        "colab": {}
      },
      "source": [
        "def make_databunch():\n",
        "  np.random.seed(1)\n",
        "  train_dir = '/content/Task06_Lung/'\n",
        "  tfms = tvt.Compose([ToTensor(), RandomCrop3D(110), TrimIntensity(-1000.0,1000.0,0.0,255.0), Normalize(is_3d=True)])\n",
        "  tds, vds = train_val_split(source_dir=train_dir+'imagesTr', target_dir=train_dir+'labelsTr', valid_pct=0.2, transform=tfms)\n",
        "  print(len(tds), len(vds))\n",
        "  idb = faiv.ImageDataBunch.create(tds, vds, bs=1, num_workers=1)\n",
        "  return idb"
      ],
      "execution_count": 7,
      "outputs": []
    },
    {
      "cell_type": "code",
      "metadata": {
        "id": "1YiXgGF-cFe4",
        "colab_type": "code",
        "colab": {}
      },
      "source": [
        "def make_learner(idb):\n",
        "  model = UNet3D(in_channels=1, out_channels=1, final_sigmoid=True)\n",
        "  metric = metrics.DiceCoefficient()\n",
        "  metric.__name__ = 'DiceCoefficient'\n",
        "  learner = faiv.Learner(idb, model, loss_func=losses.BCEDiceLoss(alpha=0.3, beta=0.7), metrics=[metric], opt_func=torch.optim.Adam)\n",
        "  return learner\n"
      ],
      "execution_count": 8,
      "outputs": []
    },
    {
      "cell_type": "code",
      "metadata": {
        "id": "0JydO7JulNEf",
        "colab_type": "code",
        "colab": {}
      },
      "source": [
        "connect_to_drive()\n",
        "install_all_needed_packages()"
      ],
      "execution_count": null,
      "outputs": []
    },
    {
      "cell_type": "code",
      "metadata": {
        "id": "Ev1K3wBJDsGT",
        "colab_type": "code",
        "colab": {}
      },
      "source": [
        "import numpy as np\n",
        "import os\n",
        "import sys\n",
        "module_path = os.path.abspath(os.path.join('./p3dun/'))\n",
        "if module_path not in sys.path:\n",
        "    sys.path.append(module_path)"
      ],
      "execution_count": 9,
      "outputs": []
    },
    {
      "cell_type": "code",
      "metadata": {
        "id": "GhwNjlyCtS2o",
        "colab_type": "code",
        "colab": {}
      },
      "source": [
        "from p3dun.pytorch3dunet.unet3d.model import UNet3D, ResidualUNet3D\n",
        "from pytorch3dunet.unet3d import losses\n",
        "from pytorch3dunet.unet3d import metrics\n",
        "from niftidataset import NiftiDataset, train_val_split, RandomCrop3D, ToTensor, Normalize, TrimIntensity\n",
        "from torchvision import transforms as tvt\n",
        "from torch.nn import BCEWithLogitsLoss\n",
        "import torch \n",
        "from fastai import vision as faiv\n",
        "%matplotlib inline\n",
        "%load_ext autoreload\n",
        "%autoreload 2\n",
        "!export CUDA_LAUNCH_BLOCKING=1"
      ],
      "execution_count": 10,
      "outputs": []
    },
    {
      "cell_type": "markdown",
      "metadata": {
        "id": "31b40jQRnqfK",
        "colab_type": "text"
      },
      "source": [
        "Because 3d image size are in like this: (512,512,z) which z range is from 112 to 465, I thougth it would be good if I crop each 3D image from it's third axis (z) and fix that in a constant like 110. This way raw data loss becomes so little. for example if we have an image sized (512,512, 112) we would generate an image (512,512,110), Also if we had an image sized (512, 512, 373) we would generate 3 images with sizes (512,512,110) which it covers 330 out of 373 from z of original raw data.\n",
        "\n",
        "But when I used it with size (512,512,110), cuda went out of memory and it needed more RAM. Also I found some paper which they cropped this dataset's images to size (64,64,64)! which I thought their data loss would be so high. But anyway I went a way similar to their way and cropped original images to the size (110,110,110) which almost contains 8 times more data (and less data loss) from that paper.\n",
        "\n",
        "So I wrote below classes which use some features of [this code](https://github.com/jcreinhold/niftidataset). It used a single image 5 times and cropped each randomly, but I thought It will not be useful because np.random.seed() makes each time just one crop. officially it wouldn't help.\n"
      ]
    },
    {
      "cell_type": "code",
      "metadata": {
        "id": "1U4bnBFtvL_6",
        "colab_type": "code",
        "colab": {}
      },
      "source": [
        "from typing import Callable, List, Optional\n",
        "import nibabel as nib\n",
        "import numpy as np\n",
        "from PIL import Image\n",
        "from torch.utils.data.dataset import Dataset\n",
        "from glob import glob\n",
        "\n",
        "def glob_imgs(path: str, ext='*.nii*') -> List[str]:\n",
        "    \"\"\" grab all `ext` files in a directory and sort them for consistency \"\"\"\n",
        "    fns = sorted(glob(os.path.join(path, ext)))\n",
        "    return fns\n",
        "\n",
        "class ChangedNiftiDataset(Dataset):\n",
        "    \"\"\"\n",
        "    create a dataset class in PyTorch for reading NIfTI files\n",
        "\n",
        "    Args:\n",
        "        source_fns (List[str]): list of paths to source images\n",
        "        target_fns (List[str]): list of paths to target images\n",
        "        transform (Callable): transform to apply to both source and target images\n",
        "        preload (bool): load all data when initializing the dataset\n",
        "    \"\"\"\n",
        "\n",
        "    def __init__(self, source_fns:List[str], target_fns:List[str], transform:Optional[Callable]=None, preload:bool=False):\n",
        "        self.source_fns, self.target_fns = source_fns, target_fns\n",
        "        self.transform = transform\n",
        "        self.preload = True\n",
        "        self.source_fns *= 5\n",
        "        self.target_fns *= 5\n",
        "        print(f'{self.source_fns}\\n{self.target_fns}')\n",
        "        self.imgs = [(nib.load(s).get_data(), nib.load(t).get_data())\n",
        "                         for s, t in zip(self.source_fns, self.target_fns)]\n",
        "\n",
        "    @classmethod\n",
        "    def setup_from_dir(cls, source_dir:str, target_dir:str, transform:Optional[Callable]=None, preload:bool=False):\n",
        "        source_fns, target_fns = glob_imgs(source_dir), glob_imgs(target_dir)\n",
        "        return cls(source_fns, target_fns, transform, preload)\n",
        "\n",
        "    def __len__(self):\n",
        "        return len(self.source_fns)\n",
        "\n",
        "    def __getitem__(self, idx:int):\n",
        "        if not self.preload:\n",
        "            src_fn, tgt_fn = self.source_fns[idx], self.target_fns[idx]\n",
        "            sample = (nib.load(src_fn).get_fdata(dtype=np.float32), nib.load(tgt_fn).get_fdata(dtype=np.float32))\n",
        "        else:\n",
        "            sample = self.imgs[idx]\n",
        "        if self.transform is not None:\n",
        "            sample = self.transform(sample)\n",
        "        return sample\n",
        "\n",
        "\n",
        "def changed_train_val_split(source_dir:str, target_dir:str, valid_pct:float=0.2,\n",
        "                    transform:Optional[Callable]=None, preload:bool=False):\n",
        "    \"\"\"\n",
        "    create two separate NiftiDatasets in PyTorch for working with NifTi files. If a directory contains source files\n",
        "    and the other one contains target files and also you dont have a specific directory for validation set,\n",
        "    this function splits data to two NiftiDatasets randomly with given percentage.\n",
        "\n",
        "    Args:\n",
        "        source_dir (str): path to source images.\n",
        "        target_dir (str): path to target images.\n",
        "        valid_pct (float): percent of validation set from data.\n",
        "        transform (Callable): transform to apply to both source and target images.\n",
        "        preload: load all data when initializing the dataset\n",
        "    Returns:\n",
        "        Tuple: (train_dataset, validation_dataset).\n",
        "    \"\"\"\n",
        "    if not (0 < valid_pct < 1):\n",
        "        raise ValueError(f'valid_pct must be between 0 and 1')\n",
        "    source_fns, target_fns = glob_imgs(source_dir), glob_imgs(target_dir)\n",
        "    rand_idx = np.random.permutation(list(range(len(source_fns))))\n",
        "    cut = int(valid_pct * len(source_fns))\n",
        "    return (ChangedNiftiDataset(source_fns=[source_fns[i] for i in rand_idx[cut:]],\n",
        "                         target_fns=[target_fns[i] for i in rand_idx[cut:]],\n",
        "                         transform=transform, preload=preload),\n",
        "            ChangedNiftiDataset(source_fns=[source_fns[i] for i in rand_idx[:cut]],\n",
        "                         target_fns=[target_fns[i] for i in rand_idx[:cut]],\n",
        "                         transform=transform, preload=preload))\n",
        "\n"
      ],
      "execution_count": null,
      "outputs": []
    },
    {
      "cell_type": "code",
      "metadata": {
        "id": "feooXTtb-mlS",
        "colab_type": "code",
        "colab": {
          "base_uri": "https://localhost:8080/",
          "height": 139
        },
        "outputId": "2f3bcaf0-04a5-45e8-e1ad-caab4b07a62c"
      },
      "source": [
        "# np.random.seed(1)\n",
        "# train_dir = '/content/Task06_Lung/'\n",
        "# tfms = tvt.Compose([ToTensor(), Normalize()])\n",
        "# tds, vds = changed_train_val_split(source_dir=train_dir+'imagesTr', target_dir=train_dir+'labelsTr', valid_pct=0.2, transform=tfms)"
      ],
      "execution_count": null,
      "outputs": [
        {
          "output_type": "stream",
          "text": [
            "['/content/Task06_Lung/imagesTr/lung_053.nii.gz', '/content/Task06_Lung/imagesTr/lung_042.nii.gz', '/content/Task06_Lung/imagesTr/lung_083.nii.gz', '/content/Task06_Lung/imagesTr/lung_071.nii.gz', '/content/Task06_Lung/imagesTr/lung_005.nii.gz', '/content/Task06_Lung/imagesTr/lung_059.nii.gz', '/content/Task06_Lung/imagesTr/lung_054.nii.gz', '/content/Task06_Lung/imagesTr/lung_018.nii.gz', '/content/Task06_Lung/imagesTr/lung_081.nii.gz', '/content/Task06_Lung/imagesTr/lung_031.nii.gz', '/content/Task06_Lung/imagesTr/lung_051.nii.gz', '/content/Task06_Lung/imagesTr/lung_092.nii.gz', '/content/Task06_Lung/imagesTr/lung_028.nii.gz', '/content/Task06_Lung/imagesTr/lung_080.nii.gz', '/content/Task06_Lung/imagesTr/lung_078.nii.gz', '/content/Task06_Lung/imagesTr/lung_070.nii.gz', '/content/Task06_Lung/imagesTr/lung_049.nii.gz', '/content/Task06_Lung/imagesTr/lung_074.nii.gz', '/content/Task06_Lung/imagesTr/lung_047.nii.gz', '/content/Task06_Lung/imagesTr/lung_086.nii.gz', '/content/Task06_Lung/imagesTr/lung_023.nii.gz', '/content/Task06_Lung/imagesTr/lung_036.nii.gz', '/content/Task06_Lung/imagesTr/lung_048.nii.gz', '/content/Task06_Lung/imagesTr/lung_046.nii.gz', '/content/Task06_Lung/imagesTr/lung_073.nii.gz', '/content/Task06_Lung/imagesTr/lung_037.nii.gz', '/content/Task06_Lung/imagesTr/lung_006.nii.gz', '/content/Task06_Lung/imagesTr/lung_025.nii.gz', '/content/Task06_Lung/imagesTr/lung_045.nii.gz', '/content/Task06_Lung/imagesTr/lung_044.nii.gz', '/content/Task06_Lung/imagesTr/lung_084.nii.gz', '/content/Task06_Lung/imagesTr/lung_069.nii.gz', '/content/Task06_Lung/imagesTr/lung_029.nii.gz', '/content/Task06_Lung/imagesTr/lung_096.nii.gz', '/content/Task06_Lung/imagesTr/lung_033.nii.gz', '/content/Task06_Lung/imagesTr/lung_041.nii.gz', '/content/Task06_Lung/imagesTr/lung_010.nii.gz', '/content/Task06_Lung/imagesTr/lung_066.nii.gz', '/content/Task06_Lung/imagesTr/lung_014.nii.gz', '/content/Task06_Lung/imagesTr/lung_093.nii.gz', '/content/Task06_Lung/imagesTr/lung_003.nii.gz', '/content/Task06_Lung/imagesTr/lung_027.nii.gz', '/content/Task06_Lung/imagesTr/lung_001.nii.gz', '/content/Task06_Lung/imagesTr/lung_026.nii.gz', '/content/Task06_Lung/imagesTr/lung_009.nii.gz', '/content/Task06_Lung/imagesTr/lung_020.nii.gz', '/content/Task06_Lung/imagesTr/lung_016.nii.gz', '/content/Task06_Lung/imagesTr/lung_015.nii.gz', '/content/Task06_Lung/imagesTr/lung_022.nii.gz', '/content/Task06_Lung/imagesTr/lung_064.nii.gz', '/content/Task06_Lung/imagesTr/lung_055.nii.gz', '/content/Task06_Lung/imagesTr/lung_053.nii.gz', '/content/Task06_Lung/imagesTr/lung_042.nii.gz', '/content/Task06_Lung/imagesTr/lung_083.nii.gz', '/content/Task06_Lung/imagesTr/lung_071.nii.gz', '/content/Task06_Lung/imagesTr/lung_005.nii.gz', '/content/Task06_Lung/imagesTr/lung_059.nii.gz', '/content/Task06_Lung/imagesTr/lung_054.nii.gz', '/content/Task06_Lung/imagesTr/lung_018.nii.gz', '/content/Task06_Lung/imagesTr/lung_081.nii.gz', '/content/Task06_Lung/imagesTr/lung_031.nii.gz', '/content/Task06_Lung/imagesTr/lung_051.nii.gz', '/content/Task06_Lung/imagesTr/lung_092.nii.gz', '/content/Task06_Lung/imagesTr/lung_028.nii.gz', '/content/Task06_Lung/imagesTr/lung_080.nii.gz', '/content/Task06_Lung/imagesTr/lung_078.nii.gz', '/content/Task06_Lung/imagesTr/lung_070.nii.gz', '/content/Task06_Lung/imagesTr/lung_049.nii.gz', '/content/Task06_Lung/imagesTr/lung_074.nii.gz', '/content/Task06_Lung/imagesTr/lung_047.nii.gz', '/content/Task06_Lung/imagesTr/lung_086.nii.gz', '/content/Task06_Lung/imagesTr/lung_023.nii.gz', '/content/Task06_Lung/imagesTr/lung_036.nii.gz', '/content/Task06_Lung/imagesTr/lung_048.nii.gz', '/content/Task06_Lung/imagesTr/lung_046.nii.gz', '/content/Task06_Lung/imagesTr/lung_073.nii.gz', '/content/Task06_Lung/imagesTr/lung_037.nii.gz', '/content/Task06_Lung/imagesTr/lung_006.nii.gz', '/content/Task06_Lung/imagesTr/lung_025.nii.gz', '/content/Task06_Lung/imagesTr/lung_045.nii.gz', '/content/Task06_Lung/imagesTr/lung_044.nii.gz', '/content/Task06_Lung/imagesTr/lung_084.nii.gz', '/content/Task06_Lung/imagesTr/lung_069.nii.gz', '/content/Task06_Lung/imagesTr/lung_029.nii.gz', '/content/Task06_Lung/imagesTr/lung_096.nii.gz', '/content/Task06_Lung/imagesTr/lung_033.nii.gz', '/content/Task06_Lung/imagesTr/lung_041.nii.gz', '/content/Task06_Lung/imagesTr/lung_010.nii.gz', '/content/Task06_Lung/imagesTr/lung_066.nii.gz', '/content/Task06_Lung/imagesTr/lung_014.nii.gz', '/content/Task06_Lung/imagesTr/lung_093.nii.gz', '/content/Task06_Lung/imagesTr/lung_003.nii.gz', '/content/Task06_Lung/imagesTr/lung_027.nii.gz', '/content/Task06_Lung/imagesTr/lung_001.nii.gz', '/content/Task06_Lung/imagesTr/lung_026.nii.gz', '/content/Task06_Lung/imagesTr/lung_009.nii.gz', '/content/Task06_Lung/imagesTr/lung_020.nii.gz', '/content/Task06_Lung/imagesTr/lung_016.nii.gz', '/content/Task06_Lung/imagesTr/lung_015.nii.gz', '/content/Task06_Lung/imagesTr/lung_022.nii.gz', '/content/Task06_Lung/imagesTr/lung_064.nii.gz', '/content/Task06_Lung/imagesTr/lung_055.nii.gz', '/content/Task06_Lung/imagesTr/lung_053.nii.gz', '/content/Task06_Lung/imagesTr/lung_042.nii.gz', '/content/Task06_Lung/imagesTr/lung_083.nii.gz', '/content/Task06_Lung/imagesTr/lung_071.nii.gz', '/content/Task06_Lung/imagesTr/lung_005.nii.gz', '/content/Task06_Lung/imagesTr/lung_059.nii.gz', '/content/Task06_Lung/imagesTr/lung_054.nii.gz', '/content/Task06_Lung/imagesTr/lung_018.nii.gz', '/content/Task06_Lung/imagesTr/lung_081.nii.gz', '/content/Task06_Lung/imagesTr/lung_031.nii.gz', '/content/Task06_Lung/imagesTr/lung_051.nii.gz', '/content/Task06_Lung/imagesTr/lung_092.nii.gz', '/content/Task06_Lung/imagesTr/lung_028.nii.gz', '/content/Task06_Lung/imagesTr/lung_080.nii.gz', '/content/Task06_Lung/imagesTr/lung_078.nii.gz', '/content/Task06_Lung/imagesTr/lung_070.nii.gz', '/content/Task06_Lung/imagesTr/lung_049.nii.gz', '/content/Task06_Lung/imagesTr/lung_074.nii.gz', '/content/Task06_Lung/imagesTr/lung_047.nii.gz', '/content/Task06_Lung/imagesTr/lung_086.nii.gz', '/content/Task06_Lung/imagesTr/lung_023.nii.gz', '/content/Task06_Lung/imagesTr/lung_036.nii.gz', '/content/Task06_Lung/imagesTr/lung_048.nii.gz', '/content/Task06_Lung/imagesTr/lung_046.nii.gz', '/content/Task06_Lung/imagesTr/lung_073.nii.gz', '/content/Task06_Lung/imagesTr/lung_037.nii.gz', '/content/Task06_Lung/imagesTr/lung_006.nii.gz', '/content/Task06_Lung/imagesTr/lung_025.nii.gz', '/content/Task06_Lung/imagesTr/lung_045.nii.gz', '/content/Task06_Lung/imagesTr/lung_044.nii.gz', '/content/Task06_Lung/imagesTr/lung_084.nii.gz', '/content/Task06_Lung/imagesTr/lung_069.nii.gz', '/content/Task06_Lung/imagesTr/lung_029.nii.gz', '/content/Task06_Lung/imagesTr/lung_096.nii.gz', '/content/Task06_Lung/imagesTr/lung_033.nii.gz', '/content/Task06_Lung/imagesTr/lung_041.nii.gz', '/content/Task06_Lung/imagesTr/lung_010.nii.gz', '/content/Task06_Lung/imagesTr/lung_066.nii.gz', '/content/Task06_Lung/imagesTr/lung_014.nii.gz', '/content/Task06_Lung/imagesTr/lung_093.nii.gz', '/content/Task06_Lung/imagesTr/lung_003.nii.gz', '/content/Task06_Lung/imagesTr/lung_027.nii.gz', '/content/Task06_Lung/imagesTr/lung_001.nii.gz', '/content/Task06_Lung/imagesTr/lung_026.nii.gz', '/content/Task06_Lung/imagesTr/lung_009.nii.gz', '/content/Task06_Lung/imagesTr/lung_020.nii.gz', '/content/Task06_Lung/imagesTr/lung_016.nii.gz', '/content/Task06_Lung/imagesTr/lung_015.nii.gz', '/content/Task06_Lung/imagesTr/lung_022.nii.gz', '/content/Task06_Lung/imagesTr/lung_064.nii.gz', '/content/Task06_Lung/imagesTr/lung_055.nii.gz', '/content/Task06_Lung/imagesTr/lung_053.nii.gz', '/content/Task06_Lung/imagesTr/lung_042.nii.gz', '/content/Task06_Lung/imagesTr/lung_083.nii.gz', '/content/Task06_Lung/imagesTr/lung_071.nii.gz', '/content/Task06_Lung/imagesTr/lung_005.nii.gz', '/content/Task06_Lung/imagesTr/lung_059.nii.gz', '/content/Task06_Lung/imagesTr/lung_054.nii.gz', '/content/Task06_Lung/imagesTr/lung_018.nii.gz', '/content/Task06_Lung/imagesTr/lung_081.nii.gz', '/content/Task06_Lung/imagesTr/lung_031.nii.gz', '/content/Task06_Lung/imagesTr/lung_051.nii.gz', '/content/Task06_Lung/imagesTr/lung_092.nii.gz', '/content/Task06_Lung/imagesTr/lung_028.nii.gz', '/content/Task06_Lung/imagesTr/lung_080.nii.gz', '/content/Task06_Lung/imagesTr/lung_078.nii.gz', '/content/Task06_Lung/imagesTr/lung_070.nii.gz', '/content/Task06_Lung/imagesTr/lung_049.nii.gz', '/content/Task06_Lung/imagesTr/lung_074.nii.gz', '/content/Task06_Lung/imagesTr/lung_047.nii.gz', '/content/Task06_Lung/imagesTr/lung_086.nii.gz', '/content/Task06_Lung/imagesTr/lung_023.nii.gz', '/content/Task06_Lung/imagesTr/lung_036.nii.gz', '/content/Task06_Lung/imagesTr/lung_048.nii.gz', '/content/Task06_Lung/imagesTr/lung_046.nii.gz', '/content/Task06_Lung/imagesTr/lung_073.nii.gz', '/content/Task06_Lung/imagesTr/lung_037.nii.gz', '/content/Task06_Lung/imagesTr/lung_006.nii.gz', '/content/Task06_Lung/imagesTr/lung_025.nii.gz', '/content/Task06_Lung/imagesTr/lung_045.nii.gz', '/content/Task06_Lung/imagesTr/lung_044.nii.gz', '/content/Task06_Lung/imagesTr/lung_084.nii.gz', '/content/Task06_Lung/imagesTr/lung_069.nii.gz', '/content/Task06_Lung/imagesTr/lung_029.nii.gz', '/content/Task06_Lung/imagesTr/lung_096.nii.gz', '/content/Task06_Lung/imagesTr/lung_033.nii.gz', '/content/Task06_Lung/imagesTr/lung_041.nii.gz', '/content/Task06_Lung/imagesTr/lung_010.nii.gz', '/content/Task06_Lung/imagesTr/lung_066.nii.gz', '/content/Task06_Lung/imagesTr/lung_014.nii.gz', '/content/Task06_Lung/imagesTr/lung_093.nii.gz', '/content/Task06_Lung/imagesTr/lung_003.nii.gz', '/content/Task06_Lung/imagesTr/lung_027.nii.gz', '/content/Task06_Lung/imagesTr/lung_001.nii.gz', '/content/Task06_Lung/imagesTr/lung_026.nii.gz', '/content/Task06_Lung/imagesTr/lung_009.nii.gz', '/content/Task06_Lung/imagesTr/lung_020.nii.gz', '/content/Task06_Lung/imagesTr/lung_016.nii.gz', '/content/Task06_Lung/imagesTr/lung_015.nii.gz', '/content/Task06_Lung/imagesTr/lung_022.nii.gz', '/content/Task06_Lung/imagesTr/lung_064.nii.gz', '/content/Task06_Lung/imagesTr/lung_055.nii.gz', '/content/Task06_Lung/imagesTr/lung_053.nii.gz', '/content/Task06_Lung/imagesTr/lung_042.nii.gz', '/content/Task06_Lung/imagesTr/lung_083.nii.gz', '/content/Task06_Lung/imagesTr/lung_071.nii.gz', '/content/Task06_Lung/imagesTr/lung_005.nii.gz', '/content/Task06_Lung/imagesTr/lung_059.nii.gz', '/content/Task06_Lung/imagesTr/lung_054.nii.gz', '/content/Task06_Lung/imagesTr/lung_018.nii.gz', '/content/Task06_Lung/imagesTr/lung_081.nii.gz', '/content/Task06_Lung/imagesTr/lung_031.nii.gz', '/content/Task06_Lung/imagesTr/lung_051.nii.gz', '/content/Task06_Lung/imagesTr/lung_092.nii.gz', '/content/Task06_Lung/imagesTr/lung_028.nii.gz', '/content/Task06_Lung/imagesTr/lung_080.nii.gz', '/content/Task06_Lung/imagesTr/lung_078.nii.gz', '/content/Task06_Lung/imagesTr/lung_070.nii.gz', '/content/Task06_Lung/imagesTr/lung_049.nii.gz', '/content/Task06_Lung/imagesTr/lung_074.nii.gz', '/content/Task06_Lung/imagesTr/lung_047.nii.gz', '/content/Task06_Lung/imagesTr/lung_086.nii.gz', '/content/Task06_Lung/imagesTr/lung_023.nii.gz', '/content/Task06_Lung/imagesTr/lung_036.nii.gz', '/content/Task06_Lung/imagesTr/lung_048.nii.gz', '/content/Task06_Lung/imagesTr/lung_046.nii.gz', '/content/Task06_Lung/imagesTr/lung_073.nii.gz', '/content/Task06_Lung/imagesTr/lung_037.nii.gz', '/content/Task06_Lung/imagesTr/lung_006.nii.gz', '/content/Task06_Lung/imagesTr/lung_025.nii.gz', '/content/Task06_Lung/imagesTr/lung_045.nii.gz', '/content/Task06_Lung/imagesTr/lung_044.nii.gz', '/content/Task06_Lung/imagesTr/lung_084.nii.gz', '/content/Task06_Lung/imagesTr/lung_069.nii.gz', '/content/Task06_Lung/imagesTr/lung_029.nii.gz', '/content/Task06_Lung/imagesTr/lung_096.nii.gz', '/content/Task06_Lung/imagesTr/lung_033.nii.gz', '/content/Task06_Lung/imagesTr/lung_041.nii.gz', '/content/Task06_Lung/imagesTr/lung_010.nii.gz', '/content/Task06_Lung/imagesTr/lung_066.nii.gz', '/content/Task06_Lung/imagesTr/lung_014.nii.gz', '/content/Task06_Lung/imagesTr/lung_093.nii.gz', '/content/Task06_Lung/imagesTr/lung_003.nii.gz', '/content/Task06_Lung/imagesTr/lung_027.nii.gz', '/content/Task06_Lung/imagesTr/lung_001.nii.gz', '/content/Task06_Lung/imagesTr/lung_026.nii.gz', '/content/Task06_Lung/imagesTr/lung_009.nii.gz', '/content/Task06_Lung/imagesTr/lung_020.nii.gz', '/content/Task06_Lung/imagesTr/lung_016.nii.gz', '/content/Task06_Lung/imagesTr/lung_015.nii.gz', '/content/Task06_Lung/imagesTr/lung_022.nii.gz', '/content/Task06_Lung/imagesTr/lung_064.nii.gz', '/content/Task06_Lung/imagesTr/lung_055.nii.gz']\n",
            "['/content/Task06_Lung/labelsTr/lung_053.nii.gz', '/content/Task06_Lung/labelsTr/lung_042.nii.gz', '/content/Task06_Lung/labelsTr/lung_083.nii.gz', '/content/Task06_Lung/labelsTr/lung_071.nii.gz', '/content/Task06_Lung/labelsTr/lung_005.nii.gz', '/content/Task06_Lung/labelsTr/lung_059.nii.gz', '/content/Task06_Lung/labelsTr/lung_054.nii.gz', '/content/Task06_Lung/labelsTr/lung_018.nii.gz', '/content/Task06_Lung/labelsTr/lung_081.nii.gz', '/content/Task06_Lung/labelsTr/lung_031.nii.gz', '/content/Task06_Lung/labelsTr/lung_051.nii.gz', '/content/Task06_Lung/labelsTr/lung_092.nii.gz', '/content/Task06_Lung/labelsTr/lung_028.nii.gz', '/content/Task06_Lung/labelsTr/lung_080.nii.gz', '/content/Task06_Lung/labelsTr/lung_078.nii.gz', '/content/Task06_Lung/labelsTr/lung_070.nii.gz', '/content/Task06_Lung/labelsTr/lung_049.nii.gz', '/content/Task06_Lung/labelsTr/lung_074.nii.gz', '/content/Task06_Lung/labelsTr/lung_047.nii.gz', '/content/Task06_Lung/labelsTr/lung_086.nii.gz', '/content/Task06_Lung/labelsTr/lung_023.nii.gz', '/content/Task06_Lung/labelsTr/lung_036.nii.gz', '/content/Task06_Lung/labelsTr/lung_048.nii.gz', '/content/Task06_Lung/labelsTr/lung_046.nii.gz', '/content/Task06_Lung/labelsTr/lung_073.nii.gz', '/content/Task06_Lung/labelsTr/lung_037.nii.gz', '/content/Task06_Lung/labelsTr/lung_006.nii.gz', '/content/Task06_Lung/labelsTr/lung_025.nii.gz', '/content/Task06_Lung/labelsTr/lung_045.nii.gz', '/content/Task06_Lung/labelsTr/lung_044.nii.gz', '/content/Task06_Lung/labelsTr/lung_084.nii.gz', '/content/Task06_Lung/labelsTr/lung_069.nii.gz', '/content/Task06_Lung/labelsTr/lung_029.nii.gz', '/content/Task06_Lung/labelsTr/lung_096.nii.gz', '/content/Task06_Lung/labelsTr/lung_033.nii.gz', '/content/Task06_Lung/labelsTr/lung_041.nii.gz', '/content/Task06_Lung/labelsTr/lung_010.nii.gz', '/content/Task06_Lung/labelsTr/lung_066.nii.gz', '/content/Task06_Lung/labelsTr/lung_014.nii.gz', '/content/Task06_Lung/labelsTr/lung_093.nii.gz', '/content/Task06_Lung/labelsTr/lung_003.nii.gz', '/content/Task06_Lung/labelsTr/lung_027.nii.gz', '/content/Task06_Lung/labelsTr/lung_001.nii.gz', '/content/Task06_Lung/labelsTr/lung_026.nii.gz', '/content/Task06_Lung/labelsTr/lung_009.nii.gz', '/content/Task06_Lung/labelsTr/lung_020.nii.gz', '/content/Task06_Lung/labelsTr/lung_016.nii.gz', '/content/Task06_Lung/labelsTr/lung_015.nii.gz', '/content/Task06_Lung/labelsTr/lung_022.nii.gz', '/content/Task06_Lung/labelsTr/lung_064.nii.gz', '/content/Task06_Lung/labelsTr/lung_055.nii.gz', '/content/Task06_Lung/labelsTr/lung_053.nii.gz', '/content/Task06_Lung/labelsTr/lung_042.nii.gz', '/content/Task06_Lung/labelsTr/lung_083.nii.gz', '/content/Task06_Lung/labelsTr/lung_071.nii.gz', '/content/Task06_Lung/labelsTr/lung_005.nii.gz', '/content/Task06_Lung/labelsTr/lung_059.nii.gz', '/content/Task06_Lung/labelsTr/lung_054.nii.gz', '/content/Task06_Lung/labelsTr/lung_018.nii.gz', '/content/Task06_Lung/labelsTr/lung_081.nii.gz', '/content/Task06_Lung/labelsTr/lung_031.nii.gz', '/content/Task06_Lung/labelsTr/lung_051.nii.gz', '/content/Task06_Lung/labelsTr/lung_092.nii.gz', '/content/Task06_Lung/labelsTr/lung_028.nii.gz', '/content/Task06_Lung/labelsTr/lung_080.nii.gz', '/content/Task06_Lung/labelsTr/lung_078.nii.gz', '/content/Task06_Lung/labelsTr/lung_070.nii.gz', '/content/Task06_Lung/labelsTr/lung_049.nii.gz', '/content/Task06_Lung/labelsTr/lung_074.nii.gz', '/content/Task06_Lung/labelsTr/lung_047.nii.gz', '/content/Task06_Lung/labelsTr/lung_086.nii.gz', '/content/Task06_Lung/labelsTr/lung_023.nii.gz', '/content/Task06_Lung/labelsTr/lung_036.nii.gz', '/content/Task06_Lung/labelsTr/lung_048.nii.gz', '/content/Task06_Lung/labelsTr/lung_046.nii.gz', '/content/Task06_Lung/labelsTr/lung_073.nii.gz', '/content/Task06_Lung/labelsTr/lung_037.nii.gz', '/content/Task06_Lung/labelsTr/lung_006.nii.gz', '/content/Task06_Lung/labelsTr/lung_025.nii.gz', '/content/Task06_Lung/labelsTr/lung_045.nii.gz', '/content/Task06_Lung/labelsTr/lung_044.nii.gz', '/content/Task06_Lung/labelsTr/lung_084.nii.gz', '/content/Task06_Lung/labelsTr/lung_069.nii.gz', '/content/Task06_Lung/labelsTr/lung_029.nii.gz', '/content/Task06_Lung/labelsTr/lung_096.nii.gz', '/content/Task06_Lung/labelsTr/lung_033.nii.gz', '/content/Task06_Lung/labelsTr/lung_041.nii.gz', '/content/Task06_Lung/labelsTr/lung_010.nii.gz', '/content/Task06_Lung/labelsTr/lung_066.nii.gz', '/content/Task06_Lung/labelsTr/lung_014.nii.gz', '/content/Task06_Lung/labelsTr/lung_093.nii.gz', '/content/Task06_Lung/labelsTr/lung_003.nii.gz', '/content/Task06_Lung/labelsTr/lung_027.nii.gz', '/content/Task06_Lung/labelsTr/lung_001.nii.gz', '/content/Task06_Lung/labelsTr/lung_026.nii.gz', '/content/Task06_Lung/labelsTr/lung_009.nii.gz', '/content/Task06_Lung/labelsTr/lung_020.nii.gz', '/content/Task06_Lung/labelsTr/lung_016.nii.gz', '/content/Task06_Lung/labelsTr/lung_015.nii.gz', '/content/Task06_Lung/labelsTr/lung_022.nii.gz', '/content/Task06_Lung/labelsTr/lung_064.nii.gz', '/content/Task06_Lung/labelsTr/lung_055.nii.gz', '/content/Task06_Lung/labelsTr/lung_053.nii.gz', '/content/Task06_Lung/labelsTr/lung_042.nii.gz', '/content/Task06_Lung/labelsTr/lung_083.nii.gz', '/content/Task06_Lung/labelsTr/lung_071.nii.gz', '/content/Task06_Lung/labelsTr/lung_005.nii.gz', '/content/Task06_Lung/labelsTr/lung_059.nii.gz', '/content/Task06_Lung/labelsTr/lung_054.nii.gz', '/content/Task06_Lung/labelsTr/lung_018.nii.gz', '/content/Task06_Lung/labelsTr/lung_081.nii.gz', '/content/Task06_Lung/labelsTr/lung_031.nii.gz', '/content/Task06_Lung/labelsTr/lung_051.nii.gz', '/content/Task06_Lung/labelsTr/lung_092.nii.gz', '/content/Task06_Lung/labelsTr/lung_028.nii.gz', '/content/Task06_Lung/labelsTr/lung_080.nii.gz', '/content/Task06_Lung/labelsTr/lung_078.nii.gz', '/content/Task06_Lung/labelsTr/lung_070.nii.gz', '/content/Task06_Lung/labelsTr/lung_049.nii.gz', '/content/Task06_Lung/labelsTr/lung_074.nii.gz', '/content/Task06_Lung/labelsTr/lung_047.nii.gz', '/content/Task06_Lung/labelsTr/lung_086.nii.gz', '/content/Task06_Lung/labelsTr/lung_023.nii.gz', '/content/Task06_Lung/labelsTr/lung_036.nii.gz', '/content/Task06_Lung/labelsTr/lung_048.nii.gz', '/content/Task06_Lung/labelsTr/lung_046.nii.gz', '/content/Task06_Lung/labelsTr/lung_073.nii.gz', '/content/Task06_Lung/labelsTr/lung_037.nii.gz', '/content/Task06_Lung/labelsTr/lung_006.nii.gz', '/content/Task06_Lung/labelsTr/lung_025.nii.gz', '/content/Task06_Lung/labelsTr/lung_045.nii.gz', '/content/Task06_Lung/labelsTr/lung_044.nii.gz', '/content/Task06_Lung/labelsTr/lung_084.nii.gz', '/content/Task06_Lung/labelsTr/lung_069.nii.gz', '/content/Task06_Lung/labelsTr/lung_029.nii.gz', '/content/Task06_Lung/labelsTr/lung_096.nii.gz', '/content/Task06_Lung/labelsTr/lung_033.nii.gz', '/content/Task06_Lung/labelsTr/lung_041.nii.gz', '/content/Task06_Lung/labelsTr/lung_010.nii.gz', '/content/Task06_Lung/labelsTr/lung_066.nii.gz', '/content/Task06_Lung/labelsTr/lung_014.nii.gz', '/content/Task06_Lung/labelsTr/lung_093.nii.gz', '/content/Task06_Lung/labelsTr/lung_003.nii.gz', '/content/Task06_Lung/labelsTr/lung_027.nii.gz', '/content/Task06_Lung/labelsTr/lung_001.nii.gz', '/content/Task06_Lung/labelsTr/lung_026.nii.gz', '/content/Task06_Lung/labelsTr/lung_009.nii.gz', '/content/Task06_Lung/labelsTr/lung_020.nii.gz', '/content/Task06_Lung/labelsTr/lung_016.nii.gz', '/content/Task06_Lung/labelsTr/lung_015.nii.gz', '/content/Task06_Lung/labelsTr/lung_022.nii.gz', '/content/Task06_Lung/labelsTr/lung_064.nii.gz', '/content/Task06_Lung/labelsTr/lung_055.nii.gz', '/content/Task06_Lung/labelsTr/lung_053.nii.gz', '/content/Task06_Lung/labelsTr/lung_042.nii.gz', '/content/Task06_Lung/labelsTr/lung_083.nii.gz', '/content/Task06_Lung/labelsTr/lung_071.nii.gz', '/content/Task06_Lung/labelsTr/lung_005.nii.gz', '/content/Task06_Lung/labelsTr/lung_059.nii.gz', '/content/Task06_Lung/labelsTr/lung_054.nii.gz', '/content/Task06_Lung/labelsTr/lung_018.nii.gz', '/content/Task06_Lung/labelsTr/lung_081.nii.gz', '/content/Task06_Lung/labelsTr/lung_031.nii.gz', '/content/Task06_Lung/labelsTr/lung_051.nii.gz', '/content/Task06_Lung/labelsTr/lung_092.nii.gz', '/content/Task06_Lung/labelsTr/lung_028.nii.gz', '/content/Task06_Lung/labelsTr/lung_080.nii.gz', '/content/Task06_Lung/labelsTr/lung_078.nii.gz', '/content/Task06_Lung/labelsTr/lung_070.nii.gz', '/content/Task06_Lung/labelsTr/lung_049.nii.gz', '/content/Task06_Lung/labelsTr/lung_074.nii.gz', '/content/Task06_Lung/labelsTr/lung_047.nii.gz', '/content/Task06_Lung/labelsTr/lung_086.nii.gz', '/content/Task06_Lung/labelsTr/lung_023.nii.gz', '/content/Task06_Lung/labelsTr/lung_036.nii.gz', '/content/Task06_Lung/labelsTr/lung_048.nii.gz', '/content/Task06_Lung/labelsTr/lung_046.nii.gz', '/content/Task06_Lung/labelsTr/lung_073.nii.gz', '/content/Task06_Lung/labelsTr/lung_037.nii.gz', '/content/Task06_Lung/labelsTr/lung_006.nii.gz', '/content/Task06_Lung/labelsTr/lung_025.nii.gz', '/content/Task06_Lung/labelsTr/lung_045.nii.gz', '/content/Task06_Lung/labelsTr/lung_044.nii.gz', '/content/Task06_Lung/labelsTr/lung_084.nii.gz', '/content/Task06_Lung/labelsTr/lung_069.nii.gz', '/content/Task06_Lung/labelsTr/lung_029.nii.gz', '/content/Task06_Lung/labelsTr/lung_096.nii.gz', '/content/Task06_Lung/labelsTr/lung_033.nii.gz', '/content/Task06_Lung/labelsTr/lung_041.nii.gz', '/content/Task06_Lung/labelsTr/lung_010.nii.gz', '/content/Task06_Lung/labelsTr/lung_066.nii.gz', '/content/Task06_Lung/labelsTr/lung_014.nii.gz', '/content/Task06_Lung/labelsTr/lung_093.nii.gz', '/content/Task06_Lung/labelsTr/lung_003.nii.gz', '/content/Task06_Lung/labelsTr/lung_027.nii.gz', '/content/Task06_Lung/labelsTr/lung_001.nii.gz', '/content/Task06_Lung/labelsTr/lung_026.nii.gz', '/content/Task06_Lung/labelsTr/lung_009.nii.gz', '/content/Task06_Lung/labelsTr/lung_020.nii.gz', '/content/Task06_Lung/labelsTr/lung_016.nii.gz', '/content/Task06_Lung/labelsTr/lung_015.nii.gz', '/content/Task06_Lung/labelsTr/lung_022.nii.gz', '/content/Task06_Lung/labelsTr/lung_064.nii.gz', '/content/Task06_Lung/labelsTr/lung_055.nii.gz', '/content/Task06_Lung/labelsTr/lung_053.nii.gz', '/content/Task06_Lung/labelsTr/lung_042.nii.gz', '/content/Task06_Lung/labelsTr/lung_083.nii.gz', '/content/Task06_Lung/labelsTr/lung_071.nii.gz', '/content/Task06_Lung/labelsTr/lung_005.nii.gz', '/content/Task06_Lung/labelsTr/lung_059.nii.gz', '/content/Task06_Lung/labelsTr/lung_054.nii.gz', '/content/Task06_Lung/labelsTr/lung_018.nii.gz', '/content/Task06_Lung/labelsTr/lung_081.nii.gz', '/content/Task06_Lung/labelsTr/lung_031.nii.gz', '/content/Task06_Lung/labelsTr/lung_051.nii.gz', '/content/Task06_Lung/labelsTr/lung_092.nii.gz', '/content/Task06_Lung/labelsTr/lung_028.nii.gz', '/content/Task06_Lung/labelsTr/lung_080.nii.gz', '/content/Task06_Lung/labelsTr/lung_078.nii.gz', '/content/Task06_Lung/labelsTr/lung_070.nii.gz', '/content/Task06_Lung/labelsTr/lung_049.nii.gz', '/content/Task06_Lung/labelsTr/lung_074.nii.gz', '/content/Task06_Lung/labelsTr/lung_047.nii.gz', '/content/Task06_Lung/labelsTr/lung_086.nii.gz', '/content/Task06_Lung/labelsTr/lung_023.nii.gz', '/content/Task06_Lung/labelsTr/lung_036.nii.gz', '/content/Task06_Lung/labelsTr/lung_048.nii.gz', '/content/Task06_Lung/labelsTr/lung_046.nii.gz', '/content/Task06_Lung/labelsTr/lung_073.nii.gz', '/content/Task06_Lung/labelsTr/lung_037.nii.gz', '/content/Task06_Lung/labelsTr/lung_006.nii.gz', '/content/Task06_Lung/labelsTr/lung_025.nii.gz', '/content/Task06_Lung/labelsTr/lung_045.nii.gz', '/content/Task06_Lung/labelsTr/lung_044.nii.gz', '/content/Task06_Lung/labelsTr/lung_084.nii.gz', '/content/Task06_Lung/labelsTr/lung_069.nii.gz', '/content/Task06_Lung/labelsTr/lung_029.nii.gz', '/content/Task06_Lung/labelsTr/lung_096.nii.gz', '/content/Task06_Lung/labelsTr/lung_033.nii.gz', '/content/Task06_Lung/labelsTr/lung_041.nii.gz', '/content/Task06_Lung/labelsTr/lung_010.nii.gz', '/content/Task06_Lung/labelsTr/lung_066.nii.gz', '/content/Task06_Lung/labelsTr/lung_014.nii.gz', '/content/Task06_Lung/labelsTr/lung_093.nii.gz', '/content/Task06_Lung/labelsTr/lung_003.nii.gz', '/content/Task06_Lung/labelsTr/lung_027.nii.gz', '/content/Task06_Lung/labelsTr/lung_001.nii.gz', '/content/Task06_Lung/labelsTr/lung_026.nii.gz', '/content/Task06_Lung/labelsTr/lung_009.nii.gz', '/content/Task06_Lung/labelsTr/lung_020.nii.gz', '/content/Task06_Lung/labelsTr/lung_016.nii.gz', '/content/Task06_Lung/labelsTr/lung_015.nii.gz', '/content/Task06_Lung/labelsTr/lung_022.nii.gz', '/content/Task06_Lung/labelsTr/lung_064.nii.gz', '/content/Task06_Lung/labelsTr/lung_055.nii.gz']\n"
          ],
          "name": "stdout"
        },
        {
          "output_type": "stream",
          "text": [
            "/usr/local/lib/python3.6/dist-packages/ipykernel_launcher.py:32: DeprecationWarning: get_data() is deprecated in favor of get_fdata(), which has a more predictable return type. To obtain get_data() behavior going forward, use numpy.asanyarray(img.dataobj).\n",
            "\n",
            "* deprecated from version: 3.0\n",
            "* Will raise <class 'nibabel.deprecator.ExpiredDeprecationError'> as of version: 5.0\n"
          ],
          "name": "stderr"
        }
      ]
    },
    {
      "cell_type": "code",
      "metadata": {
        "id": "azBce_D2eNXn",
        "colab_type": "code",
        "colab": {
          "base_uri": "https://localhost:8080/",
          "height": 34
        },
        "outputId": "40b9427c-129a-46a9-cb4d-a56bbe7a8654"
      },
      "source": [
        "idb = make_databunch()\n",
        "learner = make_learner(idb)\n",
        "\n",
        "\n",
        "# learner.lr_find(start_lr=1e-10, end_lr=10)\n",
        "# learner.recorder.plot()\n",
        "# found that 1e+00 works fine"
      ],
      "execution_count": 11,
      "outputs": [
        {
          "output_type": "stream",
          "text": [
            "51 12\n"
          ],
          "name": "stdout"
        }
      ]
    },
    {
      "cell_type": "code",
      "metadata": {
        "id": "V9Z4-vPwe-8N",
        "colab_type": "code",
        "colab": {
          "base_uri": "https://localhost:8080/",
          "height": 405
        },
        "outputId": "e876df22-b9dc-451c-8873-100ce9d8f225"
      },
      "source": [
        "learner.lr_find(start_lr=1e-10, end_lr=10)\n",
        "learner.recorder.plot()\n",
        "# found that 1e+00 works fine"
      ],
      "execution_count": 12,
      "outputs": [
        {
          "output_type": "display_data",
          "data": {
            "text/html": [
              "\n",
              "    <div>\n",
              "        <style>\n",
              "            /* Turns off some styling */\n",
              "            progress {\n",
              "                /* gets rid of default border in Firefox and Opera. */\n",
              "                border: none;\n",
              "                /* Needs to be in here for Safari polyfill so background images work as expected. */\n",
              "                background-size: auto;\n",
              "            }\n",
              "            .progress-bar-interrupted, .progress-bar-interrupted::-webkit-progress-bar {\n",
              "                background: #F44336;\n",
              "            }\n",
              "        </style>\n",
              "      <progress value='1' class='' max='2' style='width:300px; height:20px; vertical-align: middle;'></progress>\n",
              "      50.00% [1/2 09:09<09:09]\n",
              "    </div>\n",
              "    \n",
              "<table border=\"1\" class=\"dataframe\">\n",
              "  <thead>\n",
              "    <tr style=\"text-align: left;\">\n",
              "      <th>epoch</th>\n",
              "      <th>train_loss</th>\n",
              "      <th>valid_loss</th>\n",
              "      <th>DiceCoefficient</th>\n",
              "      <th>time</th>\n",
              "    </tr>\n",
              "  </thead>\n",
              "  <tbody>\n",
              "    <tr>\n",
              "      <td>0</td>\n",
              "      <td>0.884388</td>\n",
              "      <td>#na#</td>\n",
              "      <td>09:09</td>\n",
              "    </tr>\n",
              "  </tbody>\n",
              "</table><p>\n",
              "\n",
              "    <div>\n",
              "        <style>\n",
              "            /* Turns off some styling */\n",
              "            progress {\n",
              "                /* gets rid of default border in Firefox and Opera. */\n",
              "                border: none;\n",
              "                /* Needs to be in here for Safari polyfill so background images work as expected. */\n",
              "                background-size: auto;\n",
              "            }\n",
              "            .progress-bar-interrupted, .progress-bar-interrupted::-webkit-progress-bar {\n",
              "                background: #F44336;\n",
              "            }\n",
              "        </style>\n",
              "      <progress value='48' class='' max='51' style='width:300px; height:20px; vertical-align: middle;'></progress>\n",
              "      94.12% [48/51 08:31<00:31 1.0916]\n",
              "    </div>\n",
              "    "
            ],
            "text/plain": [
              "<IPython.core.display.HTML object>"
            ]
          },
          "metadata": {
            "tags": []
          }
        },
        {
          "output_type": "stream",
          "text": [
            "LR Finder is complete, type {learner_name}.recorder.plot() to see the graph.\n"
          ],
          "name": "stdout"
        },
        {
          "output_type": "display_data",
          "data": {
            "image/png": "[encoded data removed]",
            "text/plain": [
              "<Figure size 432x288 with 1 Axes>"
            ]
          },
          "metadata": {
            "tags": [],
            "needs_background": "light"
          }
        }
      ]
    },
    {
      "cell_type": "markdown",
      "metadata": {
        "id": "DVu8ZDbguZ9N",
        "colab_type": "text"
      },
      "source": [
        "**Loading the model from drive:**"
      ]
    },
    {
      "cell_type": "code",
      "metadata": {
        "id": "v8Ym27j9BvxK",
        "colab_type": "code",
        "colab": {}
      },
      "source": [
        "model_name = '3d_unet_model'"
      ],
      "execution_count": 17,
      "outputs": []
    },
    {
      "cell_type": "code",
      "metadata": {
        "id": "09tfGulHBoH_",
        "colab_type": "code",
        "colab": {}
      },
      "source": [
        "!rm -r ./models\n",
        "!mkdir ./models\n",
        "!cp ./drive/My\\ Drive/3d_unet_model.pth ./models/3d_unet_model.pth "
      ],
      "execution_count": null,
      "outputs": []
    },
    {
      "cell_type": "code",
      "metadata": {
        "id": "natTwtW5BwR4",
        "colab_type": "code",
        "colab": {
          "base_uri": "https://localhost:8080/"
        },
        "outputId": "c9ee8166-cf58-4ebf-e638-dbe3ad0dfc2b"
      },
      "source": [
        "learner.load(model_name)"
      ],
      "execution_count": 18,
      "outputs": [
        {
          "output_type": "execute_result",
          "data": {
            "text/plain": [
              "Learner(data=ImageDataBunch;\n",
              "\n",
              "Train: <niftidataset.dataset.NiftiDataset object at 0x7fa7b41f8b70>;\n",
              "\n",
              "Valid: <niftidataset.dataset.NiftiDataset object at 0x7fa7b41f8b00>;\n",
              "\n",
              "Test: None, model=UNet3D(\n",
              "  (encoders): ModuleList(\n",
              "    (0): Encoder(\n",
              "      (basic_module): DoubleConv(\n",
              "        (SingleConv1): SingleConv(\n",
              "          (groupnorm): GroupNorm(1, 1, eps=1e-05, affine=True)\n",
              "          (conv): Conv3d(1, 32, kernel_size=(3, 3, 3), stride=(1, 1, 1), padding=(1, 1, 1), bias=False)\n",
              "          (ReLU): ReLU(inplace=True)\n",
              "        )\n",
              "        (SingleConv2): SingleConv(\n",
              "          (groupnorm): GroupNorm(8, 32, eps=1e-05, affine=True)\n",
              "          (conv): Conv3d(32, 64, kernel_size=(3, 3, 3), stride=(1, 1, 1), padding=(1, 1, 1), bias=False)\n",
              "          (ReLU): ReLU(inplace=True)\n",
              "        )\n",
              "      )\n",
              "    )\n",
              "    (1): Encoder(\n",
              "      (pooling): MaxPool3d(kernel_size=2, stride=2, padding=0, dilation=1, ceil_mode=False)\n",
              "      (basic_module): DoubleConv(\n",
              "        (SingleConv1): SingleConv(\n",
              "          (groupnorm): GroupNorm(8, 64, eps=1e-05, affine=True)\n",
              "          (conv): Conv3d(64, 64, kernel_size=(3, 3, 3), stride=(1, 1, 1), padding=(1, 1, 1), bias=False)\n",
              "          (ReLU): ReLU(inplace=True)\n",
              "        )\n",
              "        (SingleConv2): SingleConv(\n",
              "          (groupnorm): GroupNorm(8, 64, eps=1e-05, affine=True)\n",
              "          (conv): Conv3d(64, 128, kernel_size=(3, 3, 3), stride=(1, 1, 1), padding=(1, 1, 1), bias=False)\n",
              "          (ReLU): ReLU(inplace=True)\n",
              "        )\n",
              "      )\n",
              "    )\n",
              "    (2): Encoder(\n",
              "      (pooling): MaxPool3d(kernel_size=2, stride=2, padding=0, dilation=1, ceil_mode=False)\n",
              "      (basic_module): DoubleConv(\n",
              "        (SingleConv1): SingleConv(\n",
              "          (groupnorm): GroupNorm(8, 128, eps=1e-05, affine=True)\n",
              "          (conv): Conv3d(128, 128, kernel_size=(3, 3, 3), stride=(1, 1, 1), padding=(1, 1, 1), bias=False)\n",
              "          (ReLU): ReLU(inplace=True)\n",
              "        )\n",
              "        (SingleConv2): SingleConv(\n",
              "          (groupnorm): GroupNorm(8, 128, eps=1e-05, affine=True)\n",
              "          (conv): Conv3d(128, 256, kernel_size=(3, 3, 3), stride=(1, 1, 1), padding=(1, 1, 1), bias=False)\n",
              "          (ReLU): ReLU(inplace=True)\n",
              "        )\n",
              "      )\n",
              "    )\n",
              "    (3): Encoder(\n",
              "      (pooling): MaxPool3d(kernel_size=2, stride=2, padding=0, dilation=1, ceil_mode=False)\n",
              "      (basic_module): DoubleConv(\n",
              "        (SingleConv1): SingleConv(\n",
              "          (groupnorm): GroupNorm(8, 256, eps=1e-05, affine=True)\n",
              "          (conv): Conv3d(256, 256, kernel_size=(3, 3, 3), stride=(1, 1, 1), padding=(1, 1, 1), bias=False)\n",
              "          (ReLU): ReLU(inplace=True)\n",
              "        )\n",
              "        (SingleConv2): SingleConv(\n",
              "          (groupnorm): GroupNorm(8, 256, eps=1e-05, affine=True)\n",
              "          (conv): Conv3d(256, 512, kernel_size=(3, 3, 3), stride=(1, 1, 1), padding=(1, 1, 1), bias=False)\n",
              "          (ReLU): ReLU(inplace=True)\n",
              "        )\n",
              "      )\n",
              "    )\n",
              "  )\n",
              "  (decoders): ModuleList(\n",
              "    (0): Decoder(\n",
              "      (upsampling): Upsampling()\n",
              "      (basic_module): DoubleConv(\n",
              "        (SingleConv1): SingleConv(\n",
              "          (groupnorm): GroupNorm(8, 768, eps=1e-05, affine=True)\n",
              "          (conv): Conv3d(768, 256, kernel_size=(3, 3, 3), stride=(1, 1, 1), padding=(1, 1, 1), bias=False)\n",
              "          (ReLU): ReLU(inplace=True)\n",
              "        )\n",
              "        (SingleConv2): SingleConv(\n",
              "          (groupnorm): GroupNorm(8, 256, eps=1e-05, affine=True)\n",
              "          (conv): Conv3d(256, 256, kernel_size=(3, 3, 3), stride=(1, 1, 1), padding=(1, 1, 1), bias=False)\n",
              "          (ReLU): ReLU(inplace=True)\n",
              "        )\n",
              "      )\n",
              "    )\n",
              "    (1): Decoder(\n",
              "      (upsampling): Upsampling()\n",
              "      (basic_module): DoubleConv(\n",
              "        (SingleConv1): SingleConv(\n",
              "          (groupnorm): GroupNorm(8, 384, eps=1e-05, affine=True)\n",
              "          (conv): Conv3d(384, 128, kernel_size=(3, 3, 3), stride=(1, 1, 1), padding=(1, 1, 1), bias=False)\n",
              "          (ReLU): ReLU(inplace=True)\n",
              "        )\n",
              "        (SingleConv2): SingleConv(\n",
              "          (groupnorm): GroupNorm(8, 128, eps=1e-05, affine=True)\n",
              "          (conv): Conv3d(128, 128, kernel_size=(3, 3, 3), stride=(1, 1, 1), padding=(1, 1, 1), bias=False)\n",
              "          (ReLU): ReLU(inplace=True)\n",
              "        )\n",
              "      )\n",
              "    )\n",
              "    (2): Decoder(\n",
              "      (upsampling): Upsampling()\n",
              "      (basic_module): DoubleConv(\n",
              "        (SingleConv1): SingleConv(\n",
              "          (groupnorm): GroupNorm(8, 192, eps=1e-05, affine=True)\n",
              "          (conv): Conv3d(192, 64, kernel_size=(3, 3, 3), stride=(1, 1, 1), padding=(1, 1, 1), bias=False)\n",
              "          (ReLU): ReLU(inplace=True)\n",
              "        )\n",
              "        (SingleConv2): SingleConv(\n",
              "          (groupnorm): GroupNorm(8, 64, eps=1e-05, affine=True)\n",
              "          (conv): Conv3d(64, 64, kernel_size=(3, 3, 3), stride=(1, 1, 1), padding=(1, 1, 1), bias=False)\n",
              "          (ReLU): ReLU(inplace=True)\n",
              "        )\n",
              "      )\n",
              "    )\n",
              "  )\n",
              "  (final_conv): Conv3d(64, 1, kernel_size=(1, 1, 1), stride=(1, 1, 1))\n",
              "  (final_activation): Sigmoid()\n",
              "), opt_func=<class 'torch.optim.adam.Adam'>, loss_func=BCEDiceLoss(\n",
              "  (bce): BCEWithLogitsLoss()\n",
              "  (dice): DiceLoss(\n",
              "    (normalization): Sigmoid()\n",
              "  )\n",
              "), metrics=[<pytorch3dunet.unet3d.metrics.DiceCoefficient object at 0x7fa7516c66d8>], true_wd=True, bn_wd=True, wd=0.01, train_bn=True, path=PosixPath('.'), model_dir='models', callback_fns=[functools.partial(<class 'fastai.basic_train.Recorder'>, add_time=True, silent=False)], callbacks=[], layer_groups=[Sequential(\n",
              "  (0): GroupNorm(1, 1, eps=1e-05, affine=True)\n",
              "  (1): Conv3d(1, 32, kernel_size=(3, 3, 3), stride=(1, 1, 1), padding=(1, 1, 1), bias=False)\n",
              "  (2): ReLU(inplace=True)\n",
              "  (3): GroupNorm(8, 32, eps=1e-05, affine=True)\n",
              "  (4): Conv3d(32, 64, kernel_size=(3, 3, 3), stride=(1, 1, 1), padding=(1, 1, 1), bias=False)\n",
              "  (5): ReLU(inplace=True)\n",
              "  (6): MaxPool3d(kernel_size=2, stride=2, padding=0, dilation=1, ceil_mode=False)\n",
              "  (7): GroupNorm(8, 64, eps=1e-05, affine=True)\n",
              "  (8): Conv3d(64, 64, kernel_size=(3, 3, 3), stride=(1, 1, 1), padding=(1, 1, 1), bias=False)\n",
              "  (9): ReLU(inplace=True)\n",
              "  (10): GroupNorm(8, 64, eps=1e-05, affine=True)\n",
              "  (11): Conv3d(64, 128, kernel_size=(3, 3, 3), stride=(1, 1, 1), padding=(1, 1, 1), bias=False)\n",
              "  (12): ReLU(inplace=True)\n",
              "  (13): MaxPool3d(kernel_size=2, stride=2, padding=0, dilation=1, ceil_mode=False)\n",
              "  (14): GroupNorm(8, 128, eps=1e-05, affine=True)\n",
              "  (15): Conv3d(128, 128, kernel_size=(3, 3, 3), stride=(1, 1, 1), padding=(1, 1, 1), bias=False)\n",
              "  (16): ReLU(inplace=True)\n",
              "  (17): GroupNorm(8, 128, eps=1e-05, affine=True)\n",
              "  (18): Conv3d(128, 256, kernel_size=(3, 3, 3), stride=(1, 1, 1), padding=(1, 1, 1), bias=False)\n",
              "  (19): ReLU(inplace=True)\n",
              "  (20): MaxPool3d(kernel_size=2, stride=2, padding=0, dilation=1, ceil_mode=False)\n",
              "  (21): GroupNorm(8, 256, eps=1e-05, affine=True)\n",
              "  (22): Conv3d(256, 256, kernel_size=(3, 3, 3), stride=(1, 1, 1), padding=(1, 1, 1), bias=False)\n",
              "  (23): ReLU(inplace=True)\n",
              "  (24): GroupNorm(8, 256, eps=1e-05, affine=True)\n",
              "  (25): Conv3d(256, 512, kernel_size=(3, 3, 3), stride=(1, 1, 1), padding=(1, 1, 1), bias=False)\n",
              "  (26): ReLU(inplace=True)\n",
              "  (27): Upsampling()\n",
              "  (28): GroupNorm(8, 768, eps=1e-05, affine=True)\n",
              "  (29): Conv3d(768, 256, kernel_size=(3, 3, 3), stride=(1, 1, 1), padding=(1, 1, 1), bias=False)\n",
              "  (30): ReLU(inplace=True)\n",
              "  (31): GroupNorm(8, 256, eps=1e-05, affine=True)\n",
              "  (32): Conv3d(256, 256, kernel_size=(3, 3, 3), stride=(1, 1, 1), padding=(1, 1, 1), bias=False)\n",
              "  (33): ReLU(inplace=True)\n",
              "  (34): Upsampling()\n",
              "  (35): GroupNorm(8, 384, eps=1e-05, affine=True)\n",
              "  (36): Conv3d(384, 128, kernel_size=(3, 3, 3), stride=(1, 1, 1), padding=(1, 1, 1), bias=False)\n",
              "  (37): ReLU(inplace=True)\n",
              "  (38): GroupNorm(8, 128, eps=1e-05, affine=True)\n",
              "  (39): Conv3d(128, 128, kernel_size=(3, 3, 3), stride=(1, 1, 1), padding=(1, 1, 1), bias=False)\n",
              "  (40): ReLU(inplace=True)\n",
              "  (41): Upsampling()\n",
              "  (42): GroupNorm(8, 192, eps=1e-05, affine=True)\n",
              "  (43): Conv3d(192, 64, kernel_size=(3, 3, 3), stride=(1, 1, 1), padding=(1, 1, 1), bias=False)\n",
              "  (44): ReLU(inplace=True)\n",
              "  (45): GroupNorm(8, 64, eps=1e-05, affine=True)\n",
              "  (46): Conv3d(64, 64, kernel_size=(3, 3, 3), stride=(1, 1, 1), padding=(1, 1, 1), bias=False)\n",
              "  (47): ReLU(inplace=True)\n",
              "  (48): Conv3d(64, 1, kernel_size=(1, 1, 1), stride=(1, 1, 1))\n",
              "  (49): Sigmoid()\n",
              ")], add_time=True, silent=False)"
            ]
          },
          "metadata": {
            "tags": []
          },
          "execution_count": 18
        }
      ]
    },
    {
      "cell_type": "code",
      "metadata": {
        "id": "nTYuCrRbfr47",
        "colab_type": "code",
        "colab": {
          "base_uri": "https://localhost:8080/",
          "height": 126
        },
        "outputId": "f4f03233-81ef-409c-9d93-df01b21d3196"
      },
      "source": [
        "learner.fit_one_cycle(10, max_lr=slice(1e-01), pct_start=0.5)"
      ],
      "execution_count": null,
      "outputs": [
        {
          "output_type": "display_data",
          "data": {
            "text/html": [
              "\n",
              "    <div>\n",
              "        <style>\n",
              "            /* Turns off some styling */\n",
              "            progress {\n",
              "                /* gets rid of default border in Firefox and Opera. */\n",
              "                border: none;\n",
              "                /* Needs to be in here for Safari polyfill so background images work as expected. */\n",
              "                background-size: auto;\n",
              "            }\n",
              "            .progress-bar-interrupted, .progress-bar-interrupted::-webkit-progress-bar {\n",
              "                background: #F44336;\n",
              "            }\n",
              "        </style>\n",
              "      <progress value='1' class='' max='10' style='width:300px; height:20px; vertical-align: middle;'></progress>\n",
              "      10.00% [1/10 09:44<1:27:38]\n",
              "    </div>\n",
              "    \n",
              "<table border=\"1\" class=\"dataframe\">\n",
              "  <thead>\n",
              "    <tr style=\"text-align: left;\">\n",
              "      <th>epoch</th>\n",
              "      <th>train_loss</th>\n",
              "      <th>valid_loss</th>\n",
              "      <th>DiceCoefficient</th>\n",
              "      <th>time</th>\n",
              "    </tr>\n",
              "  </thead>\n",
              "  <tbody>\n",
              "    <tr>\n",
              "      <td>0</td>\n",
              "      <td>7.247751</td>\n",
              "      <td>2.610833</td>\n",
              "      <td>-0.000000</td>\n",
              "      <td>09:44</td>\n",
              "    </tr>\n",
              "  </tbody>\n",
              "</table><p>\n",
              "\n",
              "    <div>\n",
              "        <style>\n",
              "            /* Turns off some styling */\n",
              "            progress {\n",
              "                /* gets rid of default border in Firefox and Opera. */\n",
              "                border: none;\n",
              "                /* Needs to be in here for Safari polyfill so background images work as expected. */\n",
              "                background-size: auto;\n",
              "            }\n",
              "            .progress-bar-interrupted, .progress-bar-interrupted::-webkit-progress-bar {\n",
              "                background: #F44336;\n",
              "            }\n",
              "        </style>\n",
              "      <progress value='16' class='' max='51' style='width:300px; height:20px; vertical-align: middle;'></progress>\n",
              "      31.37% [16/51 02:48<06:09 11.5209]\n",
              "    </div>\n",
              "    "
            ],
            "text/plain": [
              "<IPython.core.display.HTML object>"
            ]
          },
          "metadata": {
            "tags": []
          }
        }
      ]
    },
    {
      "cell_type": "markdown",
      "metadata": {
        "id": "0dLjDpWKbFlw",
        "colab_type": "text"
      },
      "source": [
        "As mentioned in the paper [Tversky loss function for image segmentation using 3D fully convolutional deep networks](https://arxiv.org/pdf/1706.05721.pdf), training process takes about 1000 epochs and best result is when beta equals to 0.7 (and alpha is 0.3)."
      ]
    },
    {
      "cell_type": "markdown",
      "metadata": {
        "id": "BSzo3CH1uPke",
        "colab_type": "text"
      },
      "source": [
        "**Saving model to drive:**"
      ]
    },
    {
      "cell_type": "code",
      "metadata": {
        "id": "-oDohsQou-1X",
        "colab_type": "code",
        "colab": {}
      },
      "source": [
        "learner.save(model_name)\n",
        "learner.load(model_name)"
      ],
      "execution_count": null,
      "outputs": []
    },
    {
      "cell_type": "code",
      "metadata": {
        "id": "AWmHVpaVs5kX",
        "colab_type": "code",
        "colab": {}
      },
      "source": [
        "!cp ./models/3d_unet_model.pth ./drive/My\\ Drive/3d_unet_model.pth"
      ],
      "execution_count": null,
      "outputs": []
    },
    {
      "cell_type": "code",
      "metadata": {
        "id": "cEqx3zJKCezz",
        "colab_type": "code",
        "colab": {}
      },
      "source": [
        ""
      ],
      "execution_count": null,
      "outputs": []
    }
  ]
}